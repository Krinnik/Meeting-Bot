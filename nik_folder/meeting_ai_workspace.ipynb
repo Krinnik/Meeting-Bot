{
 "cells": [
  {
   "cell_type": "code",
   "execution_count": null,
   "id": "95fae4c8",
   "metadata": {},
   "outputs": [],
   "source": [
    "import pandas as pd\n",
    "from datasets import load_dataset\n",
    "\n",
    "# initial tests using sample transcripts of town hall meetings from MeetingBank\n",
    "ds = load_dataset(\"huuuyeah/meetingbank\")\n"
   ]
  },
  {
   "cell_type": "code",
   "execution_count": null,
   "id": "782616f8",
   "metadata": {},
   "outputs": [
    {
     "data": {
      "text/plain": [
       "DatasetDict({\n",
       "    train: Dataset({\n",
       "        features: ['summary', 'uid', 'id', 'transcript'],\n",
       "        num_rows: 5169\n",
       "    })\n",
       "    validation: Dataset({\n",
       "        features: ['summary', 'uid', 'id', 'transcript'],\n",
       "        num_rows: 861\n",
       "    })\n",
       "    test: Dataset({\n",
       "        features: ['summary', 'uid', 'id', 'transcript'],\n",
       "        num_rows: 862\n",
       "    })\n",
       "})"
      ]
     },
     "execution_count": 11,
     "metadata": {},
     "output_type": "execute_result"
    }
   ],
   "source": [
    "# split the dict\n",
    "train_data = ds['train']\n",
    "test_data = ds['test']\n",
    "val_data = ds['validation']\n",
    "\n",
    "ds"
   ]
  },
  {
   "cell_type": "code",
   "execution_count": null,
   "id": "5317cfcd",
   "metadata": {},
   "outputs": [],
   "source": [
    "# converting to dataframes\n",
    "train_df = pd.DataFrame(train_data)\n",
    "test_df = pd.DataFrame(test_data)\n",
    "val_df = pd.DataFrame(val_data)"
   ]
  },
  {
   "cell_type": "code",
   "execution_count": 13,
   "id": "4e2d7a68",
   "metadata": {},
   "outputs": [
    {
     "data": {
      "text/html": [
       "<div>\n",
       "<style scoped>\n",
       "    .dataframe tbody tr th:only-of-type {\n",
       "        vertical-align: middle;\n",
       "    }\n",
       "\n",
       "    .dataframe tbody tr th {\n",
       "        vertical-align: top;\n",
       "    }\n",
       "\n",
       "    .dataframe thead th {\n",
       "        text-align: right;\n",
       "    }\n",
       "</style>\n",
       "<table border=\"1\" class=\"dataframe\">\n",
       "  <thead>\n",
       "    <tr style=\"text-align: right;\">\n",
       "      <th></th>\n",
       "      <th>summary</th>\n",
       "      <th>uid</th>\n",
       "      <th>id</th>\n",
       "      <th>transcript</th>\n",
       "    </tr>\n",
       "  </thead>\n",
       "  <tbody>\n",
       "    <tr>\n",
       "      <th>0</th>\n",
       "      <td>AS AMENDED a bill for an ordinance amending th...</td>\n",
       "      <td>DenverCityCouncil_05012017_17-0161</td>\n",
       "      <td>0</td>\n",
       "      <td>Please refrain from profane or obscene speech....</td>\n",
       "    </tr>\n",
       "    <tr>\n",
       "      <th>1</th>\n",
       "      <td>AS AMENDED a bill for an ordinance amending th...</td>\n",
       "      <td>DenverCityCouncil_04102017_17-0161</td>\n",
       "      <td>1</td>\n",
       "      <td>An assessment has called out council bill 161 ...</td>\n",
       "    </tr>\n",
       "    <tr>\n",
       "      <th>2</th>\n",
       "      <td>AS AMENDED a bill for an ordinance amending th...</td>\n",
       "      <td>DenverCityCouncil_02272017_17-0161</td>\n",
       "      <td>2</td>\n",
       "      <td>I Please close the voting. Announce the result...</td>\n",
       "    </tr>\n",
       "    <tr>\n",
       "      <th>3</th>\n",
       "      <td>Recommendation to respectfully request City Co...</td>\n",
       "      <td>LongBeachCC_03072017_17-0161</td>\n",
       "      <td>3</td>\n",
       "      <td>Motion passes. Hey, thank you very much. Now w...</td>\n",
       "    </tr>\n",
       "    <tr>\n",
       "      <th>4</th>\n",
       "      <td>AS AMENDED a bill for an ordinance amending th...</td>\n",
       "      <td>DenverCityCouncil_03202017_17-0161</td>\n",
       "      <td>4</td>\n",
       "      <td>All right. Pursuant to Council Bill 3.7 consid...</td>\n",
       "    </tr>\n",
       "  </tbody>\n",
       "</table>\n",
       "</div>"
      ],
      "text/plain": [
       "                                             summary  \\\n",
       "0  AS AMENDED a bill for an ordinance amending th...   \n",
       "1  AS AMENDED a bill for an ordinance amending th...   \n",
       "2  AS AMENDED a bill for an ordinance amending th...   \n",
       "3  Recommendation to respectfully request City Co...   \n",
       "4  AS AMENDED a bill for an ordinance amending th...   \n",
       "\n",
       "                                  uid  id  \\\n",
       "0  DenverCityCouncil_05012017_17-0161   0   \n",
       "1  DenverCityCouncil_04102017_17-0161   1   \n",
       "2  DenverCityCouncil_02272017_17-0161   2   \n",
       "3        LongBeachCC_03072017_17-0161   3   \n",
       "4  DenverCityCouncil_03202017_17-0161   4   \n",
       "\n",
       "                                          transcript  \n",
       "0  Please refrain from profane or obscene speech....  \n",
       "1  An assessment has called out council bill 161 ...  \n",
       "2  I Please close the voting. Announce the result...  \n",
       "3  Motion passes. Hey, thank you very much. Now w...  \n",
       "4  All right. Pursuant to Council Bill 3.7 consid...  "
      ]
     },
     "execution_count": 13,
     "metadata": {},
     "output_type": "execute_result"
    }
   ],
   "source": [
    "train_df.head()"
   ]
  },
  {
   "cell_type": "code",
   "execution_count": 14,
   "id": "c3ac0e62",
   "metadata": {},
   "outputs": [],
   "source": [
    "from langchain_openai import ChatOpenAI\n",
    "from dotenv import load_dotenv\n",
    "import os"
   ]
  },
  {
   "cell_type": "code",
   "execution_count": 15,
   "id": "f834fa3c",
   "metadata": {},
   "outputs": [],
   "source": [
    "# Load environment variables.\n",
    "load_dotenv()\n",
    "\n",
    "# Set the model name for our LLMs.\n",
    "OPENAI_MODEL = \"gpt-3.5-turbo\"\n",
    "# Store the API key in a variable.\n",
    "OPENAI_API_KEY = os.getenv(\"OPENAI_API_KEY\")"
   ]
  },
  {
   "cell_type": "code",
   "execution_count": 16,
   "id": "61c7a0d3",
   "metadata": {},
   "outputs": [],
   "source": [
    "from langchain.agents import initialize_agent, load_tools\n",
    "from langchain.chains.llm import LLMChain\n",
    "from langchain_core.prompts import ChatPromptTemplate\n",
    "from langchain.docstore.document import Document\n",
    "from langchain.chains.summarize import load_summarize_chain"
   ]
  },
  {
   "cell_type": "code",
   "execution_count": null,
   "id": "eef2d66f",
   "metadata": {},
   "outputs": [
    {
     "data": {
      "text/html": [
       "<div>\n",
       "<style scoped>\n",
       "    .dataframe tbody tr th:only-of-type {\n",
       "        vertical-align: middle;\n",
       "    }\n",
       "\n",
       "    .dataframe tbody tr th {\n",
       "        vertical-align: top;\n",
       "    }\n",
       "\n",
       "    .dataframe thead th {\n",
       "        text-align: right;\n",
       "    }\n",
       "</style>\n",
       "<table border=\"1\" class=\"dataframe\">\n",
       "  <thead>\n",
       "    <tr style=\"text-align: right;\">\n",
       "      <th></th>\n",
       "      <th>index</th>\n",
       "      <th>summary</th>\n",
       "      <th>uid</th>\n",
       "      <th>id</th>\n",
       "      <th>transcript</th>\n",
       "    </tr>\n",
       "  </thead>\n",
       "  <tbody>\n",
       "    <tr>\n",
       "      <th>0</th>\n",
       "      <td>1</td>\n",
       "      <td>AS AMENDED a bill for an ordinance amending th...</td>\n",
       "      <td>DenverCityCouncil_04102017_17-0161</td>\n",
       "      <td>1</td>\n",
       "      <td>An assessment has called out council bill 161 ...</td>\n",
       "    </tr>\n",
       "    <tr>\n",
       "      <th>1</th>\n",
       "      <td>2</td>\n",
       "      <td>AS AMENDED a bill for an ordinance amending th...</td>\n",
       "      <td>DenverCityCouncil_02272017_17-0161</td>\n",
       "      <td>2</td>\n",
       "      <td>I Please close the voting. Announce the result...</td>\n",
       "    </tr>\n",
       "    <tr>\n",
       "      <th>2</th>\n",
       "      <td>3</td>\n",
       "      <td>Recommendation to respectfully request City Co...</td>\n",
       "      <td>LongBeachCC_03072017_17-0161</td>\n",
       "      <td>3</td>\n",
       "      <td>Motion passes. Hey, thank you very much. Now w...</td>\n",
       "    </tr>\n",
       "    <tr>\n",
       "      <th>3</th>\n",
       "      <td>4</td>\n",
       "      <td>AS AMENDED a bill for an ordinance amending th...</td>\n",
       "      <td>DenverCityCouncil_03202017_17-0161</td>\n",
       "      <td>4</td>\n",
       "      <td>All right. Pursuant to Council Bill 3.7 consid...</td>\n",
       "    </tr>\n",
       "    <tr>\n",
       "      <th>4</th>\n",
       "      <td>5</td>\n",
       "      <td>AS AMENDED a bill for an ordinance amending th...</td>\n",
       "      <td>DenverCityCouncil_02212017_17-0161</td>\n",
       "      <td>5</td>\n",
       "      <td>11 Eyes, Resolution 109 has been adopted as am...</td>\n",
       "    </tr>\n",
       "    <tr>\n",
       "      <th>...</th>\n",
       "      <td>...</td>\n",
       "      <td>...</td>\n",
       "      <td>...</td>\n",
       "      <td>...</td>\n",
       "      <td>...</td>\n",
       "    </tr>\n",
       "    <tr>\n",
       "      <th>4882</th>\n",
       "      <td>5164</td>\n",
       "      <td>AN ORDINANCE imposing a tax on engaging in the...</td>\n",
       "      <td>SeattleCityCouncil_06052017_CB 118965</td>\n",
       "      <td>5164</td>\n",
       "      <td>Thank you. The bill passed and chair of the Se...</td>\n",
       "    </tr>\n",
       "    <tr>\n",
       "      <th>4883</th>\n",
       "      <td>5165</td>\n",
       "      <td>Proclamation Declaring April 8 through April 1...</td>\n",
       "      <td>AlamedaCC_04022019_2019-6703</td>\n",
       "      <td>5165</td>\n",
       "      <td>Okay. Next is a proclamation declaring April e...</td>\n",
       "    </tr>\n",
       "    <tr>\n",
       "      <th>4884</th>\n",
       "      <td>5166</td>\n",
       "      <td>Approves an agreement with Kaiser Foundation H...</td>\n",
       "      <td>DenverCityCouncil_01052015_14-1062</td>\n",
       "      <td>5166</td>\n",
       "      <td>I just pulled this one out. This one actually ...</td>\n",
       "    </tr>\n",
       "    <tr>\n",
       "      <th>4885</th>\n",
       "      <td>5167</td>\n",
       "      <td>A bill for an Ordinance authorizing and approv...</td>\n",
       "      <td>DenverCityCouncil_06082015_15-0302</td>\n",
       "      <td>5167</td>\n",
       "      <td>The estimated taxable value following redevelo...</td>\n",
       "    </tr>\n",
       "    <tr>\n",
       "      <th>4886</th>\n",
       "      <td>5168</td>\n",
       "      <td>A bill for an ordinance designating certain pr...</td>\n",
       "      <td>DenverCityCouncil_11172014_14-0930</td>\n",
       "      <td>5168</td>\n",
       "      <td>Brooks Brown, I. Mr. President. Hi, Mr. Secret...</td>\n",
       "    </tr>\n",
       "  </tbody>\n",
       "</table>\n",
       "<p>4887 rows × 5 columns</p>\n",
       "</div>"
      ],
      "text/plain": [
       "      index                                            summary  \\\n",
       "0         1  AS AMENDED a bill for an ordinance amending th...   \n",
       "1         2  AS AMENDED a bill for an ordinance amending th...   \n",
       "2         3  Recommendation to respectfully request City Co...   \n",
       "3         4  AS AMENDED a bill for an ordinance amending th...   \n",
       "4         5  AS AMENDED a bill for an ordinance amending th...   \n",
       "...     ...                                                ...   \n",
       "4882   5164  AN ORDINANCE imposing a tax on engaging in the...   \n",
       "4883   5165  Proclamation Declaring April 8 through April 1...   \n",
       "4884   5166  Approves an agreement with Kaiser Foundation H...   \n",
       "4885   5167  A bill for an Ordinance authorizing and approv...   \n",
       "4886   5168  A bill for an ordinance designating certain pr...   \n",
       "\n",
       "                                        uid    id  \\\n",
       "0        DenverCityCouncil_04102017_17-0161     1   \n",
       "1        DenverCityCouncil_02272017_17-0161     2   \n",
       "2              LongBeachCC_03072017_17-0161     3   \n",
       "3        DenverCityCouncil_03202017_17-0161     4   \n",
       "4        DenverCityCouncil_02212017_17-0161     5   \n",
       "...                                     ...   ...   \n",
       "4882  SeattleCityCouncil_06052017_CB 118965  5164   \n",
       "4883           AlamedaCC_04022019_2019-6703  5165   \n",
       "4884     DenverCityCouncil_01052015_14-1062  5166   \n",
       "4885     DenverCityCouncil_06082015_15-0302  5167   \n",
       "4886     DenverCityCouncil_11172014_14-0930  5168   \n",
       "\n",
       "                                             transcript  \n",
       "0     An assessment has called out council bill 161 ...  \n",
       "1     I Please close the voting. Announce the result...  \n",
       "2     Motion passes. Hey, thank you very much. Now w...  \n",
       "3     All right. Pursuant to Council Bill 3.7 consid...  \n",
       "4     11 Eyes, Resolution 109 has been adopted as am...  \n",
       "...                                                 ...  \n",
       "4882  Thank you. The bill passed and chair of the Se...  \n",
       "4883  Okay. Next is a proclamation declaring April e...  \n",
       "4884  I just pulled this one out. This one actually ...  \n",
       "4885  The estimated taxable value following redevelo...  \n",
       "4886  Brooks Brown, I. Mr. President. Hi, Mr. Secret...  \n",
       "\n",
       "[4887 rows x 5 columns]"
      ]
     },
     "execution_count": 17,
     "metadata": {},
     "output_type": "execute_result"
    }
   ],
   "source": [
    "# dropping entries with too many tokens for the model\n",
    "# this was before batching was considered\n",
    "train_df_sorted = train_df[train_df['transcript'].str.len() <= 16385 * 4].reset_index()\n",
    "train_df_sorted"
   ]
  },
  {
   "cell_type": "code",
   "execution_count": null,
   "id": "888f0061",
   "metadata": {},
   "outputs": [
    {
     "data": {
      "text/plain": [
       "\"Motion passes. Hey, thank you very much. Now we're moving on to item 22. Communication from Vice Mayor Richardson recommendation to request City Council approval of the 2017 federal legislative agenda as recommended by the Federal Legislation Committee. There's a motion and a second Vice Mayor. So just a few updates here we have. So we met in November on November 15th to review staff's recommended recommended changes for the 2017 federal legislative agenda. The committee made some fairly substantive changes to the agenda last year when we were reorganized and consolidated some of the statements that may have been repetitive in years past. And because we made so many, so many changes in the last update, and as the new presidential administration gets up and running, the first large committee will be focused on protecting existing revenues that the city current receive currently receives from the federal government, such as the Housing Choice Voucher Program, commonly known as Section eight, CDBG, other HUD programs. We're also going to take a look at workforce programs and supporting those as well. And our existing legislative agenda already empowers us to do that. The committee heard that, you know, the committee may have heard that there's one particular area of the of the legislative agenda, legislative agenda that could use some additional language. That's the area of violence prevention and services to stem the homeless crisis in L.A. County. And because of all of our work, our mayor, city council, city staff have done around violence prevention staff recommended that we add language in the public safety section to support federal legislation that would assist with the implementation of violence prevention programs and in the area of homeless prevention. Staff recommended that the City Council support the city, support federal assistance toward establishing substance use treatment facilities in the region. Language to support mental health services is already existing there. Our committee voted to receive a file. All of staff's recommended and recommended changes and for those to the City Council for Adoption tonight. Since our meeting in November, a number of executive orders signed by the new president make it so that we need to update an existing statement in our in our agenda supporting the expansion of dockets. Read one that reads supporting federal legislation that maintains existing allowances for undocumented immigrants to who qualify for the DOCA program to remain in the United States, as well as being as well as any legislation that protects safety and well-being of all Californians by ensuring state and local race resources are not used to support deportations, collect information about individuals or religious beliefs or affiliations that ultimately hurt California's economy. Specific to the DOCA program, we're talking about immigrants who enter the U.S. before the 16th birthday and before June 27 are currently in high school or high school graduate honorably discharged in the military under the age of 31 as of June 15, 2012, and have not been convicted of a felony, significant misdemeanor or other or three other misdemeanors otherwise pose a threat to national security. So these recommended changes come because there's been, you know, since these executive orders, a number of bills that have come out. And we wanted to make sure that our language and our letter agenda is wide and comprehensive enough to support different bills, whether it's, you know, Feinstein's bill or other other people's bills that go forward, it still maintains the intent to support the DOCA language. And so that is sort of a highlight on what we're doing tonight on the failed agenda. Thanks. Thank you, Councilmember Yuri. Councilmember Gonzales. I'll defer Gonzales first. Councilman Gonzales. Q I don't know what's going on, Mayor. I'm sorry. No. It's it's Election Day. I know. That's okay. I just want to say thank you to Diana and to Vice Mayor Richardson. And now we have Councilmember Saranga that will be joining us at our next Fed. Federal legislation relation trip. And so I think vice mayor reiterated many of the new actions that we'll be taking when we go to D.C. and also here on the dais when we're discussing Long Beach initiatives. But the things that kind of pop out in my mind, the items, of course, are immigration issues related to DOCA and the new executive order, specifically with the ban on predominantly Muslim countries environmental protections, which I know we'll have to really look a little bit more into, and then securing our major capital projects like many of the initiatives that we have citywide. I want to make sure that we're securing those and that funding is going through us as we see fit. So thank you very much for your work and I look forward to working with you all again. Thank you. Councilmember Ringo. Thank you, Mayor. It's going to be my first year on this committee and I'm looking forward to it. It's going to be quite a challenging year. Obviously, we've had a change in in our presidency and a different focus. And so I'm looking forward to advocating for the city on behalf of a Long Beach. Thank you. Councilmember Pearce. Yeah, I just want to say, you know, I took the time to read through everything on the agenda and I just it made me really proud to be a part of this council and to look at everything from immigration to gun control, violence prevention, affordable housing. A lot of the things that we aspire to do that sometimes are challenging and tough. And I know that we can't do it all, but I just really thank you for making sure that this is comprehensive and that we, despite what's happening at the federal level, are continuing to advocate and protect those that live in our communities here. So thank you. Thank you. Any public comment on this saying please cast your votes. Councilman, your anger. Motion passes.\""
      ]
     },
     "execution_count": 18,
     "metadata": {},
     "output_type": "execute_result"
    }
   ],
   "source": [
    "# view a sample transcript\n",
    "train_df_sorted['transcript'][2]"
   ]
  },
  {
   "cell_type": "code",
   "execution_count": null,
   "id": "a6cbd701",
   "metadata": {},
   "outputs": [
    {
     "data": {
      "text/html": [
       "<div>\n",
       "<style scoped>\n",
       "    .dataframe tbody tr th:only-of-type {\n",
       "        vertical-align: middle;\n",
       "    }\n",
       "\n",
       "    .dataframe tbody tr th {\n",
       "        vertical-align: top;\n",
       "    }\n",
       "\n",
       "    .dataframe thead th {\n",
       "        text-align: right;\n",
       "    }\n",
       "</style>\n",
       "<table border=\"1\" class=\"dataframe\">\n",
       "  <thead>\n",
       "    <tr style=\"text-align: right;\">\n",
       "      <th></th>\n",
       "      <th>0</th>\n",
       "    </tr>\n",
       "  </thead>\n",
       "  <tbody>\n",
       "    <tr>\n",
       "      <th>﻿Transcript\\nApril 29, 2025, 2:02PM\\n\\nZain Master started transcription\\n\\nZain Master   0:03\\nEverybody, the purpose of this meeting is to talk about and understand and formulate plans on how to make sure that we can increase the confidence of our.\\nReleases going out to customers, right? As we understand most of our products are impacted by a level of customizations that involve very specific customer setups and implementations.\\nSo while the product is able to perform a level of testing, there needs to be that next level of testing that is performed in specific to that customer's implementation and that specific environment. Many times as we've seen, we've gotten a release out there only to have it.\\nImpacted either by product score functionality that needs to be compatible with a implementation, or the implementation side of the House.\\nThat's incompatible with product and then that gets us into this wonderful spiral of trying to continually address.\\nThe issue and release after release after release after release going down the line, ******* off customers ******* off internal people because then we're working way too many hours.\\nThen we were supposed to. So the idea here is to propose and come up with ways on how do we not do this again, right?\\nBecause I'm sure the last three weeks have been fun for all of us and it's something that we should aspire not to do again.\\nAnd this is where I believe there needs to be cross collaboration between both sides of the House.\\nWhere there's the solution sensor side of the house that understands the implementations the best and also the core product side of the house that can do a level of testing.\\nTo even complement some of the set testing that's required on the solution center side of the House.\\nSo what you all saw in the meeting notes that I shared with this meeting is my research and thoughts into what could possibly happen here to help out. And I sat down with Peter Lafferman to come up with these ideas and to better understand the current testing. What?\\nMissing where?\\nSome of the gaps and So what the ideas represents and the action items represent are.\\nThings that we could do.\\nIn order to get better and improve one internal confidence of the release and two external acceptance of the release, because that's what we're driven by is we want, we want customers to all upgrade at the same time, we do not want them to be going off on differe.\\nSilos, which makes it really a pain and hassle for Dev OPS and then us to later upgrade them into a whole bunch of ways. They're different than what we planned to.\\nSo I'm going to stop talking now and share the screen to start the conversation that I feel is what needs to drive this meeting at the end of the day though, what I would like to see is.\\nOne agreement or new ideas?\\nThat we can think about in order to again achieve that goal of improving confidence internally and also improving acceptance and adoptability of the of the release by external customers.\\nSo.\\nI can go down these steps of action items one by one and we can discuss if this is something that we want to do.\\nWe have the capabilities to do and which house it lives in, or we can have a different conversation, which is people can say.\\nOther ideas?\\nI am going to shut up now.\\n\\nLukas Kawulok   3:51\\nWhich are there, but I think what we need to also discuss that.\\nFirst release, which was totally failure and be A to rollback everything we did in all way. Then we had new way into waves.\\nIt was something new for question.\\nDo you want to again make a releases into waves?\\nSecond questions in when you were doing securities, there was bigger participation in testing from solution center.\\nI believe so.\\nThis is something where you want to do in future again, even its ultimate.\\nHolly, but this is also something what we maybe for some of us it is OK.\\nWe will do it again, future for sure, but maybe for some of us it is OK.\\nThis was one time agreement, but we need to agree if we will do it also in future.\\nMy thing is yes, but also I think this is something we need to cover.\\n\\nZain Master   4:46\\nSo I'm going to answer the wave question, Stephen.\\nI don't know if you have an opinion, but I do like the wave idea.\\nIt does help one with.\\nUs understanding if there are issues immediately that we are not exposing to our larger set of customers.\\nSo, you know, keeping the 8020 rule in mind, 80% of our revenue comes from 20% of the customers and that 20% of customers is the last wave that goes out. So keeping them a little bit more protective.\\nLess issues coming in. Less escalations is definitely an idea that has helped out in my opinion, but I'm open to agreement from the rest of the group as well.\\n\\nStephen Pack   5:30\\nI I just.\\nYeah, I think the wave is a good idea from a risk management perspective. We have to be careful with how that gets communicated to customers because you know, especially if one of those big customers is really eagerly waiting a feature in a release and we say don't worry.\\nThe release is coming this date.\\nIt's, you know, challenging.\\nIf it's oh, well for you. It's a week later. We just need to make sure that that message gets gets clear. Yeah.\\n\\nZain Master   5:51\\nYep.\\n\\nLukas Kawulok   5:57\\nI don't know what to be answering my questions, but I think this was disaster Vijay. I never have seen CPQ before.\\n\\nTerry Stone   5:57\\nAnd then there's a.\\n\\nLukas Kawulok   6:06\\nBut this is mainly because of the upgrade, right?\\nAnd this is not finished.\\nSo I think definitely for next August release and Prob also December when we will go also to Kubernetes most probably we need to follow the same principle then let's see maddfin to next two following major issues but not for patches.\\nThis is my opinion.\\nSorry, sorry.\\n\\nTerry Stone   6:29\\nI agree that patches.\\nI would hope that we send everybody out at the same time.\\nI think those are pretty transparent, pretty low risk.\\nI think the thing I concerned about is if we have these different tiers or waves and so you've got three waves. All the communication has to go out and be segmented out into these three different waves. And then if the 1st wave goes out and things aren't good.\\nThen what's the cascade of communication that happens after that?\\nSo now you have to figure out what to do with wave one, and then you have to quickly figure out.\\nIf you're postpon wave two and wave three and the communicate app those customers and then when you do, do that.\\nDo it. Do we keep pushing by a few days at a time and have several times, like there's no good answer? I guess if we have a release like we had in the last this last time around.\\nBut that's my concern about having three different branches or three different waves releases.\\nLots of communication to be done. Lots of moving parts with hosting.\\nI think it's complicated because you have to move tranches.\\n\\nZain Master   7:26\\nMm hmm mm.\\n\\nTerry Stone   7:29\\nWe did that for production.\\nWe didn't do that for the lower environments, but we should.\\nSo if you're Zimmer and remove your production on a certain day, we should move your stage and dev and test everything else at the same day so that it's all in alignment. And we didn't do that.\\nWe can't do that today.\\nLots of lots of considerations on how to how to make all that work.\\nI get the idea behind the waves, but it's there's a lot of management to be done there.\\n\\nZain Master   7:57\\nSo from a communication standpoint, I know.\\nLauren reached out to me and Steve and I'll be I was just about to kick off a message with you and about the communication aspect of thing and how we can get better.\\nSo I'm gonna take that offline with Stephen and make sure that I have a plan that can be put in place and work with Stephen to make sure that we can do it properly. How we decide to delay releases or you know from the first waves outcomes.\\nThings like that.\\nSo, Terry, I'll take that on.\\nWork on it.\\nBounce it off this team again.\\nBut outside of the communication aspect of things.\\nYou mentioned Dev OPS is is a challenge.\\nIs that a challenge that we can overcome or is that a challenge that's still going to exist and cause more issues in the long run?\\n\\nTerry Stone   8:52\\nI think we can overcome it if we.\\nSorry, I'm just taking through this.\\nTo move people in waves, we're gonna have to have different gateways for each wave. For the lower environments, because it's the number of environments that we have there.\\n\\nZain Master   9:04\\nMm hmm.\\n\\nTerry Stone   9:09\\nWe're also gonna have to get hosting to make sure that DNS is routing everything to the appropriate place, because right now it's kind of a mess.\\nIt's not well managed.\\nAnd then we can move those waves one at a time.\\nSo more infrastructure and more hosting.\\nIt's a higher touch host to try to to manage it in waves, but it can be done.\\n\\nLukas Kawulok   9:33\\nSo Terry, it follows that your proposal, which we also shared with Chitan right at the previous feature current, I think this should more about a screen that mass about about versioning, right?\\n\\nTerry Stone   9:46\\nThat I think that'll help clarify for everybody. Kind of what what?\\nWhat they're gonna get when they hit a URL?\\nBut there's still this problem of migrating the tenant and not migrating other tenants.\\nSo when wave one goes, if we swap their prod URL to point to the next release, that's great.\\nGreat. We could do that. But we have to do it for that tenant and their lower environments and not the state, not the lower environments for the wave two and the wave 3 tenants.\\nSo we have to separate out all the lower environments into three different waves and the prod environment into three different into three different waves. The prod environment we're managing with explicit rules in the gateway because we've got 50 tenants or so to manage and we have enough cap.\\nIn rules in the gateway to manage that number of tenants, but you only get a limited number of routing rules. So if you want to manage the 300 lower tenant environments, we can't do that with one gateway.\\nSo I think we would have to break that into multiple gateways and what makes sense to me is to have a wave 1 gateway, a wave 2 gateway, a wave 3 gateway.\\nThen we can use wild cards to move everybody all at once.\\nThat will be easier.\\nIt just takes additional hosting costs to manage 3 gateways instead of 1.\\n\\nLukas Kawulok   11:01\\nHmm.\\n\\nTerry Stone   11:03\\nAnd we need to make sure that DNS routes everybody in the right wave to the right gateway. And today that's not, that's not audited at all, because if you go look at it, they're all over the place.\\n\\nLukas Kawulok   11:03\\nYeah, we need.\\nYeah, I agree.\\n\\nTerry Stone   11:22\\nSo with with some support and infrastructure like if we were gonna do this as a go forward, we would create more formal structure around this org admin would understand who's in what wave and you could manage it that way. It would manage dynamal, it would manage routing rules.\\nLike it would handle all of the heavy lifting so that we don't have to manually do anything, but that would take engineering effort to make sure that it does all that.\\nI don't know what kind of appetite we have for taking that on an engineering, but I think that would be a way to.\\nTo have a shot at keeping everything straight and then.\\nWe would need some sort of hosting process to audit that and make sure that it's in order from time to time.\\n\\nZain Master   12:07\\nSo who is the owner for this investigation?\\nIf we do want to move it this way, Lukas doesn't come down to our product team or engineering team.\\n\\nLukas Kawulok   12:17\\nCombination engineering and cloud OPS.\\nYeah, so qintan.\\n\\nZain Master   12:20\\nOK.\\nSo I'm putting that down as an excellent Yup.\\n\\nLukas Kawulok   12:32\\nYeah, but I am skeptical that all what Terry just said would be achievable in August.\\nI think that clear previews future current edition have it also align in in.\\nNon production environments produce, but making changes on. I think it's not that you're doing the August, but maybe we can step by step, right.\\n\\nZain Master   13:00\\nAt least start stepping in the right direction, OK?\\nAnything else on that topic, Terry, before I move on to the next one?\\n\\nTerry Stone   13:09\\nDon't think so.\\n\\nZain Master   13:12\\nLukesh what was the other question that you wanted to answer?\\n\\nLukas Kawulok   13:18\\nThis time you had that conference page right with customers link to an environment and real checks from social center team that they were able to test this something what we didn't do in past. I think this is essential to be successful in future that we will repeat it.\\nAnd there will be those 2-3 weeks for major release to to to test it for patches probably smaller.\\nGroup. I think there's something what we need to do, but we need sign off that also solution center is willing to do the CAP capacity to to do it.\\nAlso, we were able to see that ready Moravous team didn't have full knowledge about it, so there was also.\\nNeeded help from social architect, consultants and from them we need to really show that they are available for us for each major release currently right?\\n\\nZain Master   14:11\\nYeah. So really I'm just and Peter, this is something that I spoke to Peter Lougherman about in terms of how do we line up resources for testing.\\nAgain, his suggestion.\\nDo not shoot the messenger was that we could formally request the team.\\nOne prior to a month prior to our release going into as a release candidate into the staging environments for specific customers.\\nThat we come to you and say, look, this is when we plan to do this.\\nThis is when the real scandal will be available.\\nWhat is the level of commitment we have from you and team to start testing for these release candidates within specific environments?\\nNow we don't have to, I think.\\nIt's challenging for your team to test every customer, but at least we need to start identifying a set of customers that are either the most complex.\\nThe most common that need to be part of a group for testing right? The new release candidate to see if anything is broken.\\n\\nPetr Klen   15:22\\nYeah, if I can comment.\\n\\nZain Master   15:22\\nI also understand one second, Sir.\\nI also understand there is a level of automated testing that lives in TypeScript that your team is currently doing. If this is something that you want us to make as part of our testing with the automation frameworks we have, then this is something that Lukas we need to.\\nConsider absorbing this so we can take some burden off.\\nThe services organization, while you know they do this level of testing.\\nThat is required for us to make sure that the releases kinda confidently gonna be accepted by those customers.\\n\\nLukas Kawulok   16:01\\nThis time slot today morning.\\nSo he's checking it.\\nNot sure we answered but.\\n\\nRadim Moravec   16:09\\nRight. But I wanted to to to say we want to start from this.\\n\\nPetr Klen   16:14\\nI I can start there saying actually you were referring to your action #3 and then two action two is exactly when you said at the end. I can comment on action free.\\nYes, at the moment.\\nWe always need to reserve the resources in this, in this case QA engineers to be available for the testing of your new version.\\nSo if we would take the August release as an example.\\nYeah, you will need our resources, our QA resources, as you said, they had two weeks probably before the release date to be testing.\\nOn the selected customers, as you said, more complex, etcetera.\\n\\nZain Master   16:58\\nMm hmm mm hmm.\\n\\nPetr Klen   17:00\\nI would say it should be booked more than 1 1/2 months in advance.\\nI have checked this morning.\\nYeah. What are the current bookings and many of the qa's are fully booked.\\nUntil beginning of July, I would say it's time to book these resources for end of July testing at the beginning of May, let's say, yeah, otherwise we will have a problem.\\nAnd once the resource is booked for certain project, we are not owning that custody then it is owned by the project manager and you or us will have to approach the project manager and ask could you release that person from your project and did for transfer will be.\\nNo.\\nBecause they need it here to deliver today customer.\\n\\nZain Master   17:41\\nYeah.\\n\\nPetr Klen   17:44\\nWe should do it now.\\nActually, I'm in the bookings.\\nIf there would be any hotfix released in a near time, I speculate here you will.\\nGoing to, you will roll out some hotfix in two weeks.\\nIt's actually a bit late to book the QA resources. If you want solution center resources to test on customer implementations. I can do my best to secure at least the remaining resource one of the Q as available.\\nDuring mid of May.\\nYeah, but this is all for action free.\\nSo we should do it as a as a common practice.\\nActually we can book the resources for your December release now.\\nYeah, there is no need to wait.\\nYou know when you will be releasing, you know that you will need that resources in November.\\nDo it now.\\n\\nZain Master   18:35\\nSo how do we I want to formalize the process and Stephen if you can capture this, that'd be great.\\nHow do we reach out to who do we reach out to and what do we communicate to inform that we do need resources?\\nAnd what if the answer is at the end of the day?\\nNo, sorry. You don't have resources, right?\\n\\nPetr Klen   18:52\\nMm hmm.\\n\\nZain Master   18:54\\nBecause that could happen.\\n\\nPetr Klen   18:54\\nMm hmm. Yeah, of course we had the overview of the current bookings.\\nThe default process is, say, designed for project managers and technically engagement managers. And yeah, the question is how we will agree whether you will own the process or infest or you will ask rajeem or any of US managers from solution center to do bookings for you which we.\\nCan actually.\\nWe agreed this morning that for August I will request bookings of the resource.\\nIs therefore end of July and I will check what is available in mid-May. So you have at least something. But you are right that we should formalize in sunrise how to process should look like. I don't know if you know yeah how we should bend the process.\\nBend. Yeah, let us know.\\nBut we can do it at the moment at the beginning so that we.\\n\\nZain Master   19:48\\nLike is there an e-mail? Do I open a ticket in your queue?\\n\\nPetr Klen   19:51\\nWe we open, we open a Jiri kit which is actually the request for resource booking coming to the PMO guys.\\nYep, from professional services.\\nAnd Erin or Mitu from professional services is processing that request, creating the actual bookings in open air, which is the system where we have all the booking recorded.\\n\\nZain Master   20:10\\nOK.\\nSo it's what I'm hearing is go ahead.\\n\\nRadim Moravec   20:10\\nEither I don't know if there is any period, if there is any periods when you're starting this harvesting right, the stabilization time of the of the core of the release. So if there is any kick off like, I don't know meeting or announcement or whatever that in that.\\nKickoff or initiate this creation of the JIRA ticket for our resource manager.\\nProfessional services, then?\\nWhoever do it.\\nWe must agree, but this is the process that will work once the ticket is created on them, then we will secure the assignment of the particular people.\\nThis is our our work, our part of work.\\n\\nZain Master   20:55\\nSo is it just me sending a formal request over to Peter Yu and saying please help us with capacity bookings for August release in June, right? Two months before?\\nNo. Now would you may.\\n\\nRadim Moravec   21:08\\nI would maybe go in the way that you created ticket to our resource manager.\\nAnd we will avoid, you know this e-mail.\\nHey Peter, please do something, because for me it sounds more systematic way.\\nJust create a ticket and research manager will take it over.\\n\\nZain Master   21:26\\nSo can I get access to that?\\n\\nPetr Klen   21:26\\nUh.\\n\\nZain Master   21:27\\nAnd can I or me, Lukas, Renee, get access to that, please.\\n\\nPetr Klen   21:31\\nI think you you you already have an access.\\nYeah, in JIRA there is a project or PM or.\\n\\nRadim Moravec   21:34\\nIt's jirab.\\n\\nZain Master   21:38\\nDmor.\\n\\nPetr Klen   21:39\\nYeah, yeah.\\n\\nLukas Kawulok   21:39\\nAsk differently, can you wrote US short summary how to raise the ticket?\\nMaybe in circumstance, patience, an e-mail.\\n\\nPetr Klen   21:46\\nSure. Sure we can, yeah. And I think it's documented.\\n\\nZain Master   21:46\\nYes, please.\\n\\nRadim Moravec   21:47\\nYeah.\\n\\nPetr Klen   21:50\\nRadim, I think they will also need to report showing them.\\nYeah. Was the current allocation.\\nYeah, what's capacity are left and can be booked.\\nAnd Zain, you should know that it the bookings will be done against some even internal project and PMO will need to know how the project is funded actually.\\n\\nRadim Moravec   22:15\\nIt's it's on us.\\n\\nZain Master   22:15\\nDavid.\\n\\nPetr Klen   22:18\\nIt's so nice.\\n\\nRadim Moravec   22:18\\nMm.\\n\\nPetr Klen   22:18\\nYeah, yeah, yeah.\\nBut anyway, I think the project is already there.\\n\\nZain Master   22:20\\nYeah.\\n\\nPetr Klen   22:23\\nRanim I ask you in the morning and you were able to.\\nSay, specify the project so we will describe it in a few buids.\\nYeah, a little.\\nThis how you can do it and you can do it yourself and people need to arrange and access for you.\\nYeah, to be say, Overview report where you will see which of our QA engineers are available so that you know that.\\nYeah, you don't need to ask for them because they are already gone.\\n\\nRadim Moravec   22:49\\nYou know, they don't need to.\\n\\nZain Master   22:49\\nAnd.\\n\\nRadim Moravec   22:52\\nI don't think that you know, we can then reply them.\\nHey, it's too late.\\nWe don't have anyone, you know, but the exit they can have. I thought that's because they will not specify the particular person who will work on it. It's on us.\\n\\nPetr Klen   23:01\\nYeah, but.\\nSure, but if you want them to create the ticket, the request directly to PMO, we will not know about that.\\n\\nStephen Pack   23:18\\nYeah, that's Zain. Isn't going to know who he needs. And and I don't think he really cares.\\n\\nPetr Klen   23:19\\nSo.\\nDave.\\n\\nStephen Pack   23:24\\nIt's just, you know, he needs some QA to be done and how it gets done is flexible.\\nSo would a would a project manager.\\nHave that flexibility.\\n\\nPetr Klen   23:35\\nWe will document it.\\n\\nRadim Moravec   23:35\\nThe resource manager.\\n\\nPetr Klen   23:36\\nMaybe we are wasting no time on the details.\\n\\nRadim Moravec   23:38\\nYeah, let's document the process.\\n\\nPetr Klen   23:39\\nYeah, people agree on the best way for you. And yeah, we will send it to you.\\nYeah, it will be clarified in a few days.\\n\\nRadim Moravec   23:45\\nAnd I think it will be bulletproven.\\n\\nZain Master   23:49\\nOK so I have action item here that you Peter will write a ticket, a summary of notes for us when we need to open the ticket.\\nThe idea then is you guys are internally managing it in terms of who or which project manager is running the show.\\nSo question I have is when the release candidate is available and communicated internally to all teams, do I need to also then have a kickoff meeting or is that internally understood that I need to now?\\nAllocate my time towards testing this with this set of customers and here's how I plan to update the team that testing has been completed or if there are issues, how do I raise these issues up to the product team?\\nGetting into the nitty gritty details and communication and make sure that everything is working well.\\n\\nRadim Moravec   24:45\\nSo you are now in the from the time period in the period of harvesting when the the actual testing is happening, right?\\nI think that there should be some kind of check insurance, how it goes, the feedback board of course.\\nStatus tracking. Where are we?\\nWhat is the pass rate so far?\\nWhat is the expected pass rate exit criteria defined?\\nAnd then some kind of on the end decision?\\nDecision board who say yes we go live or not.\\nBased on these exit criteria, and I believe if we or our our, if we all are involved in this process.\\nThen we cannot release anything which is which will be failed, right?\\nSo that's, but I believe that that's the work like of the release manager.\\n\\nZain Master   25:29\\nTo.\\n\\nRadim Moravec   25:34\\nWho coordinate all this stuff across the across the products.\\nBecause what we are describing and discussing now, it's not just the CPQ by the way, all the resources for example, bookings must go to VPP.\\n\\nZain Master   25:43\\nYep, Yep.\\n\\nRadim Moravec   25:48\\nEPS, for example, RCM.\\n\\nZain Master   25:52\\nI'm looking at you, Stephen.\\nIs this something that the team's gonna manage?\\nBecause I don't know.\\nWe don't have a release manager on CPQ, right?\\nSo is this something that PMO is gonna handle where it's gonna formalize these processes of understanding which customers will be tested?\\nWhat's the status holding these milestone meetings across the board to get updates from the team on their testing the escalations?\\nThe thumbs up? Thumbs down.\\nThe prioritization of these tickets.\\n\\nStephen Pack   26:25\\nI mean if you want somebody who doesn't know anything about what's happening in CPQ product, sure.\\nThat doesn't seem ideal.\\n\\nRene Gruszkowski   26:38\\nYeah, like already this time around we've established processes where even hosting is looking in right and has their own checklist.\\nSo I don't think that that's necessarily an issue. I think it's more difficult for us to oversee our own internal testing on CPQ core, right and then also oversee all the customizations because those are separate projects, they have separate implementations.\\nIn lot of cases it's not even like.\\nCpq ID and you know when when the project is is done?\\nSo I think there should be some other person who overseas everything.\\nI don't think it should be under under our ownership because we are not familiar with it.\\n\\nZain Master   27:28\\nI'm saying it's PMO that leads some of this stuff, Stephen.\\nSo you can be a third party.\\nPerson that pulls the teams together and gets opinions from across the board.\\n\\nStephen Pack   27:43\\nOK. I mean, if we're this is the problem, if we're directly working with you know solution Center QA, it's gonna be just like the war room where it's like, well, we don't know what testing needs to happen.\\nI mean, you don't know.\\nI don't know.\\nWe're just like test something and tell us the testing is good. I have no idea.\\nSo I mean, that'll be the depth of the PMO that you get is did you do some testing, did some testing OK.\\nThe box is checked, so if that's sufficient.\\n\\nRadim Moravec   28:04\\nWe need, we need to have a forum.\\nYeah, we need to have a forum where the decision is made.\\n\\nZain Master   28:07\\nYep.\\n\\nRadim Moravec   28:10\\nAnd what is the exit criteria for this this decision?\\n\\nStephen Pack   28:16\\nBut a forum is is the release.\\nI mean it's it's in the release.\\nPulse. It's in the it's in the GA readiness.\\nSo yeah, there, there. This is part of the release criteria for CPQ is did solution center testing passed successfully and what does it look like so that that's that's where it's published. But in terms of who defines for the solution center, QA test XYZ do not test a.\\n\\nRadim Moravec   28:29\\nSo.\\nPerfect.\\n\\nStephen Pack   28:42\\nYou know, deprioritize LMN.\\nI'm not sure that me or neiveditha are are the ideal person to provide that input, but.\\n\\nRene Gruszkowski   28:52\\nDid.\\n\\nLukas Kawulok   28:52\\nBut it is not cooperation, right?\\nSo we know from the release lock what feature will be released, right?\\n\\nRene Gruszkowski   28:55\\nAnd then.\\n\\nLukas Kawulok   28:58\\nAlso, from release notes that we know which bug fix we are releasing, so based on this and some startup smoke tests social set, the QS should be able to identify what should be tested right? So.\\n\\nStephen Pack   29:10\\nYeah, as long as they aren't looking for that guidance to come.\\nFor me, that's that's my concern. If, if, if, if I have a solution center QA asking me what customer do I test?\\nWhat functionality do I test I'll say.\\n\\nRene Gruszkowski   29:21\\nWell, there will be two things, right.\\n\\nStephen Pack   29:21\\nAll of them.\\n\\nRene Gruszkowski   29:23\\nOne is like general regression testing. For that, the social center will need to figure need to decide themselves.\\nRight. Because often enough it's custom workflow. So even I don't know us and so does the first part general regression testing and the second part would be a based on I suppose our changes in core, right?\\nSo we would provide a list with changes and the recommendations of what.\\nSo there would be two parts, one of them coming from social center of the second part coming from us.\\n\\nPetr Klen   29:59\\nYeah, I agree.\\nYeah. Actually on our side, what we need to do as a homework is to select the customer implementations.\\nWhich are more most complex?\\nNext year has a certain specifics.\\nThat's one thing we need to make sure that we have the list of say.\\nStandard test cases for these implementations, which will have to be tested anytime, can be understood as a smoke testing and then based on the input from your side saying I'm in the list of changes in each CPQ release as.\\nOur QA may decide to do some additional test cases here to make sure that the new changes will is not breaking anything for these customers.\\nSo we need to formalize the process and we need also to be sure that we know the list of customers we would like to test every time.\\n\\nZain Master   30:54\\nMm hmm.\\nIf.\\n\\nStephen Pack   30:58\\nYeah. So the place to define that is going to be in, you know, I mean at the gate of release tops or the beginning of the hardening phase.\\n\\nZain Master   30:59\\nOK.\\n\\nStephen Pack   31:05\\nThat's the time to have that definition and then monitor execution through that through that phase through that month.\\n\\nPetr Nesladek   31:14\\nSorry did I.\\n\\nPetr Klen   31:14\\nYes.\\n\\nPetr Nesladek   31:15\\nSorry, did I jumping in?\\nI see that.\\nYeah, that's.\\nThat yeah, sorry, that maybe I will add more.\\nYou know, there is also a similar situation is with price point. I I thought that was already mentioned somehow here.\\nThat would be great that we can, you know, have same same process for both.\\nMakes sense?\\n\\nZain Master   31:39\\nAnd that's why I think, you know, a kick off meeting in this is just my perspective guys. You can tell me I'm wrong or change it up. But I think the way I would formalize this process is the moment we have one first and foremost booking available tick.\\nIs opened two months prior to a release date.\\nThat release candidate will be available for the teams to test. The teams are then informed about core functionality changes that are coming up in that same ticket.\\nThat are, you know, I think that would be what pulse two. Right, Stephen.\\nSo we'd have a better idea of what's firmly making it into the product at the end of the release.\\nSo at least this gives.\\nSolution Center an idea of what they need to start thinking about from changes. Then when the release candidate is available, that's when we have a truly a kickoff meeting with solution center and core to then say OK.\\nDo we have the list of customers and have this basic checklist? Do we?\\nHave have we identified the list of customers we wanna test with?\\nFor regression testing, have we have a list of customers of what we want to test? This new feature functionality with?\\nWhat is the timeline?\\nWhen will we know?\\nHow will we communicate, right, if it needs another war room type chat to be available so that we can always communicate during the hardening period with core and solution center? I think it's also needs to be made available and then we just have.\\nMeetings set up at DIFF and at frequencies like every other day or.\\nAt the end of the week before, that's the cadence that needs to be decided. And then at the end of the day, you would we just come to a term that's saying yes, solution Center tested 80%.\\nWe're feeling confident with the 80% that we tested.\\nSo is our wonderful core side of the House feeling confident about the test or if it's something that's on the other side of the house where, Nope, we're finding a lot of bugs.\\nMaybe we don't send a communication out two weeks or three weeks prior to a known release.\\nAnd then try to control their communication going out and disappointing customers.\\n\\nRadim Moravec   33:47\\nAnd we will definitely need also the common chat, because we need to distinguish. Is it the customization or is it not? I think that on the boardroom, we found that it was not always completely clear.\\nSo some kind of, you know, small ballroom.\\nI don't have to have three.\\n\\nZain Master   34:01\\nOh, you don't want 70 people in there? 120 people.\\n\\nRadim Moravec   34:05\\n500.\\n\\nZain Master   34:06\\nYeah. And I think that's that.\\n\\nLukas Kawulok   34:06\\nJust don't call it war room.\\nBut annotation.\\n\\nZain Master   34:09\\nYeah, I think.\\nI think that's that's that's one of the lessons, right, which is like there were too many cooks in the kitchen at that particular point in time. And I got too distracted to the point where I wanted to mute those bloating notifications because it was feeling like PTSD to.\\nMe.\\nBut at the same time, that forum was very useful in escalating issues that needed to be identified by core. If it was a customization or not.\\nOr by customization if it was a customization or core, right?\\nSo that line of communication still needs to be available.\\nWe don't need to call a war room.\\nBut it needs to be there.\\n\\nRadim Moravec   34:46\\nYes.\\n\\nStephen Pack   34:46\\nBut you have to recognize.\\n\\nLukas Kawulok   34:46\\nAnd we need to have, I think, better work here and have that middle area with support.\\nI think this.\\nWhich should help us to identify its core or back because for all of us, engineering work is probably the most costly.\\nAnd something we want to protect.\\nSo maybe in this evaluation and we have more time ahead, not in those crazy situations post deployment or during deployment stuff as it was right now have more support involved to help obvious analyzing to more protect software engineers as they have the project that commitments et cetera.\\nSo.\\n\\nStephen Pack   35:25\\nI want to specifically know how how it would be different and how it would not become 70 people.\\nBecause every every single topic that came up there, it was always.\\nIt was always directed down and outward to the person who knew just that little thing. It it seemed impossible for anything to flow through anybody in any centralized way. So.\\nWhat what would be different if it were done again?\\nWould we not get result, you know, results from individual QA would be not needed to go to every?\\nSingle services person working on different projects and and why?\\n\\nTerry Stone   36:02\\nI think we wouldn't have to go to all those individuals if we had a good understanding of how to use each implementation.\\nSo when the next release comes out, GAF needs to be tested. If we have an understanding of how GAF implemented cpqo, what the paths are to test GAF for CPQ, then we have a test plan we could run through it.\\nWe could verify that it's working as expected.\\nWe wouldn't have to start asking each other. Hey, who did Gaf? Was that?\\nWas that this person or that person and try to find him and ask them to start testing?\\nAd hoc like we would have a plan to place, we would know what to do.\\nI think from a solutions standard perspective from release to release, we don't care what the new features are. We just need to know what that particular implementation does and make sure that it still does what it was supposed to do.\\nBut we don't have that documented anywhere, so we don't have a way to go test GAF or Zimmer or anybody.\\nWe don't have that knowledge.\\nIt's just in people's brains and I think that we have all those brains on that chat because that's where the knowledge lives. If it lives somewhere uniform.\\nAnd we would have steps to take where we wouldn't have to involve everybody.\\n\\nStephen Pack   37:08\\nRight. Would any of that be different for this flow? I mean, if if Zain puts in a JIRA ticket next next week for the August release, will he have everybody from every project booked?\\n\\nZain Master   37:19\\nWell, I think that's where that. That's where we.\\n\\nStephen Pack   37:20\\nZain. We see her. See her screen.\\n\\nLukas Kawulok   37:23\\nAny video or private e-mail?\\n\\nZain Master   37:24\\nOh.\\nYeah, sorry.\\n\\nRadim Moravec   37:27\\nYou need help with anything.\\n\\nZain Master   37:28\\nA lot, actually.\\nTell my wife to stop bugging me about buying a house.\\nSo yes, that would be one if anybody knows ideas about that one, let me know.\\nBut in the end of the day, right when we look at.\\nSome of this work. It is being still very reactive to the release. What I think we need to do is start to think about it proactively as well, right?\\nSo that's where idea number. You know, I think invite SC resources into demo meetings to keep loop of the customization work that's coming down the line.\\nSo how do we do that?\\nHow do we encourage that to be?\\nProactive participation from the solution center team.\\nSo this is something that's fore thought.\\nAt not hindsight.\\n\\nRadim Moravec   38:22\\nBookings.\\n\\nZain Master   38:24\\nNo, no. This is different than bookings, right?\\nSo that's where I'm trying to see every Sprint at the end of every sprints within the agile framework that we have. We are giving people an understanding of what was worked on, what's about to be released and included in the release, right?\\nAnd so if we had, for example, the opportunity to explain to the solution center team like hey, within the API authorization API, we've changed the order of operations.\\nOf how the tokens get accepted. This is something, then that solution center could ask us in that meeting or inquire more about and go hey, I saw you change this order. This is not how we work.\\nOh ****. We need to think about something on our end.\\nOr actually can you not change that order because it's going to impact the authorization for every customer we have implemented for at this moment in time.\\nRight. So that's where we we start to collaborate a little bit more and not only include the input of solution center into core development, but then also expand some of the core development changes.\\nKnowledge within Solution Center as well.\\n\\nLukas Kawulok   39:37\\nI think this is about sharing recording of the demo because I can't imagine that every second week we are ending Sprint for price point, RCM, CPQ EPP and then have a meeting or for afternoons just fully booked for those demo live demos and showing it would be very.\\nChallenge to coordinate and have all people that are solution architect. So we need to be probably better in have one place for recording sending announcement hey.\\nResult of work of those two team is there when you will have time.\\nPlease watch it.\\nSend us feedback here in this format. Happy to download anything.\\n\\nZain Master   40:18\\nI love the idea.\\nI don't think we're there from a discipline perspective just yet.\\nThis is where there is that saying where we have to slow down to speed up.\\nThis is the opportunity and point in time where we do need to slow down, to have participation across the board, live in person.\\nI have 17 recordings I need to watch.\\nI have maybe watched three of them because I just don't have the time.\\nRight. So.\\n\\nLukas Kawulok   40:44\\nYeah, but it is not finding it.\\nHave additional meetings in your gandhar is not saving. Your problem is the time right?\\n\\nZain Master   40:54\\nThis is the balance that we need to get to because and that's what I'm saying. We as a company, I feel and I'm gonna start touting this message all the way up the board as well that we do need to slow down in order to speed up because.\\nThe way we're moving, the way we're pacing, it's creating more chaos than than order.\\n\\nLukas Kawulok   41:11\\nYeah, another an additional challenge is time zones, right?\\nWe have Dev OPS teams India.\\nWe have architects in West Coast, if I'm not mistaken, right?\\nSo very challenging.\\n\\nZain Master   41:23\\nDo we?\\n\\nLukas Kawulok   41:26\\nTo I don't know where.\\nChase Howard and all those guys are sitting.\\n\\nZain Master   41:27\\nI thought most.\\n\\nLukas Kawulok   41:36\\nSo we are really cross watch, right and.\\nChallenging too.\\nFind some regular time slot for almost how will the company or I will be very very interesting to just try to calculate how many people would be there, yeah.\\n\\nZain Master   41:56\\nOK, if the way is to have recordings in place and have them viewed by the the solution center, then the responsibly redeem Peter falls on the team to do that right? And is it gonna get done or is this something that's gonna be missed? Again, that's that's the.\\nThat that becomes a part of the discipline.\\n\\nPetr Klen   42:21\\nI have concerns about that. Yeah, because you can imagine those guys from solution center are fully engaged working for the current projects, current customers and now in fact we will force them every two weeks if it is quite often to spend how many hours watching the recordings or.\\n\\nZain Master   42:27\\nIzzy. Yep.\\n\\nPetr Klen   42:40\\nJoining your demo sessions, they need to switch and think about the old customers and their implementation, whether it would.\\nImpact them.\\nYeah, I mean the changes UI implied.\\nAnything.\\nUh, and that that.\\n\\nZain Master   42:54\\nSo usually in this case where we've had it is in my past companies where some of these similar situations have occurred is we used to identify train the trainer model.\\nAre you familiar with train the trainer?\\nRight, so who is the one individual that we can identify from the solution center organization that we impart information to and that is the one person that then is responsible for disseminating that information down to the lower teams.\\nI understand.\\nYou can't have everybody attend.\\nThat would be ridiculous, and I'm not asking for that.\\nI'm asking for a sole person to be responsible to intake of that knowledge and then share it within the organization in a format or in a meeting.\\nThat you internally have were, you know, it's your internal meetings, by the way, CPQ is working on this.\\nThey're making these changes. Here's the recording.\\nHere's what I saw.\\nHere's the summary notes we have.\\n\\nPetr Klen   43:50\\nIt would have to be.\\n\\nZain Master   43:50\\nAll of that, that.\\n\\nPetr Klen   43:53\\nYeah. Yeah, we can say brainstorm over that concept.\\nBut it would mean that we will have to have a person who is able to filter out the changes which will not be affecting. Yeah, the former implementations, just to deliver the message on the changes which are suspicious, which are clearly affecting that.\\nAnd yeah, Radim, I think I know the only person on our side who will be able to do that for us.\\nCpq and this is petrol for month and even petrol is not a very about all the implementations.\\nYeah. We have about 50 customers, you know, on CPQ and each implementation is slightly different.\\n\\nTerry Stone   44:38\\nCan I?\\nCan I jump in here for a second?\\nSo I think that the idea of having folks participate in every Sprint might be overkill. If you look at release to release the number of features that get put into CPQ that you would demo to show the the team as a whole, I think there are going to be.\\n\\nZain Master   44:40\\nYeah.\\n\\nPetr Klen   44:46\\nYes.\\n\\nTerry Stone   44:55\\nA couple features there are going to be a ton of sprints that are just behind the scenes technical backlog kind of stuff that nobody needs to know about because not externally.\\nFacing like you don't see it.\\nThere's no feature, there's no.\\nThing that that's gonna connect to. It seems like the right cadence for this kind of communication might be 1 release.\\nSo we just started to Sprint or we just started release in August.\\nThere's a great opportunity there to have a release demo internally.\\nInvite the world.\\nLet everybody see what's going on, CPQ.\\nIt's a one hour commitment from everybody.\\nIt's not every couple weeks somebody has to check in, and then we're gonna see what the new features are that are coming into CPQ. That would be a great time to kick off the thing of, OK. So how?\\nWho's gonna be impacted by these new features, if anybody?\\nDo we think?\\nAnd then we're gonna have some sort of solution center regression testing across all customers before the release goes out the door, right?\\nSo we don't have to have this be in every Sprint check in because there's probably nothing that's demoable every Sprint.\\n\\nZain Master   45:54\\nMy concern is that if there's something that's found at the end of that, you know, say we do the August testing kick off. If we're calling in that the meeting where we now demo to the entire world.\\n\\nPetr Klen   45:54\\nBut.\\n\\nZain Master   46:06\\nIncluding solution center here. The changes that we're bringing into the product. If there are impacts and changes that need to be made is the solution center then able to quickly modify implementations.\\nI'm guessing no because you guys need your own level of lead time as well in order to make any changes that we may have made.\\nOn core that are incompatible with changes that exist.\\n\\nTerry Stone   46:29\\nWell, but there shouldn't be any like we should be regression proof if there's a problem with an implementation based on core core has made a mistake and needs to change. We don't change the implementation.\\nI don't think unless there's a really compelling reason why we don't want to support something that we supported previously.\\n\\nStephen Pack   46:46\\nYeah. We're not talking about booking any engineers to to actually make any changes.\\nWe're just talking about testing.\\nAnd and there is there is supposed to be coordinated with the June Pulse a an overall demo this this round which we did not have in previous releases. That was something Gloria wanted to add to this release, so that that should provide that. But you know it's an.\\n\\nZain Master   47:03\\nOK.\\n\\nStephen Pack   47:08\\nEarly look at the right level.\\nOf what's happening in terms of who it goes to, obviously like, you know, redeems in the product Council. So he'd be in that.\\nYou know, getting that message out to the team, whether that's through recording or or through, you know the the demo being available to everybody, which it will be either way that can work. So in terms of getting information and starting to make conclusions about what's impacting that, that.\\nInformation's there at the right level, not too, too ridiculously overwhelming.\\nAt at the right time.\\n\\nZain Master   47:40\\nThat's good to know.\\nAt least, OK.\\nAt least we're doing a demo at Pulse 2, so that sounds like OK.\\nAlright, I will give up on that task.\\nThanks for helping me understand.\\nSee I'm I can change my mind.\\nIt's OK.\\nYou convince me the right way.\\nAll right.\\n\\nLukas Kawulok   47:56\\nIf I somehow ask if I got it right, so there will be free levels of demo on tools one, tools two and and release right fill levels continuously, how we are progressing?\\n\\nZain Master   47:58\\nYes.\\n\\nStephen Pack   48:09\\nNo, the only the only demo that was added was at Pulse 2.\\n\\nZain Master   48:10\\nNo.\\nYep.\\n\\nLukas Kawulok   48:13\\nOK, on to.\\n\\nStephen Pack   48:14\\nIt's it's. Yeah, it's.\\nI mean, it's not on.\\nYou know it's it's coordinated with pulse two in June is the. Yeah. Just just one time thing.\\nSo nothing else is different. Yep, sorry.\\n\\nLukas Kawulok   48:23\\nAnd and then when everything is finalized.\\n\\nZain Master   48:29\\nThat would be the August kickoff.\\n\\nStephen Pack   48:30\\nThere's no.\\nRight. Well, the, I mean, the August kickoff has already happened. There's.\\n\\nLukas Kawulok   48:33\\nOK.\\n\\nZain Master   48:37\\nNo, no, I mean the, the, the, sorry the Steven not to confuse you with the August kick off the August kickoff that I'm referring to is the August kickoff with the solution center and CPQ core to start talking to get the release to OPS meeting, right.\\n\\nStephen Pack   48:50\\nYeah, really stops.\\nYeah, the beginning of hardening phase is this one.\\n\\nZain Master   48:53\\nYep, Yep.\\n\\nStephen Pack   48:54\\nYeah, but there's there's no official demo here, I mean.\\nYep.\\n\\nZain Master   48:58\\nAnd I think the ask here is to make it an official demo to include everything in there.\\n\\nLukas Kawulok   48:59\\nWe will.\\nYeah, because on polls to the check doesn't need to be everything finalized so.\\n\\nZain Master   49:05\\nOf what has been released.\\n\\nLukas Kawulok   49:12\\nAll those not finalized stop on tools. Do we need to demo on the restore right?\\n\\nZain Master   49:18\\nI would ask Stephen to see if Gloria would be amendment open to amending release to OPS with also a demo, because that will probably be inclusive of hopefully everything that was committed to Impulse 2 and beyond, because pulse two may just be half the work that's been comple.\\nRight.\\n\\nStephen Pack   49:38\\nYeah, yeah. Pulse two is obviously going to be work in progress, but the idea is to give the the early early view, but still real to to downstream, to marketing and to to everybody else.\\n\\nZain Master   49:41\\nYep.\\n\\nStephen Pack   49:50\\nThe the delta between these two should be not huge in terms of what's expected in scope.\\nSo yeah, I mean, because the other thing is is doing demos here are gonna be duplicative of like the guide, you know, the guides that like, you know, Chuy's gonna be asking everybody to make.\\nI mean those are essentially demo creations.\\n\\nLukas Kawulok   50:13\\nYeah. Then then we need to check if this is also distributed to the social Architect Ocean Center.\\nThe Gzel towns, those those recording or it goes just marketing sales where every that goes right.\\n\\nStephen Pack   50:26\\nThis, sorry this this demo should be for everybody if that's if that's the one you're asking about the the the. Yeah, all the product experience stuff.\\n\\nZain Master   50:27\\nYeah, guy.\\nYeah.\\n\\nLukas Kawulok   50:31\\nNo, that last one release to.\\n\\nStephen Pack   50:35\\nYeah, I mean that.\\nThat should be, yeah.\\nI mean used and reused as much as it could be.\\n\\nZain Master   50:37\\n****.\\nThe guide videos tend to be a little bit more market facing and user facing.\\nI don't know if those would be the same level of detail that solution center is looking for, right?\\n\\nStephen Pack   50:54\\nI don't.\\nI mean it covers the functionality and how to use it.\\nYeah. I mean, if I'm, I'm not sure that.\\nA.\\nA month month level demo is going to be much deeper either though.\\nThat's the thing.\\nI mean, they're not going to go into implementation specifics.\\nIt's going to it's going to be.\\nA.\\nYou know widely.\\n\\nZain Master   51:11\\nCustomer facing specific.\\n\\nStephen Pack   51:13\\nA widely relevant message.\\nI mean, So what is the CSM interested in?\\nWhat is, you know, marketing sales, people like that interested in.\\nSo yeah, if it needs to be tremendously technically deeper, I'm not sure that's you're gonna get that at the at the pulse demo either.\\n\\nZain Master   51:30\\nOK.\\nAlright, I think we've beaten this to a dead horse action #4 generate and store output for integrations prior to every release to compare.\\nSo if you were able to read the details in the meeting, the the e-mail that I attached here and the notes that I had from there, that comes down to I believe the solution center.\\nSo the ask here is to have an output of whatever you're about to.\\nIs an outbound.\\nEither a data dump or a communication to a third party system.\\nOn the customer side to then validate and be able to see.\\nHas it changed right from the July from the April release to the August release? If it has changed somewhere along the way, then is definitely a core problem. If it has not changed from beyond that touchpoint out to a third party system, then it happens to either be.\\nA configuration a mapping, a customization, or a problem that is lying on the customer side.\\nRight. So that we reduce this level of noise that's created when we find out something on the customer side is not eventually working.\\nI don't think we do this today.\\nIf we do, please let me know. But as per Peter, I don't think we do this today.\\n\\nRadim Moravec   53:05\\nYou're saying then probably not.\\n\\nZain Master   53:09\\nSo how do we make this happen, right?\\nHow do we start to track these?\\nBecause I don't know the implementations where solution center is building data packages or outbound activities for which specific customer right?\\nSo that's, that's the where my level of familiarity stops. Solution Center is aware of these integrations.\\nAnd is can solution center start with this release?\\nIdentify what's the output for 25 dot one or two, whatever patch release we get to and then compare it to. Then the next release version to see. Hey. Yep, we did our due diligence.\\nWe do have a capture of what the Jason packet was maybe.\\nHere's what it looked like prior to the new build. The release candidate come into play now. This is what it looks like. Cool. We're good.\\nNothing's broken here.\\nNothing to see. Move on.\\n\\nRadim Moravec   54:16\\nFrom the integration perspective you mean?\\n\\nStephen Pack   54:21\\nAre you just talking about API?\\nLike API level.\\nOh boy. OK.\\n\\nRadim Moravec   54:31\\nSo does the.\\n\\nPetr Klen   54:32\\nI'm just.\\n\\nRadim Moravec   54:35\\nI think that is the discussion that we initiated with.\\n\\nPetr Klen   54:35\\nSorry.\\n\\nRadim Moravec   54:39\\nWhat is his name? OK.\\nSecurity guy.\\n\\nLukas Kawulok   54:45\\nA little bit different topic I think in this case.\\nWould be great if you can return to Peter Loffelmann and try some proof of concept, then see if this is something worth we can we you whatever can do it in future and like this idea what needs to be definitely proof that it is suitable what you mention.\\nThis security guy with Nalin because.\\nWhat we noticed during this testing period for for CPQ is that.\\nOur connections to connectors usually sometimes usually disappear right after project ends.\\nPlease correct me if I'm wrong.\\nSo and if we have some access to customer connectors then it is based on some some specific name specific account.\\nSo it's for example some other resources want to connect to connectors.\\nSometimes they need to wait 5-6 hours before.\\nSome call will start or some social architect let him.\\nLet him go.\\nBecause there is also two factor authentication.\\nSo this is definitely Dell and also this testing which we were doing there was big weak point it was that connectors, 2 S, four DSR and others.\\nSo we need to improve how we are managing those accesses to to collectors. So This is why we contacted Nalin if we can help pass this out, secret tooling will be better for managing those staff also for two factor authentications.\\nAnd this can.\\nHopefully also help to our customers to give, give them better confidence that hey, this is vendavo common account. We are managing it.\\nWe are these two.\\nPlease do not remove our accesses.\\nAfter well when project is done because it's potential, we will need it during irrigation testing and we will not need it in future for some potential bug fixing.\\nSo this is also one things which we need to improve to be sure that our collectors are working.\\nSorry for long speech.\\n\\nZain Master   56:51\\nAnd I think and I think related to that is also we internally CPQ side of the House need to add API performance testing as part of the scope of the test, right.\\nSo if we're just talking specific APIs and integrations, those are the three big activities that we need to do one identify, Yep, APIs working on our end.\\nIt is performing as expected or better, hopefully not worse.\\nThen that builds confidence for you and team on the solution side of the House.\\nOK, APIs are working now.\\nLet's look at the API output.\\nHas that output changed before it's handed over to the customers?\\n****, it changed.\\nOr no, it didn't change what we need to now find out what's happening on the customer side of the house.\\nDo we have the logins to necessarily go in and investigate on the customer side of the House?\\n\\nLukas Kawulok   57:43\\nGo. Sorry, definitely.\\nThen we need to return to the performance testing.\\nWe need to plan it to our road map to have it fully done.\\nThank you guys.\\n\\nZain Master   57:50\\nSo I don't think we got through all of this.\\nI will schedule another one to make sure that we get to all of this.\\n\\nRadim Moravec   57:56\\nGood. Thank you.\\n\\nLukas Kawulok   57:56\\nThanks, bye.\\n\\nZain Master   57:56\\nThanks. I'll share notes from today's meeting.\\n\\nPetr Klen   57:59\\nThank you.\\n\\nLukas Kawulok   58:00\\nThanks.\\n\\nTerry Stone   58:01\\nBye. See you guys.\\n\\nPetr Klen   58:01\\nBye.\\n\\nZain Master stopped transcription</th>\n",
       "      <td>NaN</td>\n",
       "    </tr>\n",
       "  </tbody>\n",
       "</table>\n",
       "</div>"
      ],
      "text/plain": [
       "                                                     0\n",
       "﻿Transcript\\nApril 29, 2025, 2:02PM\\n\\nZain Mas... NaN"
      ]
     },
     "execution_count": 19,
     "metadata": {},
     "output_type": "execute_result"
    }
   ],
   "source": [
    "# pulling in zains real world transcript\n",
    "transcript = pd.read_json('../Resources/vertopal.com_Discuss Collaborative Testing prior to release.json', orient='index')\n",
    "transcript"
   ]
  },
  {
   "cell_type": "code",
   "execution_count": 20,
   "id": "6529b95e",
   "metadata": {},
   "outputs": [
    {
     "data": {
      "text/plain": [
       "'#audio transcription bot\\nfrom openai import OpenAI\\n\\nclient = OpenAI()\\naudio_file = open(\"Discuss RCM _ CPQ Data Usecases-20250411_081350-Meeting Recording.mp3\", \\'rb\\')\\n\\ntranscribed_audio = client.audio.transcriptions.create(\\n    file=audio_file,\\n    model=\\'whisper-1\\',\\n    response_format=\\'text\\'\\n)\\ntranscribed_audio = \\'\"\\' + transcribed_audio + \\'\"\\'\\nprint(transcribed_audio)'"
      ]
     },
     "execution_count": 20,
     "metadata": {},
     "output_type": "execute_result"
    }
   ],
   "source": [
    "'''#audio transcription bot\n",
    "from openai import OpenAI\n",
    "\n",
    "client = OpenAI()\n",
    "audio_file = open(\"Discuss RCM _ CPQ Data Usecases-20250411_081350-Meeting Recording.mp3\", 'rb')\n",
    "\n",
    "transcribed_audio = client.audio.transcriptions.create(\n",
    "    file=audio_file,\n",
    "    model='whisper-1',\n",
    "    response_format='text'\n",
    ")\n",
    "transcribed_audio = '\"' + transcribed_audio + '\"'\n",
    "print(transcribed_audio)'''"
   ]
  },
  {
   "cell_type": "markdown",
   "id": "33a3c123",
   "metadata": {},
   "source": [
    "## adjust comment code cells above or below depending on test input"
   ]
  },
  {
   "cell_type": "code",
   "execution_count": 21,
   "id": "e41e3b17",
   "metadata": {},
   "outputs": [],
   "source": [
    "# calling it the same variable for simplicity later - comment out if using audio\n",
    "\n",
    "transcribed_audio = str(transcript[0])"
   ]
  },
  {
   "cell_type": "code",
   "execution_count": 22,
   "id": "2f4c54ee",
   "metadata": {},
   "outputs": [
    {
     "data": {
      "text/plain": [
       "56998"
      ]
     },
     "execution_count": 22,
     "metadata": {},
     "output_type": "execute_result"
    }
   ],
   "source": [
    "len(transcribed_audio)"
   ]
  },
  {
   "cell_type": "code",
   "execution_count": 23,
   "id": "1c945fa7",
   "metadata": {},
   "outputs": [
    {
     "data": {
      "text/plain": [
       "[\"\\ufeffTranscript\\\\nApril 29, 2025, 2:02PM\\\\n\\\\nZain Master started transcription\\\\n\\\\nZain Master   0:03\\\\nEverybody, the purpose of this meeting is to talk about and understand and formulate plans on how to make sure that we can increase the confidence of our.\\\\nReleases going out to customers, right? As we understand most of our products are impacted by a level of customizations that involve very specific customer setups and implementations.\\\\nSo while the product is able to perform a level of testing, there needs to be that next level of testing that is performed in specific to that customer's implementation and that specific environment. Many times as we've seen, we've gotten a release out there only to have it.\\\\nImpacted either by product score functionality that needs to be compatible with a implementation, or the implementation side of the House.\\\\nThat's incompatible with product and then that gets us into this wonderful spiral of trying to continually address.\\\\nThe issue and release after release after release after release going down the line, ******* off customers ******* off internal people because then we're working way too many hours.\\\\nThen we were supposed to. So the idea here is to propose and come up with ways on how do we not do this again, right?\\\\nBecause I'm sure the last three weeks have been fun for all of us and it's something that we should aspire not to do again.\\\\nAnd this is where I believe there needs to be cross collaboration between both sides of the House.\\\\nWhere there's the solution sensor side of the house that understands the implementations the best and also the core product side of the house that can do a level of testing.\\\\nTo even complement some of the set testing that's required on the solution center side of the House.\\\\nSo what you all saw in the meeting notes that I shared with this meeting is my research and thoughts into what could possibly happen here to help out. And I sat down with Peter Lafferman to come up with these ideas and to better understand the current testing. What?\\\\nMissing where?\\\\nSome of the gaps and So what the ideas represents and the action items represent are.\\\\nThings that we could do.\\\\nIn order to get better and improve one internal confidence of the release and two external acceptance of the release, because that's what we're driven by is we want, we want customers to all upgrade at the same time, we do not want them to be going off on differe.\\\\nSilos, which makes it really a pain and hassle for Dev OPS and then us to later upgrade them into a whole bunch of ways. They're different than what we planned to.\\\\nSo I'm going to stop talking now and share the screen to start the conversation that I feel is what needs to drive this meeting at the end of the day though, what I would like to see is.\\\\nOne agreement or new ideas?\\\\nThat we can think about in order to again achieve that goal of improving confidence internally and also improving acceptance and adoptability of the of the release by external customers.\\\\nSo.\\\\nI can go down these steps of action items one by one and we can discuss if this is something that we want to do.\\\\nWe have the capabilities to do and which house it lives in, or we can have a different conversation, which is people can say.\\\\nOther ideas?\\\\nI am going to shut up now.\\\\n\\\\nLukas Kawulok   3:51\\\\nWhich are there, but I think what we need to also discuss that.\\\\nFirst release, which was totally failure and be A to rollback everything we did in all way. Then we had new way into waves.\\\\nIt was something new for question.\\\\nDo you want to again make a releases into waves?\\\\nSecond questions in when you were doing securities, there was bigger participation in testing from solution center.\\\\nI believe so.\\\\nThis is something where you want to do in future again, even its ultimate.\\\\nHolly, but this is also something what we maybe for some of us it is OK.\\\\nWe will do it again, future for sure, but maybe for some of us it is OK.\\\\nThis was one time agreement, but we need to agree if we will do it also in future.\\\\nMy thing is yes, but also I think this is something we need to cover.\\\\n\\\\nZain Master   4:46\\\\nSo I'm going to answer the wave question, Stephen.\\\\nI don't know if you have an opinion, but I do like the wave idea.\\\\nIt does help one with.\\\\nUs understanding if there are issues immediately that we are not exposing to our larger set of customers.\\\\nSo, you know, keeping the 8020 rule in mind, 80% of our revenue comes from 20% of the customers and that 20% of customers is the last wave that goes out. So keeping them a little bit more protective.\\\\nLess issues coming in. Less escalations is definitely an idea that has helped out in my opinion, but I'm open to agreement from the rest of the group as well.\\\\n\\\\nStephen Pack   5:30\\\\nI I just.\\\\nYeah, I think the wave is a good idea from a risk management perspective. We have to be careful with how that gets communicated to customers because you know, especially if one of those big customers is really eagerly waiting a feature in a release and we say don't worry.\\\\nThe release is coming this date.\\\\nIt's, you know, challenging.\\\\nIf it's oh, well for you. It's a week later. We just need to make sure that that message gets gets clear. Yeah.\\\\n\\\\nZain Master   5:51\\\\nYep.\\\\n\\\\nLukas Kawulok   5:57\\\\nI don't know what to be answering my questions, but I think this was disaster Vijay. I never have seen CPQ before.\\\\n\\\\nTerry Stone   5:57\\\\nAnd then there's a.\\\\n\\\\nLukas Kawulok   6:06\\\\nBut this is mainly because of the upgrade, right?\\\\nAnd this is not finished.\\\\nSo I think definitely for next August release and Prob also December when we will go also to Kubernetes most probably we need to follow the same principle then let's see maddfin to next two following major issues but not for patches.\\\\nThis is my opinion.\\\\nSorry, sorry.\\\\n\\\\nTerry Stone   6:29\\\\nI agree that patches.\\\\nI would hope that we send everybody out at the same time.\\\\nI think those are pretty transparent, pretty low risk.\\\\nI think the thing I concerned about is if we have these different tiers or waves and so you've got three waves. All the communication has to go out and be segmented out into these three different waves. And then if the 1st wave goes out and things aren't good.\\\\nThen what's the cascade of communication that happens after that?\\\\nSo now you have to figure out what to do with wave one, and then you have to quickly figure out.\\\\nIf you're postpon wave two and wave three and the communicate app those customers and then when you do, do that.\\\\nDo it. Do we keep pushing by a few days at a time and have several times, like there's no good answer? I guess if we have a release like we had in the last this last time around.\\\\nBut that's my concern about having three different branches or three different waves releases.\\\\nLots of communication to be done. Lots of moving parts with hosting.\\\\nI think it's complicated because you have to move tranches.\\\\n\\\\nZain Master   7:26\\\\nMm hmm mm.\\\\n\\\\nTerry Stone   7:29\\\\nWe did that for production.\\\\nWe didn't do that for the lower environments, but we should.\\\\nSo if you're Zimmer and remove your production on a certain day, we should move your stage and dev and test everything else at the same day so that it's all in alignment. And we didn't do that.\\\\nWe can't do that today.\\\\nLots of lots of considerations on how to how to make all that work.\\\\nI get the idea behind the waves, but it's there's a lot of management to be done there.\\\\n\\\\nZain Master   7:57\\\\nSo from a communication standpoint, I know.\\\\nLauren reached out to me and Steve and I'll be I was just about to kick off a message with you and about the communication aspect of thing and how we can get better.\\\\nSo I'm gonna take that offline with Stephen and make sure that I have a plan that can be put in place and work with Stephen to make sure that we can do it properly. How we decide to delay releases or you know from the first waves outcomes.\\\\nThings like that.\\\\nSo, Terry, I'll take that on.\\\\nWork on it.\\\\nBounce it off this team again.\\\\nBut outside of the communication aspect of things.\\\\nYou mentioned Dev OPS is is a challenge.\\\\nIs that a challenge that we can overcome or is that a challenge that's still going to exist and cause more issues in the long run?\\\\n\\\\nTerry Stone   8:52\\\\nI think we can overcome it if we.\\\\nSorry, I'm just taking through this.\\\\nTo move people in waves, we're gonna have to have different gateways for each wave. For the lower environments, because it's the number of environments that we have there.\\\\n\\\\nZain Master   9:04\\\\nMm hmm.\\\\n\\\\nTerry Stone   9:09\\\\nWe're also gonna have to get hosting to make sure that DNS is routing everything to the appropriate place, because right now it's kind of a mess.\\\\nIt's not well managed.\\\\nAnd then we can move those waves one at a time.\\\\nSo more infrastructure and more hosting.\\\\nIt's a higher touch host to try to to manage it in waves, but it can be done.\\\\n\\\\nLukas Kawulok   9:33\\\\nSo Terry, it follows that your proposal, which we also shared with Chitan right at the previous feature current, I think this should more about a screen that mass about about versioning, right?\\\\n\\\\nTerry Stone   9:46\\\\nThat I think that'll help clarify for everybody. Kind of what what?\\\\nWhat they're gonna get when they hit a URL?\\\\nBut there's still this problem of migrating the tenant and not migrating other tenants.\\\\nSo when wave one goes, if we swap their prod URL to point to the next release, that's great.\\\\nGreat. We could do that. But we have to do it for that tenant and their lower environments and not the state, not the lower environments for the wave two and the wave 3 tenants.\\\\nSo we have to separate out all the lower environments into three different waves and the prod environment into three different into three different waves. The prod environment we're managing with explicit rules in the gateway because we've got 50 tenants or so to manage and we have enough cap.\\\\nIn rules in the gateway to manage that number of tenants, but you only get a limited number of routing rules. So if you want to manage the 300 lower tenant environments, we can't do that with one gateway.\\\\nSo I think we would have to break that into multiple gateways and what makes sense to me is to have a wave 1 gateway, a wave 2 gateway, a wave 3 gateway.\\\\nThen we can use wild cards to move everybody all at once.\\\\nThat will be easier.\\\\nIt just takes additional hosting costs to manage 3 gateways instead of 1.\\\\n\\\\nLukas Kawulok   11:01\\\\nHmm.\\\\n\\\\nTerry Stone   11:03\\\\nAnd we need to make sure that DNS routes everybody in the right wave to the right gateway. And today that's not, that's not audited at all, because if you go look at it, they're all over the place.\\\\n\\\\nLukas Kawulok   11:03\\\\nYeah, we need.\\\\nYeah, I agree.\\\\n\\\\nTerry Stone   11:22\\\\nSo with with some support and infrastructure like if we were gonna do this as a go forward, we would create more formal structure around this org admin would understand who's in what wave and you could manage it that way. It would manage dynamal, it would manage routing rules.\\\\nLike it would handle all of the heavy lifting so that we don't have to manually do anything, but that would take engineering effort to make sure that it does all that.\\\\nI don't know what kind of appetite we have for taking that on an engineering, but I think that would be a way to.\\\\nTo have a shot at keeping everything straight and then.\\\\nWe would need some sort of hosting process to audit that and make sure that it's in order from time to time.\\\\n\\\\nZain Master   12:07\\\\nSo who is the owner for this investigation?\\\\nIf we do want to move it this way, Lukas doesn't come down to our product team or engineering team.\\\\n\\\\nLukas Kawulok   12:17\\\\nCombination engineering and cloud OPS.\\\\nYeah, so qintan.\\\\n\\\\nZain Master   12:20\\\\nOK.\\\\nSo I'm putting that down as an excellent Yup.\\\\n\\\\nLukas Kawulok   12:32\\\\nYeah, but I am skeptical that all what Terry just said would be achievable in August.\\\\nI think that clear previews future current edition have it also align in in.\\\\nNon production environments produce, but making changes on. I think it's not that you're doing the August, but maybe we can step by step, right.\\\\n\\\\nZain Master   13:00\\\\nAt least start stepping in the right direction, OK?\\\\nAnything else on that topic, Terry, before I move on to the next one?\\\\n\\\\nTerry Stone   13:09\\\\nDon't think so.\\\\n\\\\nZain Master   13:12\\\\nLukesh what was the other question that you wanted to answer?\\\\n\\\\nLukas Kawulok   13:18\\\\nThis time you had that conference page right with customers link to an environment and real checks from social center team that they were able to test this something what we didn't do in past. I think this is essential to be successful in future that we will repeat it.\\\\nAnd there will be those 2-3 weeks for major release to to to test it for patches probably smaller.\\\\nGroup. I think there's something what we need to do, but we need sign off that also solution center is willing to do the CAP capacity to to do it.\\\\nAlso, we were able to see that ready Moravous team didn't have full knowledge about it, so there was also.\\\\nNeeded help from social architect, consultants and from them we need to really show that they are available for us for each major release currently right?\\\\n\\\\nZain Master   14:11\\\\nYeah. So really I'm just and Peter, this is something that I spoke to Peter Lougherman about in terms of how do we line up resources for testing.\\\\nAgain, his suggestion.\\\\nDo not shoot the messenger was that we could formally request the team.\\\\nOne prior to a month prior to our release going into as a release candidate into the staging environments for specific customers.\\\\nThat we come to you and say, look, this is when we plan to do this.\\\\nThis is when the real scandal will be available.\\\\nWhat is the level of commitment we have from you and team to start testing for these release candidates within specific environments?\\\\nNow we don't have to, I think.\\\\nIt's challenging for your team to test every customer, but at least we need to start identifying a set of customers that are either the most complex.\\\\nThe most common that need to be part of a group for testing right? The new release candidate to see if anything is broken.\\\\n\\\\nPetr Klen   15:22\\\\nYeah, if I can comment.\\\\n\\\\nZain Master   15:22\\\\nI also understand one second, Sir.\\\\nI also understand there is a level of automated testing that lives in TypeScript that your team is currently doing. If this is something that you want us to make as part of our testing with the automation frameworks we have, then this is something that Lukas we need to.\\\\nConsider absorbing this so we can take some burden off.\\\\nThe services organization, while you know they do this level of testing.\\\\nThat is required for us to make sure that the releases kinda confidently gonna be accepted by those customers.\\\\n\\\\nLukas Kawulok   16:01\\\\nThis time slot today morning.\\\\nSo he's checking it.\\\\nNot sure we answered but.\\\\n\\\\nRadim Moravec   16:09\\\\nRight. But I wanted to to to say we want to start from this.\\\\n\\\\nPetr Klen   16:14\\\\nI I can start there saying actually you were referring to your action #3 and then two action two is exactly when you said at the end. I can comment on action free.\\\\nYes, at the moment.\\\\nWe always need to reserve the resources in this, in this case QA engineers to be available for the testing of your new version.\\\\nSo if we would take the August release as an example.\\\\nYeah, you will need our resources, our QA resources, as you said, they had two weeks probably before the release date to be testing.\\\\nOn the selected customers, as you said, more complex, etcetera.\\\\n\\\\nZain Master   16:58\\\\nMm hmm mm hmm.\\\\n\\\\nPetr Klen   17:00\\\\nI would say it should be booked more than 1 1/2 months in advance.\\\\nI have checked this morning.\\\\nYeah. What are the current bookings and many of the qa's are fully booked.\\\\nUntil beginning of July, I would say it's time to book these resources for end of July testing at the beginning of May, let's say, yeah, otherwise we will have a problem.\\\\nAnd once the resource is booked for certain project, we are not owning that custody then it is owned by the project manager and you or us will have to approach the project manager and ask could you release that person from your project and did for transfer will be.\\\\nNo.\\\\nBecause they need it here to deliver today customer.\\\\n\\\\nZain Master   17:41\\\\nYeah.\\\\n\\\\nPetr Klen   17:44\\\\nWe should do it now.\\\\nActually, I'm in the bookings.\\\\nIf there would be any hotfix released in a near time, I speculate here you will.\\\\nGoing to, you will roll out some hotfix in two weeks.\\\\nIt's actually a bit late to book the QA resources. If you want solution center resources to test on customer implementations. I can do my best to secure at least the remaining resource one of the Q as available.\\\\nDuring mid of May.\\\\nYeah, but this is all for action free.\\\\nSo we should do it as a as a common practice.\\\\nActually we can book the resources for your December release now.\\\\nYeah, there is no need to wait.\\\\nYou know when you will be releasing, you know that you will need that resources in November.\\\\nDo it now.\\\\n\\\\nZain Master   18:35\\\\nSo how do we I want to formalize the process and Stephen if you can capture this, that'd be great.\\\\nHow do we reach out to who do we reach out to and what do we communicate to inform that we do need resources?\\\\nAnd what if the answer is at the end of the day?\\\\nNo, sorry. You don't have resources, right?\\\\n\\\\nPetr Klen   18:52\\\\nMm hmm.\\\\n\\\\nZain Master   18:54\\\\nBecause that could happen.\\\\n\\\\nPetr Klen   18:54\\\\nMm hmm. Yeah, of course we had the overview of the current bookings.\\\\nThe default process is, say, designed for project managers and technically engagement managers. And yeah, the question is how we will agree whether you will own the process or infest or you will ask rajeem or any of US managers from solution center to do bookings for you which we.\\\\nCan actually.\\\\nWe agreed this morning that for August I will request bookings of the resource.\\\\nIs therefore end of July and I will check what is available in mid-May. So you have at least something. But you are right that we should formalize in sunrise how to process should look like. I don't know if you know yeah how we should bend the process.\\\\nBend. Yeah, let us know.\\\\nBut we can do it at the moment at the beginning so that we.\\\\n\\\\nZain Master   19:48\\\\nLike is there an e-mail? Do I open a ticket in your queue?\\\\n\\\\nPetr Klen   19:51\\\\nWe we open, we open a Jiri kit which is actually the request for resource booking coming to the PMO guys.\\\\nYep, from professional services.\\\\nAnd Erin or Mitu from professional services is processing that request, creating the actual bookings in open air, which is the system where we have all the booking recorded.\\\\n\\\\nZain Master   20:10\\\\nOK.\\\\nSo it's what I'm hearing is go ahead.\\\\n\\\\nRadim Moravec   20:10\\\\nEither I don't know if there is any period, if there is any periods when you're starting this harvesting right, the stabilization time of the of the core of the release. So if there is any kick off like, I don't know meeting or announcement or whatever that in that.\\\\nKickoff or initiate this creation of the JIRA ticket for our resource manager.\\\\nProfessional services, then?\\\\nWhoever do it.\\\\nWe must agree, but this is the process that will work once the ticket is created on them, then we will secure the assignment of the particular people.\\\\nThis is our our work, our part of work.\\\\n\\\\nZain Master   20:55\\\\nSo is it just me sending a formal request over to Peter Yu and saying please help us with capacity bookings for August release in June, right? Two months before?\\\\nNo. Now would you may.\\\\n\\\\nRadim Moravec   21:08\\\\nI would maybe go in the way that you created ticket to our resource manager.\\\\nAnd we will avoid, you know this e-mail.\\\\nHey Peter, please do something, because for me it sounds more systematic way.\\\\nJust create a ticket and research manager will take it over.\\\\n\\\\nZain Master   21:26\\\\nSo can I get access to that?\\\\n\\\\nPetr Klen   21:26\\\\nUh.\\\\n\\\\nZain Master   21:27\\\\nAnd can I or me, Lukas, Renee, get access to that, please.\\\\n\\\\nPetr Klen   21:31\\\\nI think you you you already have an access.\\\\nYeah, in JIRA there is a project or PM or.\\\\n\\\\nRadim Moravec   21:34\\\\nIt's jirab.\\\\n\\\\nZain Master   21:38\\\\nDmor.\\\\n\\\\nPetr Klen   21:39\\\\nYeah, yeah.\\\\n\\\\nLukas Kawulok   21:39\\\\nAsk differently, can you wrote US short summary how to raise the ticket?\\\\nMaybe in circumstance, patience, an e-mail.\\\\n\\\\nPetr Klen   21:46\\\\nSure. Sure we can, yeah. And I think it's documented.\\\\n\\\\nZain Master   21:46\\\\nYes, please.\\\\n\\\\nRadim Moravec   21:47\\\\nYeah.\\\\n\\\\nPetr Klen   21:50\\\\nRadim, I think they will also need to report showing them.\\\\nYeah. Was the current allocation.\\\\nYeah, what's capacity are left and can be booked.\\\\nAnd Zain, you should know that it the bookings will be done against some even internal project and PMO will need to know how the project is funded actually.\\\\n\\\\nRadim Moravec   22:15\\\\nIt's it's on us.\\\\n\\\\nZain Master   22:15\\\\nDavid.\\\\n\\\\nPetr Klen   22:18\\\\nIt's so nice.\\\\n\\\\nRadim Moravec   22:18\\\\nMm.\\\\n\\\\nPetr Klen   22:18\\\\nYeah, yeah, yeah.\\\\nBut anyway, I think the project is already there.\\\\n\\\\nZain Master   22:20\\\\nYeah.\\\\n\\\\nPetr Klen   22:23\\\\nRanim I ask you in the morning and you were able to.\\\\nSay, specify the project so we will describe it in a few buids.\\\\nYeah, a little.\\\\nThis how you can do it and you can do it yourself and people need to arrange and access for you.\\\\nYeah, to be say, Overview report where you will see which of our QA engineers are available so that you know that.\\\\nYeah, you don't need to ask for them because they are already gone.\\\\n\\\\nRadim Moravec   22:49\\\\nYou know, they don't need to.\\\\n\\\\nZain Master   22:49\\\\nAnd.\\\\n\\\\nRadim Moravec   22:52\\\\nI don't think that you know, we can then reply them.\\\\nHey, it's too late.\\\\nWe don't have anyone, you know, but the exit they can have. I thought that's because they will not specify the particular person who will work on it. It's on us.\\\\n\\\\nPetr Klen   23:01\\\\nYeah, but.\\\\nSure, but if you want them to create the ticket, the request directly to PMO, we will not know about that.\\\\n\\\\nStephen Pack   23:18\\\\nYeah, that's Zain. Isn't going to know who he needs. And and I don't think he really cares.\\\\n\\\\nPetr Klen   23:19\\\\nSo.\\\\nDave.\\\\n\\\\nStephen Pack   23:24\\\\nIt's just, you know, he needs some QA to be done and how it gets done is flexible.\\\\nSo would a would a project manager.\\\\nHave that flexibility.\\\\n\\\\nPetr Klen   23:35\\\\nWe will document it.\\\\n\\\\nRadim Moravec   23:35\\\\nThe resource manager.\\\\n\\\\nPetr Klen   23:36\\\\nMaybe we are wasting no time on the details.\\\\n\\\\nRadim Moravec   23:38\\\\nYeah, let's document the process.\\\\n\\\\nPetr Klen   23:39\\\\nYeah, people agree on the best way for you. And yeah, we will send it to you.\\\\nYeah, it will be clarified in a few days.\\\\n\\\\nRadim Moravec   23:45\\\\nAnd I think it will be bulletproven.\\\\n\\\\nZain Master   23:49\\\\nOK so I have action item here that you Peter will write a ticket, a summary of notes for us when we need to open the ticket.\\\\nThe idea then is you guys are internally managing it in terms of who or which project manager is running the show.\\\\nSo question I have is when the release candidate is available and communicated internally to all teams, do I need to also then have a kickoff meeting or is that internally understood that I need to now?\\\\nAllocate my time towards testing this with this set of customers and here's how I plan to update the team that testing has been completed or if there are issues, how do I raise these issues up to the product team?\\\\nGetting into the nitty gritty details and communication and make sure that everything is working well.\\\\n\\\\nRadim Moravec   24:45\\\\nSo you are now in the from the time period in the period of harvesting when the the actual testing is happening, right?\\\\nI think that there should be some kind of check insurance, how it goes, the feedback board of course.\\\\nStatus tracking. Where are we?\\\\nWhat is the pass rate so far?\\\\nWhat is the expected pass rate exit criteria defined?\\\\nAnd then some kind of on the end decision?\\\\nDecision board who say yes we go live or not.\\\\nBased on these exit criteria, and I believe if we or our our, if we all are involved in this process.\\\\nThen we cannot release anything which is which will be failed, right?\\\\nSo that's, but I believe that that's the work like of the release manager.\\\\n\\\\nZain Master   25:29\\\\nTo.\\\\n\\\\nRadim Moravec   25:34\\\\nWho coordinate all this stuff across the across the products.\\\\nBecause what we are describing and discussing now, it's not just the CPQ by the way, all the resources for example, bookings must go to VPP.\\\\n\\\\nZain Master   25:43\\\\nYep, Yep.\\\\n\\\\nRadim Moravec   25:48\\\\nEPS, for example, RCM.\\\\n\\\\nZain Master   25:52\\\\nI'm looking at you, Stephen.\\\\nIs this something that the team's gonna manage?\\\\nBecause I don't know.\\\\nWe don't have a release manager on CPQ, right?\\\\nSo is this something that PMO is gonna handle where it's gonna formalize these processes of understanding which customers will be tested?\\\\nWhat's the status holding these milestone meetings across the board to get updates from the team on their testing the escalations?\\\\nThe thumbs up? Thumbs down.\\\\nThe prioritization of these tickets.\\\\n\\\\nStephen Pack   26:25\\\\nI mean if you want somebody who doesn't know anything about what's happening in CPQ product, sure.\\\\nThat doesn't seem ideal.\\\\n\\\\nRene Gruszkowski   26:38\\\\nYeah, like already this time around we've established processes where even hosting is looking in right and has their own checklist.\\\\nSo I don't think that that's necessarily an issue. I think it's more difficult for us to oversee our own internal testing on CPQ core, right and then also oversee all the customizations because those are separate projects, they have separate implementations.\\\\nIn lot of cases it's not even like.\\\\nCpq ID and you know when when the project is is done?\\\\nSo I think there should be some other person who overseas everything.\\\\nI don't think it should be under under our ownership because we are not familiar with it.\\\\n\\\\nZain Master   27:28\\\\nI'm saying it's PMO that leads some of this stuff, Stephen.\\\\nSo you can be a third party.\\\\nPerson that pulls the teams together and gets opinions from across the board.\\\\n\\\\nStephen Pack   27:43\\\\nOK. I mean, if we're this is the problem, if we're directly working with you know solution Center QA, it's gonna be just like the war room where it's like, well, we don't know what testing needs to happen.\\\\nI mean, you don't know.\\\\nI don't know.\\\\nWe're just like test something and tell us the testing is good. I have no idea.\\\\nSo I mean, that'll be the depth of the PMO that you get is did you do some testing, did some testing OK.\\\\nThe box is checked, so if that's sufficient.\\\\n\\\\nRadim Moravec   28:04\\\\nWe need, we need to have a forum.\\\\nYeah, we need to have a forum where the decision is made.\\\\n\\\\nZain Master   28:07\\\\nYep.\\\\n\\\\nRadim Moravec   28:10\\\\nAnd what is the exit criteria for this this decision?\\\\n\\\\nStephen Pack   28:16\\\\nBut a forum is is the release.\\\\nI mean it's it's in the release.\\\\nPulse. It's in the it's in the GA readiness.\\\\nSo yeah, there, there. This is part of the release criteria for CPQ is did solution center testing passed successfully and what does it look like so that that's that's where it's published. But in terms of who defines for the solution center, QA test XYZ do not test a.\\\\n\\\\nRadim Moravec   28:29\\\\nSo.\\\\nPerfect.\\\\n\\\\nStephen Pack   28:42\\\\nYou know, deprioritize LMN.\\\\nI'm not sure that me or neiveditha are are the ideal person to provide that input, but.\\\\n\\\\nRene Gruszkowski   28:52\\\\nDid.\\\\n\\\\nLukas Kawulok   28:52\\\\nBut it is not cooperation, right?\\\\nSo we know from the release lock what feature will be released, right?\\\\n\\\\nRene Gruszkowski   28:55\\\\nAnd then.\\\\n\\\\nLukas Kawulok   28:58\\\\nAlso, from release notes that we know which bug fix we are releasing, so based on this and some startup smoke tests social set, the QS should be able to identify what should be tested right? So.\\\\n\\\\nStephen Pack   29:10\\\\nYeah, as long as they aren't looking for that guidance to come.\\\\nFor me, that's that's my concern. If, if, if, if I have a solution center QA asking me what customer do I test?\\\\nWhat functionality do I test I'll say.\\\\n\\\\nRene Gruszkowski   29:21\\\\nWell, there will be two things, right.\\\\n\\\\nStephen Pack   29:21\\\\nAll of them.\\\\n\\\\nRene Gruszkowski   29:23\\\\nOne is like general regression testing. For that, the social center will need to figure need to decide themselves.\\\\nRight. Because often enough it's custom workflow. So even I don't know us and so does the first part general regression testing and the second part would be a based on I suppose our changes in core, right?\\\\nSo we would provide a list with changes and the recommendations of what.\\\\nSo there would be two parts, one of them coming from social center of the second part coming from us.\\\\n\\\\nPetr Klen   29:59\\\\nYeah, I agree.\\\\nYeah. Actually on our side, what we need to do as a homework is to select the customer implementations.\\\\nWhich are more most complex?\\\\nNext year has a certain specifics.\\\\nThat's one thing we need to make sure that we have the list of say.\\\\nStandard test cases for these implementations, which will have to be tested anytime, can be understood as a smoke testing and then based on the input from your side saying I'm in the list of changes in each CPQ release as.\\\\nOur QA may decide to do some additional test cases here to make sure that the new changes will is not breaking anything for these customers.\\\\nSo we need to formalize the process and we need also to be sure that we know the list of customers we would like to test every time.\\\\n\\\\nZain Master   30:54\\\\nMm hmm.\\\\nIf.\\\\n\\\\nStephen Pack   30:58\\\\nYeah. So the place to define that is going to be in, you know, I mean at the gate of release tops or the beginning of the hardening phase.\\\\n\\\\nZain Master   30:59\\\\nOK.\\\\n\\\\nStephen Pack   31:05\\\\nThat's the time to have that definition and then monitor execution through that through that phase through that month.\\\\n\\\\nPetr Nesladek   31:14\\\\nSorry did I.\\\\n\\\\nPetr Klen   31:14\\\\nYes.\\\\n\\\\nPetr Nesladek   31:15\\\\nSorry, did I jumping in?\\\\nI see that.\\\\nYeah, that's.\\\\nThat yeah, sorry, that maybe I will add more.\\\\nYou know, there is also a similar situation is with price point. I I thought that was already mentioned somehow here.\\\\nThat would be great that we can, you know, have same same process for both.\\\\nMakes sense?\\\\n\\\\nZain Master   31:39\\\\nAnd that's why I think, you know, a kick off meeting in this is just my perspective guys. You can tell me I'm wrong or change it up. But I think the way I would formalize this process is the moment we have one first and foremost booking available tick.\\\\nIs opened two months prior to a release date.\\\\nThat release candidate will be available for the teams to test. The teams are then informed about core functionality changes that are coming up in that same ticket.\\\\nThat are, you know, I think that would be what pulse two. Right, Stephen.\\\\nSo we'd have a better idea of what's firmly making it into the product at the end of the release.\\\\nSo at least this gives.\\\\nSolution Center an idea of what they need to start thinking about from changes. Then when the release candidate is available, that's when we have a truly a kickoff meeting with solution center and core to then say OK.\\\\nDo we have the list of customers and have this basic checklist? Do we?\\\\nHave have we identified the list of customers we wanna test with?\\\\nFor regression testing, have we have a list of customers of what we want to test? This new feature functionality with?\\\\nWhat is the timeline?\\\\nWhen will we know?\\\\nHow will we communicate, right, if it needs another war room type chat to be available so that we can always communicate during the hardening period with core and solution center? I think it's also needs to be made available and then we just have.\\\\nMeetings set up at DIFF and at frequencies like every other day or.\\\\nAt the end of the week before, that's the cadence that needs to be decided. And then at the end of the day, you would we just come to a term that's saying yes, solution Center tested 80%.\\\\nWe're feeling confident with the 80% that we tested.\\\\nSo is our wonderful core side of the House feeling confident about the test or if it's something that's on the other side of the house where, Nope, we're finding a lot of bugs.\\\\nMaybe we don't send a communication out two weeks or three weeks prior to a known release.\\\\nAnd then try to control their communication going out and disappointing customers.\\\\n\\\\nRadim Moravec   33:47\\\\nAnd we will definitely need also the common chat, because we need to distinguish. Is it the customization or is it not? I think that on the boardroom, we found that it was not always completely clear.\\\\nSo some kind of, you know, small ballroom.\\\\nI don't have to have three.\\\\n\\\\nZain Master   34:01\\\\nOh, you don't want 70 people in there? 120 people.\\\\n\\\\nRadim Moravec   34:05\\\\n500.\\\\n\\\\nZain Master   34:06\\\\nYeah. And I think that's that.\\\\n\\\\nLukas Kawulok   34:06\\\\nJust don't call it war room.\\\\nBut annotation.\\\\n\\\\nZain Master   34:09\\\\nYeah, I think.\\\\nI think that's that's that's one of the lessons, right, which is like there were too many cooks in the kitchen at that particular point in time. And I got too distracted to the point where I wanted to mute those bloating notifications because it was feeling like PTSD to.\\\\nMe.\\\\nBut at the same time, that forum was very useful in escalating issues that needed to be identified by core. If it was a customization or not.\\\\nOr by customization if it was a customization or core, right?\\\\nSo that line of communication still needs to be available.\\\\nWe don't need to call a war room.\\\\nBut it needs to be there.\\\\n\\\\nRadim Moravec   34:46\\\\nYes.\\\\n\\\\nStephen Pack   34:46\\\\nBut you have to recognize.\\\\n\\\\nLukas Kawulok   34:46\\\\nAnd we need to have, I think, better work here and have that middle area with support.\\\\nI think this.\\\\nWhich should help us to identify its core or back because for all of us, engineering work is probably the most costly.\\\\nAnd something we want to protect.\\\\nSo maybe in this evaluation and we have more time ahead, not in those crazy situations post deployment or during deployment stuff as it was right now have more support involved to help obvious analyzing to more protect software engineers as they have the project that commitments et cetera.\\\\nSo.\\\\n\\\\nStephen Pack   35:25\\\\nI want to specifically know how how it would be different and how it would not become 70 people.\\\\nBecause every every single topic that came up there, it was always.\\\\nIt was always directed down and outward to the person who knew just that little thing. It it seemed impossible for anything to flow through anybody in any centralized way. So.\\\\nWhat what would be different if it were done again?\\\\nWould we not get result, you know, results from individual QA would be not needed to go to every?\\\\nSingle services person working on different projects and and why?\\\\n\\\\nTerry Stone   36:02\\\\nI think we wouldn't have to go to all those individuals if we had a good understanding of how to use each implementation.\\\\nSo when the next release comes out, GAF needs to be tested. If we have an understanding of how GAF implemented cpqo, what the paths are to test GAF for CPQ, then we have a test plan we could run through it.\\\\nWe could verify that it's working as expected.\\\\nWe wouldn't have to start asking each other. Hey, who did Gaf? Was that?\\\\nWas that this person or that person and try to find him and ask them to start testing?\\\\nAd hoc like we would have a plan to place, we would know what to do.\\\\nI think from a solutions standard perspective from release to release, we don't care what the new features are. We just need to know what that particular implementation does and make sure that it still does what it was supposed to do.\\\\nBut we don't have that documented anywhere, so we don't have a way to go test GAF or Zimmer or anybody.\\\\nWe don't have that knowledge.\\\\nIt's just in people's brains and I think that we have all those brains on that chat because that's where the knowledge lives. If it lives somewhere uniform.\\\\nAnd we would have steps to take where we wouldn't have to involve everybody.\\\\n\\\\nStephen Pack   37:08\\\\nRight. Would any of that be different for this flow? I mean, if if Zain puts in a JIRA ticket next next week for the August release, will he have everybody from every project booked?\\\\n\\\\nZain Master   37:19\\\\nWell, I think that's where that. That's where we.\\\\n\\\\nStephen Pack   37:20\\\\nZain. We see her. See her screen.\\\\n\\\\nLukas Kawulok   37:23\\\\nAny video or private e-mail?\\\\n\\\\nZain Master   37:24\\\\nOh.\\\\nYeah, sorry.\\\\n\\\\nRadim Moravec   37:27\\\\nYou need help with anything.\\\\n\\\\nZain Master   37:28\\\\nA lot, actually.\\\\nTell my wife to stop bugging me about buying a house.\\\\nSo yes, that would be one if anybody knows ideas about that one, let me know.\\\\nBut in the end of the day, right when we look at.\\\\nSome of this work. It is being still very reactive to the release. What I think we need to do is start to thin\",\n",
       " \"k about it proactively as well, right?\\\\nSo that's where idea number. You know, I think invite SC resources into demo meetings to keep loop of the customization work that's coming down the line.\\\\nSo how do we do that?\\\\nHow do we encourage that to be?\\\\nProactive participation from the solution center team.\\\\nSo this is something that's fore thought.\\\\nAt not hindsight.\\\\n\\\\nRadim Moravec   38:22\\\\nBookings.\\\\n\\\\nZain Master   38:24\\\\nNo, no. This is different than bookings, right?\\\\nSo that's where I'm trying to see every Sprint at the end of every sprints within the agile framework that we have. We are giving people an understanding of what was worked on, what's about to be released and included in the release, right?\\\\nAnd so if we had, for example, the opportunity to explain to the solution center team like hey, within the API authorization API, we've changed the order of operations.\\\\nOf how the tokens get accepted. This is something, then that solution center could ask us in that meeting or inquire more about and go hey, I saw you change this order. This is not how we work.\\\\nOh ****. We need to think about something on our end.\\\\nOr actually can you not change that order because it's going to impact the authorization for every customer we have implemented for at this moment in time.\\\\nRight. So that's where we we start to collaborate a little bit more and not only include the input of solution center into core development, but then also expand some of the core development changes.\\\\nKnowledge within Solution Center as well.\\\\n\\\\nLukas Kawulok   39:37\\\\nI think this is about sharing recording of the demo because I can't imagine that every second week we are ending Sprint for price point, RCM, CPQ EPP and then have a meeting or for afternoons just fully booked for those demo live demos and showing it would be very.\\\\nChallenge to coordinate and have all people that are solution architect. So we need to be probably better in have one place for recording sending announcement hey.\\\\nResult of work of those two team is there when you will have time.\\\\nPlease watch it.\\\\nSend us feedback here in this format. Happy to download anything.\\\\n\\\\nZain Master   40:18\\\\nI love the idea.\\\\nI don't think we're there from a discipline perspective just yet.\\\\nThis is where there is that saying where we have to slow down to speed up.\\\\nThis is the opportunity and point in time where we do need to slow down, to have participation across the board, live in person.\\\\nI have 17 recordings I need to watch.\\\\nI have maybe watched three of them because I just don't have the time.\\\\nRight. So.\\\\n\\\\nLukas Kawulok   40:44\\\\nYeah, but it is not finding it.\\\\nHave additional meetings in your gandhar is not saving. Your problem is the time right?\\\\n\\\\nZain Master   40:54\\\\nThis is the balance that we need to get to because and that's what I'm saying. We as a company, I feel and I'm gonna start touting this message all the way up the board as well that we do need to slow down in order to speed up because.\\\\nThe way we're moving, the way we're pacing, it's creating more chaos than than order.\\\\n\\\\nLukas Kawulok   41:11\\\\nYeah, another an additional challenge is time zones, right?\\\\nWe have Dev OPS teams India.\\\\nWe have architects in West Coast, if I'm not mistaken, right?\\\\nSo very challenging.\\\\n\\\\nZain Master   41:23\\\\nDo we?\\\\n\\\\nLukas Kawulok   41:26\\\\nTo I don't know where.\\\\nChase Howard and all those guys are sitting.\\\\n\\\\nZain Master   41:27\\\\nI thought most.\\\\n\\\\nLukas Kawulok   41:36\\\\nSo we are really cross watch, right and.\\\\nChallenging too.\\\\nFind some regular time slot for almost how will the company or I will be very very interesting to just try to calculate how many people would be there, yeah.\\\\n\\\\nZain Master   41:56\\\\nOK, if the way is to have recordings in place and have them viewed by the the solution center, then the responsibly redeem Peter falls on the team to do that right? And is it gonna get done or is this something that's gonna be missed? Again, that's that's the.\\\\nThat that becomes a part of the discipline.\\\\n\\\\nPetr Klen   42:21\\\\nI have concerns about that. Yeah, because you can imagine those guys from solution center are fully engaged working for the current projects, current customers and now in fact we will force them every two weeks if it is quite often to spend how many hours watching the recordings or.\\\\n\\\\nZain Master   42:27\\\\nIzzy. Yep.\\\\n\\\\nPetr Klen   42:40\\\\nJoining your demo sessions, they need to switch and think about the old customers and their implementation, whether it would.\\\\nImpact them.\\\\nYeah, I mean the changes UI implied.\\\\nAnything.\\\\nUh, and that that.\\\\n\\\\nZain Master   42:54\\\\nSo usually in this case where we've had it is in my past companies where some of these similar situations have occurred is we used to identify train the trainer model.\\\\nAre you familiar with train the trainer?\\\\nRight, so who is the one individual that we can identify from the solution center organization that we impart information to and that is the one person that then is responsible for disseminating that information down to the lower teams.\\\\nI understand.\\\\nYou can't have everybody attend.\\\\nThat would be ridiculous, and I'm not asking for that.\\\\nI'm asking for a sole person to be responsible to intake of that knowledge and then share it within the organization in a format or in a meeting.\\\\nThat you internally have were, you know, it's your internal meetings, by the way, CPQ is working on this.\\\\nThey're making these changes. Here's the recording.\\\\nHere's what I saw.\\\\nHere's the summary notes we have.\\\\n\\\\nPetr Klen   43:50\\\\nIt would have to be.\\\\n\\\\nZain Master   43:50\\\\nAll of that, that.\\\\n\\\\nPetr Klen   43:53\\\\nYeah. Yeah, we can say brainstorm over that concept.\\\\nBut it would mean that we will have to have a person who is able to filter out the changes which will not be affecting. Yeah, the former implementations, just to deliver the message on the changes which are suspicious, which are clearly affecting that.\\\\nAnd yeah, Radim, I think I know the only person on our side who will be able to do that for us.\\\\nCpq and this is petrol for month and even petrol is not a very about all the implementations.\\\\nYeah. We have about 50 customers, you know, on CPQ and each implementation is slightly different.\\\\n\\\\nTerry Stone   44:38\\\\nCan I?\\\\nCan I jump in here for a second?\\\\nSo I think that the idea of having folks participate in every Sprint might be overkill. If you look at release to release the number of features that get put into CPQ that you would demo to show the the team as a whole, I think there are going to be.\\\\n\\\\nZain Master   44:40\\\\nYeah.\\\\n\\\\nPetr Klen   44:46\\\\nYes.\\\\n\\\\nTerry Stone   44:55\\\\nA couple features there are going to be a ton of sprints that are just behind the scenes technical backlog kind of stuff that nobody needs to know about because not externally.\\\\nFacing like you don't see it.\\\\nThere's no feature, there's no.\\\\nThing that that's gonna connect to. It seems like the right cadence for this kind of communication might be 1 release.\\\\nSo we just started to Sprint or we just started release in August.\\\\nThere's a great opportunity there to have a release demo internally.\\\\nInvite the world.\\\\nLet everybody see what's going on, CPQ.\\\\nIt's a one hour commitment from everybody.\\\\nIt's not every couple weeks somebody has to check in, and then we're gonna see what the new features are that are coming into CPQ. That would be a great time to kick off the thing of, OK. So how?\\\\nWho's gonna be impacted by these new features, if anybody?\\\\nDo we think?\\\\nAnd then we're gonna have some sort of solution center regression testing across all customers before the release goes out the door, right?\\\\nSo we don't have to have this be in every Sprint check in because there's probably nothing that's demoable every Sprint.\\\\n\\\\nZain Master   45:54\\\\nMy concern is that if there's something that's found at the end of that, you know, say we do the August testing kick off. If we're calling in that the meeting where we now demo to the entire world.\\\\n\\\\nPetr Klen   45:54\\\\nBut.\\\\n\\\\nZain Master   46:06\\\\nIncluding solution center here. The changes that we're bringing into the product. If there are impacts and changes that need to be made is the solution center then able to quickly modify implementations.\\\\nI'm guessing no because you guys need your own level of lead time as well in order to make any changes that we may have made.\\\\nOn core that are incompatible with changes that exist.\\\\n\\\\nTerry Stone   46:29\\\\nWell, but there shouldn't be any like we should be regression proof if there's a problem with an implementation based on core core has made a mistake and needs to change. We don't change the implementation.\\\\nI don't think unless there's a really compelling reason why we don't want to support something that we supported previously.\\\\n\\\\nStephen Pack   46:46\\\\nYeah. We're not talking about booking any engineers to to actually make any changes.\\\\nWe're just talking about testing.\\\\nAnd and there is there is supposed to be coordinated with the June Pulse a an overall demo this this round which we did not have in previous releases. That was something Gloria wanted to add to this release, so that that should provide that. But you know it's an.\\\\n\\\\nZain Master   47:03\\\\nOK.\\\\n\\\\nStephen Pack   47:08\\\\nEarly look at the right level.\\\\nOf what's happening in terms of who it goes to, obviously like, you know, redeems in the product Council. So he'd be in that.\\\\nYou know, getting that message out to the team, whether that's through recording or or through, you know the the demo being available to everybody, which it will be either way that can work. So in terms of getting information and starting to make conclusions about what's impacting that, that.\\\\nInformation's there at the right level, not too, too ridiculously overwhelming.\\\\nAt at the right time.\\\\n\\\\nZain Master   47:40\\\\nThat's good to know.\\\\nAt least, OK.\\\\nAt least we're doing a demo at Pulse 2, so that sounds like OK.\\\\nAlright, I will give up on that task.\\\\nThanks for helping me understand.\\\\nSee I'm I can change my mind.\\\\nIt's OK.\\\\nYou convince me the right way.\\\\nAll right.\\\\n\\\\nLukas Kawulok   47:56\\\\nIf I somehow ask if I got it right, so there will be free levels of demo on tools one, tools two and and release right fill levels continuously, how we are progressing?\\\\n\\\\nZain Master   47:58\\\\nYes.\\\\n\\\\nStephen Pack   48:09\\\\nNo, the only the only demo that was added was at Pulse 2.\\\\n\\\\nZain Master   48:10\\\\nNo.\\\\nYep.\\\\n\\\\nLukas Kawulok   48:13\\\\nOK, on to.\\\\n\\\\nStephen Pack   48:14\\\\nIt's it's. Yeah, it's.\\\\nI mean, it's not on.\\\\nYou know it's it's coordinated with pulse two in June is the. Yeah. Just just one time thing.\\\\nSo nothing else is different. Yep, sorry.\\\\n\\\\nLukas Kawulok   48:23\\\\nAnd and then when everything is finalized.\\\\n\\\\nZain Master   48:29\\\\nThat would be the August kickoff.\\\\n\\\\nStephen Pack   48:30\\\\nThere's no.\\\\nRight. Well, the, I mean, the August kickoff has already happened. There's.\\\\n\\\\nLukas Kawulok   48:33\\\\nOK.\\\\n\\\\nZain Master   48:37\\\\nNo, no, I mean the, the, the, sorry the Steven not to confuse you with the August kick off the August kickoff that I'm referring to is the August kickoff with the solution center and CPQ core to start talking to get the release to OPS meeting, right.\\\\n\\\\nStephen Pack   48:50\\\\nYeah, really stops.\\\\nYeah, the beginning of hardening phase is this one.\\\\n\\\\nZain Master   48:53\\\\nYep, Yep.\\\\n\\\\nStephen Pack   48:54\\\\nYeah, but there's there's no official demo here, I mean.\\\\nYep.\\\\n\\\\nZain Master   48:58\\\\nAnd I think the ask here is to make it an official demo to include everything in there.\\\\n\\\\nLukas Kawulok   48:59\\\\nWe will.\\\\nYeah, because on polls to the check doesn't need to be everything finalized so.\\\\n\\\\nZain Master   49:05\\\\nOf what has been released.\\\\n\\\\nLukas Kawulok   49:12\\\\nAll those not finalized stop on tools. Do we need to demo on the restore right?\\\\n\\\\nZain Master   49:18\\\\nI would ask Stephen to see if Gloria would be amendment open to amending release to OPS with also a demo, because that will probably be inclusive of hopefully everything that was committed to Impulse 2 and beyond, because pulse two may just be half the work that's been comple.\\\\nRight.\\\\n\\\\nStephen Pack   49:38\\\\nYeah, yeah. Pulse two is obviously going to be work in progress, but the idea is to give the the early early view, but still real to to downstream, to marketing and to to everybody else.\\\\n\\\\nZain Master   49:41\\\\nYep.\\\\n\\\\nStephen Pack   49:50\\\\nThe the delta between these two should be not huge in terms of what's expected in scope.\\\\nSo yeah, I mean, because the other thing is is doing demos here are gonna be duplicative of like the guide, you know, the guides that like, you know, Chuy's gonna be asking everybody to make.\\\\nI mean those are essentially demo creations.\\\\n\\\\nLukas Kawulok   50:13\\\\nYeah. Then then we need to check if this is also distributed to the social Architect Ocean Center.\\\\nThe Gzel towns, those those recording or it goes just marketing sales where every that goes right.\\\\n\\\\nStephen Pack   50:26\\\\nThis, sorry this this demo should be for everybody if that's if that's the one you're asking about the the the. Yeah, all the product experience stuff.\\\\n\\\\nZain Master   50:27\\\\nYeah, guy.\\\\nYeah.\\\\n\\\\nLukas Kawulok   50:31\\\\nNo, that last one release to.\\\\n\\\\nStephen Pack   50:35\\\\nYeah, I mean that.\\\\nThat should be, yeah.\\\\nI mean used and reused as much as it could be.\\\\n\\\\nZain Master   50:37\\\\n****.\\\\nThe guide videos tend to be a little bit more market facing and user facing.\\\\nI don't know if those would be the same level of detail that solution center is looking for, right?\\\\n\\\\nStephen Pack   50:54\\\\nI don't.\\\\nI mean it covers the functionality and how to use it.\\\\nYeah. I mean, if I'm, I'm not sure that.\\\\nA.\\\\nA month month level demo is going to be much deeper either though.\\\\nThat's the thing.\\\\nI mean, they're not going to go into implementation specifics.\\\\nIt's going to it's going to be.\\\\nA.\\\\nYou know widely.\\\\n\\\\nZain Master   51:11\\\\nCustomer facing specific.\\\\n\\\\nStephen Pack   51:13\\\\nA widely relevant message.\\\\nI mean, So what is the CSM interested in?\\\\nWhat is, you know, marketing sales, people like that interested in.\\\\nSo yeah, if it needs to be tremendously technically deeper, I'm not sure that's you're gonna get that at the at the pulse demo either.\\\\n\\\\nZain Master   51:30\\\\nOK.\\\\nAlright, I think we've beaten this to a dead horse action #4 generate and store output for integrations prior to every release to compare.\\\\nSo if you were able to read the details in the meeting, the the e-mail that I attached here and the notes that I had from there, that comes down to I believe the solution center.\\\\nSo the ask here is to have an output of whatever you're about to.\\\\nIs an outbound.\\\\nEither a data dump or a communication to a third party system.\\\\nOn the customer side to then validate and be able to see.\\\\nHas it changed right from the July from the April release to the August release? If it has changed somewhere along the way, then is definitely a core problem. If it has not changed from beyond that touchpoint out to a third party system, then it happens to either be.\\\\nA configuration a mapping, a customization, or a problem that is lying on the customer side.\\\\nRight. So that we reduce this level of noise that's created when we find out something on the customer side is not eventually working.\\\\nI don't think we do this today.\\\\nIf we do, please let me know. But as per Peter, I don't think we do this today.\\\\n\\\\nRadim Moravec   53:05\\\\nYou're saying then probably not.\\\\n\\\\nZain Master   53:09\\\\nSo how do we make this happen, right?\\\\nHow do we start to track these?\\\\nBecause I don't know the implementations where solution center is building data packages or outbound activities for which specific customer right?\\\\nSo that's, that's the where my level of familiarity stops. Solution Center is aware of these integrations.\\\\nAnd is can solution center start with this release?\\\\nIdentify what's the output for 25 dot one or two, whatever patch release we get to and then compare it to. Then the next release version to see. Hey. Yep, we did our due diligence.\\\\nWe do have a capture of what the Jason packet was maybe.\\\\nHere's what it looked like prior to the new build. The release candidate come into play now. This is what it looks like. Cool. We're good.\\\\nNothing's broken here.\\\\nNothing to see. Move on.\\\\n\\\\nRadim Moravec   54:16\\\\nFrom the integration perspective you mean?\\\\n\\\\nStephen Pack   54:21\\\\nAre you just talking about API?\\\\nLike API level.\\\\nOh boy. OK.\\\\n\\\\nRadim Moravec   54:31\\\\nSo does the.\\\\n\\\\nPetr Klen   54:32\\\\nI'm just.\\\\n\\\\nRadim Moravec   54:35\\\\nI think that is the discussion that we initiated with.\\\\n\\\\nPetr Klen   54:35\\\\nSorry.\\\\n\\\\nRadim Moravec   54:39\\\\nWhat is his name? OK.\\\\nSecurity guy.\\\\n\\\\nLukas Kawulok   54:45\\\\nA little bit different topic I think in this case.\\\\nWould be great if you can return to Peter Loffelmann and try some proof of concept, then see if this is something worth we can we you whatever can do it in future and like this idea what needs to be definitely proof that it is suitable what you mention.\\\\nThis security guy with Nalin because.\\\\nWhat we noticed during this testing period for for CPQ is that.\\\\nOur connections to connectors usually sometimes usually disappear right after project ends.\\\\nPlease correct me if I'm wrong.\\\\nSo and if we have some access to customer connectors then it is based on some some specific name specific account.\\\\nSo it's for example some other resources want to connect to connectors.\\\\nSometimes they need to wait 5-6 hours before.\\\\nSome call will start or some social architect let him.\\\\nLet him go.\\\\nBecause there is also two factor authentication.\\\\nSo this is definitely Dell and also this testing which we were doing there was big weak point it was that connectors, 2 S, four DSR and others.\\\\nSo we need to improve how we are managing those accesses to to collectors. So This is why we contacted Nalin if we can help pass this out, secret tooling will be better for managing those staff also for two factor authentications.\\\\nAnd this can.\\\\nHopefully also help to our customers to give, give them better confidence that hey, this is vendavo common account. We are managing it.\\\\nWe are these two.\\\\nPlease do not remove our accesses.\\\\nAfter well when project is done because it's potential, we will need it during irrigation testing and we will not need it in future for some potential bug fixing.\\\\nSo this is also one things which we need to improve to be sure that our collectors are working.\\\\nSorry for long speech.\\\\n\\\\nZain Master   56:51\\\\nAnd I think and I think related to that is also we internally CPQ side of the House need to add API performance testing as part of the scope of the test, right.\\\\nSo if we're just talking specific APIs and integrations, those are the three big activities that we need to do one identify, Yep, APIs working on our end.\\\\nIt is performing as expected or better, hopefully not worse.\\\\nThen that builds confidence for you and team on the solution side of the House.\\\\nOK, APIs are working now.\\\\nLet's look at the API output.\\\\nHas that output changed before it's handed over to the customers?\\\\n****, it changed.\\\\nOr no, it didn't change what we need to now find out what's happening on the customer side of the house.\\\\nDo we have the logins to necessarily go in and investigate on the customer side of the House?\\\\n\\\\nLukas Kawulok   57:43\\\\nGo. Sorry, definitely.\\\\nThen we need to return to the performance testing.\\\\nWe need to plan it to our road map to have it fully done.\\\\nThank you guys.\\\\n\\\\nZain Master   57:50\\\\nSo I don't think we got through all of this.\\\\nI will schedule another one to make sure that we get to all of this.\\\\n\\\\nRadim Moravec   57:56\\\\nGood. Thank you.\\\\n\\\\nLukas Kawulok   57:56\\\\nThanks, bye.\\\\n\\\\nZain Master   57:56\\\\nThanks. I'll share notes from today's meeting.\\\\n\\\\nPetr Klen   57:59\\\\nThank you.\\\\n\\\\nLukas Kawulok   58:00\\\\nThanks.\\\\n\\\\nTerry Stone   58:01\\\\nBye. See you guys.\\\\n\\\\nPetr Klen   58:01\\\\nBye.\\\\n\\\\nZain Master stopped transcription   NaN\\nName: 0, dtype: float64\"]"
      ]
     },
     "execution_count": 23,
     "metadata": {},
     "output_type": "execute_result"
    }
   ],
   "source": [
    "# splitting transcription if max token limit is possibly exceeded\n",
    "max_len = 37000\n",
    "\n",
    "if len(transcribed_audio) >= max_len:\n",
    "\n",
    "    transcribed_audio_trimmed_list = [transcribed_audio[i:i + max_len] for i in range(0, len(transcribed_audio), max_len)]\n",
    "\n",
    "transcribed_audio_trimmed_list"
   ]
  },
  {
   "cell_type": "markdown",
   "id": "eab6c59f",
   "metadata": {},
   "source": [
    "# the following models will take in either the transcribed audio, or a transcribed text document!"
   ]
  },
  {
   "cell_type": "code",
   "execution_count": null,
   "id": "eb3ee435",
   "metadata": {},
   "outputs": [
    {
     "name": "stderr",
     "output_type": "stream",
     "text": [
      "C:\\Users\\Nik\\AppData\\Local\\Temp\\ipykernel_2012\\4008238935.py:27: LangChainDeprecationWarning: The method `Chain.run` was deprecated in langchain 0.1.0 and will be removed in 1.0. Use :meth:`~invoke` instead.\n",
      "  summary = chain.run(input_documents=batch)\n"
     ]
    },
    {
     "name": "stdout",
     "output_type": "stream",
     "text": [
      "The transcript from April 29, 2025, captures a critical meeting led by Zain Master, focusing on enhancing customer confidence in product releases. The primary concern addressed is the need for improved testing methodologies that closely mirror the unique environments of individual customers. This approach is aimed at mitigating the recurring issues that necessitate continuous fixes, which have been a source of dissatisfaction among customers and internal teams alike.\n",
      "\n",
      "Zain proposes a collaborative strategy between the solution center, which has a deep understanding of customer implementations, and the core product team responsible for initial testing phases. This partnership is envisioned to enhance the effectiveness of the testing processes by incorporating insights from the solution center into the core team's efforts.\n",
      "\n",
      "The meeting also delves into the strategy of releasing updates in waves. This method has proven beneficial in early identification of issues by limiting the exposure of new releases to a smaller segment of the customer base initially. However, this staged release approach brings about challenges in communication, as customers awaiting new features need to be managed carefully to maintain their expectations and satisfaction.\n",
      "\n",
      "Terry Stone highlights the complexities involved in managing communications across different release waves. He points out the potential need for adjustments based on the feedback and results from initial waves. Additionally, Terry mentions the necessity for improved infrastructure and hosting solutions to support the segmented release strategy effectively.\n",
      "\n",
      "The discussion also covers the logistical aspects of resource allocation for testing new releases. Petr Klen and Radim Moravec emphasize the importance of securing QA resources well in advance. They suggest implementing a formalized process, possibly through a ticketing system, to streamline the request and management of these essential resources.\n",
      "\n",
      "A consensus is reached on the need for a structured testing approach. This would involve identifying key customers and functionalities for testing based on the complexity of their setups and the nature of changes in each release. Such a strategy requires meticulous coordination between the core product team and the solution center to ensure comprehensive coverage and timely resolution of any arising issues.\n",
      "\n",
      "Furthermore, the meeting addresses the need for better integration of the solution center in the development cycle. It is proposed that the solution center team be included in demo meetings at the end of each sprint to stay abreast of changes, especially those affecting APIs which could impact customer implementations. The idea of recording these demos for asynchronous viewing is also suggested to accommodate different time zones and schedules.\n",
      "\n",
      "The concept of \"slowing down to speed up\" is embraced, recognizing that a more deliberate pace in development and communication could lead to more orderly and less chaotic operations, ultimately enhancing product quality and customer satisfaction.\n",
      "\n",
      "A 'train the trainer' approach is also discussed, where a designated individual from the solution center would be responsible for absorbing information during demos and subsequently disseminating it within the team. This method aims to streamline communication and ensure that critical updates are efficiently shared without overwhelming the entire team.\n",
      "\n",
      "The meeting concludes with plans to reconvene and address any unresolved issues, ensuring that all aspects of the proposed strategies are thoroughly understood and agreed upon. This reflects a proactive commitment to refining the processes and enhancing collaboration across departments to boost the reliability of product releases and overall customer satisfaction.\n"
     ]
    }
   ],
   "source": [
    "#summary bot\n",
    "\n",
    "llm = ChatOpenAI(openai_api_key=OPENAI_API_KEY, model_name='gpt-4-turbo', temperature=0)\n",
    "\n",
    "\n",
    "prompt = ChatPromptTemplate.from_messages(\n",
    "    [(\"system\", \"Write a detailed summary of the following:\\\\n\\\\n{text}\")]\n",
    ")\n",
    "\n",
    "# Instantiate chain\n",
    "chain = load_summarize_chain(llm, chain_type=\"stuff\", prompt=prompt)\n",
    "\n",
    "# Create Document objects from the filtered transcripts\n",
    "documents = transcribed_audio_trimmed_list\n",
    "\n",
    "docs = [Document(page_content=doc) for doc in documents]\n",
    "\n",
    "\n",
    "# Batching the docs if they're too long\n",
    "def batch_documents(docs, batch_size=1):\n",
    "    for i in range(0, len(docs), batch_size):\n",
    "        yield docs[i:i + batch_size]\n",
    "\n",
    "\n",
    "batch_summaries = []\n",
    "for batch in batch_documents(docs):\n",
    "    combined_text = '\\n\\n'.join([doc.page_content for doc in batch])\n",
    "    summary = chain.run(input_documents=batch)\n",
    "    batch_summaries.append(summary)\n",
    "\n",
    "# summarize all summaries\n",
    "final_input_docs = [Document(page_content=summary) for summary in batch_summaries]\n",
    "final_summary = chain.run(input_documents=final_input_docs)\n",
    "\n",
    "print(final_summary)"
   ]
  },
  {
   "cell_type": "code",
   "execution_count": 25,
   "id": "093dc255",
   "metadata": {},
   "outputs": [
    {
     "name": "stdout",
     "output_type": "stream",
     "text": [
      "-Generate and store output for integrations prior to every release to compare\n",
      "-Develop a train-the-trainer model for disseminating information within the organization\n",
      "-Include Solution Center resources in demo meetings to stay updated on customization work\n",
      "-Formalize the process for booking QA resources for testing prior to releases\n",
      "-Implement API performance testing as part of the testing scope\n",
      "-Improve management of accesses to connectors and two-factor authentication for better confidence\n",
      "-Plan API performance testing for the roadmap and schedule it accordingly.\n"
     ]
    }
   ],
   "source": [
    "from openai import OpenAI\n",
    "\n",
    "# Call to action bot\n",
    "prompt2 = \"\"\"You are an intelligent assistant tasked with extracting all unique calls to action from the following text. Return each call to action seperately with a newline character. For example:\n",
    "\n",
    "-Call to Action 1\n",
    "-Call to Action 2\n",
    "-Call to Action 3\n",
    "...\n",
    "\n",
    "Here is the text:\n",
    "\"\"\"\n",
    "client = OpenAI()\n",
    "# Instantiate chain\n",
    "chain2 = client.chat.completions.create(\n",
    "    model=OPENAI_MODEL,\n",
    "    messages=[{'role': 'system', 'content': prompt2},\n",
    "              {'role': 'user', 'content': transcribed_audio}]\n",
    ")\n",
    "\n",
    "calls = chain2.choices[0].message.content\n",
    "print(calls)"
   ]
  },
  {
   "cell_type": "code",
   "execution_count": 26,
   "id": "40786b72",
   "metadata": {},
   "outputs": [
    {
     "name": "stdout",
     "output_type": "stream",
     "text": [
      "Summary:\n",
      "\n",
      "The transcript from April 29, 2025, captures a critical meeting led by Zain Master, focusing on enhancing customer confidence in product releases. The primary concern addressed is the need for improved testing methodologies that closely mirror the unique environments of individual customers. This approach is aimed at mitigating the recurring issues that necessitate continuous fixes, which have been a source of dissatisfaction among customers and internal teams alike.\n",
      "\n",
      "Zain proposes a collaborative strategy between the solution center, which has a deep understanding of customer implementations, and the core product team responsible for initial testing phases. This partnership is envisioned to enhance the effectiveness of the testing processes by incorporating insights from the solution center into the core team's efforts.\n",
      "\n",
      "The meeting also delves into the strategy of releasing updates in waves. This method has proven beneficial in early identification of issues by limiting the exposure of new releases to a smaller segment of the customer base initially. However, this staged release approach brings about challenges in communication, as customers awaiting new features need to be managed carefully to maintain their expectations and satisfaction.\n",
      "\n",
      "Terry Stone highlights the complexities involved in managing communications across different release waves. He points out the potential need for adjustments based on the feedback and results from initial waves. Additionally, Terry mentions the necessity for improved infrastructure and hosting solutions to support the segmented release strategy effectively.\n",
      "\n",
      "The discussion also covers the logistical aspects of resource allocation for testing new releases. Petr Klen and Radim Moravec emphasize the importance of securing QA resources well in advance. They suggest implementing a formalized process, possibly through a ticketing system, to streamline the request and management of these essential resources.\n",
      "\n",
      "A consensus is reached on the need for a structured testing approach. This would involve identifying key customers and functionalities for testing based on the complexity of their setups and the nature of changes in each release. Such a strategy requires meticulous coordination between the core product team and the solution center to ensure comprehensive coverage and timely resolution of any arising issues.\n",
      "\n",
      "Furthermore, the meeting addresses the need for better integration of the solution center in the development cycle. It is proposed that the solution center team be included in demo meetings at the end of each sprint to stay abreast of changes, especially those affecting APIs which could impact customer implementations. The idea of recording these demos for asynchronous viewing is also suggested to accommodate different time zones and schedules.\n",
      "\n",
      "The concept of \"slowing down to speed up\" is embraced, recognizing that a more deliberate pace in development and communication could lead to more orderly and less chaotic operations, ultimately enhancing product quality and customer satisfaction.\n",
      "\n",
      "A 'train the trainer' approach is also discussed, where a designated individual from the solution center would be responsible for absorbing information during demos and subsequently disseminating it within the team. This method aims to streamline communication and ensure that critical updates are efficiently shared without overwhelming the entire team.\n",
      "\n",
      "The meeting concludes with plans to reconvene and address any unresolved issues, ensuring that all aspects of the proposed strategies are thoroughly understood and agreed upon. This reflects a proactive commitment to refining the processes and enhancing collaboration across departments to boost the reliability of product releases and overall customer satisfaction.\n",
      "\n",
      "Calls to Action:\n",
      "\n",
      "-Generate and store output for integrations prior to every release to compare\n",
      "\n",
      "-Develop a train-the-trainer model for disseminating information within the organization\n",
      "\n",
      "-Include Solution Center resources in demo meetings to stay updated on customization work\n",
      "\n",
      "-Formalize the process for booking QA resources for testing prior to releases\n",
      "\n",
      "-Implement API performance testing as part of the testing scope\n",
      "\n",
      "-Improve management of accesses to connectors and two-factor authentication for better confidence\n",
      "\n",
      "-Plan API performance testing for the roadmap and schedule it accordingly.\n"
     ]
    }
   ],
   "source": [
    "meeting_results = {'summary': final_summary, 'action calls': calls}\n",
    "\n",
    "meeting_results['summary'] = 'Summary:\\n\\n' + meeting_results['summary'] + '\\n'\n",
    "meeting_results['action calls'] = ('Calls to Action:\\n' + meeting_results['action calls']).replace('\\n', '\\n\\n')\n",
    "\n",
    "print(meeting_results['summary'])\n",
    "print(meeting_results['action calls'])"
   ]
  },
  {
   "cell_type": "code",
   "execution_count": null,
   "id": "6e6d690a",
   "metadata": {},
   "outputs": [
    {
     "name": "stderr",
     "output_type": "stream",
     "text": [
      "C:\\Users\\Nik\\AppData\\Local\\Temp\\ipykernel_32236\\653341844.py:8: LangChainDeprecationWarning: The class `HuggingFaceEmbeddings` was deprecated in LangChain 0.2.2 and will be removed in 1.0. An updated version of the class exists in the :class:`~langchain-huggingface package and should be used instead. To use it run `pip install -U :class:`~langchain-huggingface` and import as `from :class:`~langchain_huggingface import HuggingFaceEmbeddings``.\n",
      "  embeddings = SentenceTransformerEmbeddings(model_name='all-mpnet-base-v2')\n"
     ]
    },
    {
     "name": "stdout",
     "output_type": "stream",
     "text": [
      "WARNING:tensorflow:From c:\\Users\\Nik\\anaconda3\\envs\\dev\\Lib\\site-packages\\tf_keras\\src\\losses.py:2976: The name tf.losses.sparse_softmax_cross_entropy is deprecated. Please use tf.compat.v1.losses.sparse_softmax_cross_entropy instead.\n",
      "\n",
      "Summary:\n",
      "\n",
      "The meeting discussed various topics related to improving the testing process for releases, focusing on increasing confidence in releases and addressing issues related to customer implementations, API integrations, and performance testing. Key points included the need for cross-collaboration between Solution Center and Core Product teams, the importance of testing integrations and APIs, and the necessity of improving access management for connectors. The meeting also highlighted the significance of proactive participation from Solution Center in understanding core functionality changes and the need for a structured process to ensure effective testing and communication between teams.\n",
      "\n",
      "Calls to Action:\n",
      "\n",
      "- Generate and store output for integrations prior to every release to compare\n",
      "\n",
      "- Start tracking and comparing API performance testing results\n",
      "\n",
      "- Implement a train-the-trainer model for disseminating information about changes to integrations and outputs\n",
      "\n",
      "- Schedule a demo at Pulse 2 for an early view of the release progress\n",
      "\n",
      "Context Result:\n",
      "\n",
      "The meeting discussed the need to improve the testing process to ensure that the releases are successful and do not cause issues for customers. They talked about the importance of testing integrations, APIs, and the output of data packages to ensure that everything is working as expected. There were also discussions about involving Solution Center in demos to keep them informed about changes and to proactively address any potential issues. Additionally, there were concerns raised about managing access to customer connectors and improving API performance testing. The goal was to enhance the overall testing process to increase confidence in the releases and prevent any disruptions to customers.\n"
     ]
    }
   ],
   "source": [
    "from langchain.embeddings import SentenceTransformerEmbeddings\n",
    "from langchain.vectorstores import FAISS\n",
    "from langchain.chains import RetrievalQA\n",
    "\n",
    "# test query bot\n",
    "\n",
    "results = [transcribed_audio, meeting_results['summary'], meeting_results['action calls']]\n",
    "\n",
    "embeddings = SentenceTransformerEmbeddings(model_name='all-mpnet-base-v2')\n",
    "\n",
    "docsearch = FAISS.from_texts(\n",
    "    texts=results,\n",
    "    embedding=embeddings\n",
    ")\n",
    "\n",
    "llm3 = ChatOpenAI(openai_api_key=OPENAI_API_KEY, model=OPENAI_MODEL, temperature=0)\n",
    "\n",
    "qa = RetrievalQA.from_chain_type(\n",
    "    llm=llm3,\n",
    "    chain_type='stuff',\n",
    "    retriever=docsearch.as_retriever(search_kwargs={'k':1}),\n",
    "    return_source_documents=False\n",
    ")\n",
    "\n",
    "\n",
    "query = 'What is the summary for this meeting?'\n",
    "\n",
    "response = qa.invoke(query)\n",
    "print('Summary:\\n')\n",
    "print(response['result'] + '\\n')\n",
    "\n",
    "query_cta = 'What are the calls to action?'\n",
    "\n",
    "response_cta = qa.invoke(query_cta + ' Return output in bullet points')\n",
    "print('Calls to Action:\\n')\n",
    "print(response_cta['result'].replace('\\n', '\\n\\n') + '\\n')\n",
    "\n",
    "\n",
    "query_any = 'Can you provide more context on the concerns of the meeting?'\n",
    "\n",
    "response_any = qa.invoke(query_any)\n",
    "print('Context Result:\\n')\n",
    "print(response_any['result'].replace('\\n', '\\n\\n'))"
   ]
  },
  {
   "cell_type": "code",
   "execution_count": null,
   "id": "97fd069c",
   "metadata": {},
   "outputs": [],
   "source": [
    "# reading in tasks and completion time training data\n",
    "capacity = pd.read_csv('../Resources/CommonTasks.csv')\n",
    "\n",
    "capacity1 = capacity[['Common Tasks Types', 'Average Task duration in minutes']]\n",
    "list_capacity = capacity1.values.tolist()"
   ]
  },
  {
   "cell_type": "code",
   "execution_count": null,
   "id": "9a622c8e",
   "metadata": {},
   "outputs": [
    {
     "name": "stdout",
     "output_type": "stream",
     "text": [
      "- Generate and store output for integrations prior to every release to compare: (Setup API to store output: 60 mins)\n",
      "- Develop a train-the-trainer model for disseminating information within the organization: (Training others on job: 90 mins)\n",
      "- Include Solution Center resources in demo meetings to stay updated on customization work: (Provide Demo: 60 mins)\n",
      "- Formalize the process for booking QA resources for testing prior to releases: (Refine an existing process: 1200 mins)\n",
      "- Implement API performance testing as part of the testing scope: (API performance testing: 2400 mins)\n",
      "- Improve management of accesses to connectors and two-factor authentication for better confidence: (Unable to estimate)\n",
      "- Plan API performance testing for the roadmap and schedule it accordingly: (API performance testing: 2400 mins)\n"
     ]
    }
   ],
   "source": [
    "# bot trained to label CTAs with avg completion time\n",
    "cta_time_prompt = \"\"\"You are a smart and intelligent project manager that understand how much time it could take on average to complete an action item.\n",
    "You will take in a meeting transcript, and a table of common tasks and their estimated completion time in minutes.\n",
    "Based on all of the action items/calls from the uploaded meeting transcript, you will reference the table of common tasks and assign an approximate time value in minutes.\n",
    "If a task is hard for you to assign a time to complete, list the task followed by 'Unable to estimate'\n",
    "For every task to do, list the task followed by the duration on the same continuous line.\n",
    "Your output should be a list of every task from the list, and their average time to complete.\n",
    "Ensure each task entry and their duration to complete are one continuous line.\n",
    "An Example Output List:\n",
    "\n",
    "Task 1: (# Mins)\n",
    "Task 2: (# Mins)\n",
    "Task 3: (# Mins)\n",
    "Task X: (Unable to estimate).\n",
    "\"\"\"\n",
    "\n",
    "\n",
    "client = OpenAI()\n",
    "chain3 = client.chat.completions.create(\n",
    "model='gpt-4-turbo',\n",
    "messages=[{'role': 'system', 'content': cta_time_prompt},\n",
    "            {'role': 'system', 'content': f\"Task 1: {str(calls)}\\n Duration: {str(list_capacity)}\\n\"}]\n",
    ")\n",
    "\n",
    "cta_times_list = chain3.choices[0].message.content\n",
    "cta_times_list = cta_times_list.strip('\\n\\n')\n",
    "\n",
    "print(cta_times_list)"
   ]
  },
  {
   "cell_type": "code",
   "execution_count": null,
   "id": "dbd4a13a",
   "metadata": {},
   "outputs": [],
   "source": [
    "# example members dictionary test input\n",
    "names_dict = {\n",
    "    \"Petr Nesladek\": \"petr.nesladek@example.com\",\n",
    "    \"Petr Klen\": \"petr.klen@example.com\",\n",
    "    \"Terry Stone\": \"terry.stone@example.com\",\n",
    "    \"Radim Moravec\": \"radim.moravec@example.com\",\n",
    "    \"Lukas Kawulok\": \"lukas.kawulok@example.com\",\n",
    "    \"Rene Gruszkowski\": \"rene.gruszkowski@example.com\",\n",
    "    \"Stephen Pack\": \"stephen.pack@example.com\",\n",
    "    \"Gloria Kee\": \"gloria.kee@example.com\",\n",
    "    \"Jiri Sverepa\": \"jiri.sverepa@example.com\",\n",
    "    \"Chintan Modha\": \"chintan.modha@example.com\",\n",
    "    \"Petr Lofferman\": \"petr.lofferman@example.com\"\n",
    "}"
   ]
  },
  {
   "cell_type": "code",
   "execution_count": null,
   "id": "e21e86f7",
   "metadata": {},
   "outputs": [
    {
     "data": {
      "text/plain": [
       "['Petr Nesladek',\n",
       " 'Petr Klen',\n",
       " 'Terry Stone',\n",
       " 'Radim Moravec',\n",
       " 'Lukas Kawulok',\n",
       " 'Rene Gruszkowski',\n",
       " 'Stephen Pack',\n",
       " 'Gloria Kee',\n",
       " 'Jiri Sverepa',\n",
       " 'Chintan Modha',\n",
       " 'Petr Lofferman']"
      ]
     },
     "execution_count": 40,
     "metadata": {},
     "output_type": "execute_result"
    }
   ],
   "source": [
    "# grabbing the names to check for matches in transcript\n",
    "names_dict_list = list(names_dict.keys())\n",
    "names_dict_list"
   ]
  },
  {
   "cell_type": "code",
   "execution_count": 42,
   "id": "f410422e",
   "metadata": {},
   "outputs": [
    {
     "name": "stdout",
     "output_type": "stream",
     "text": [
      "Petr Nesladek\n",
      "Petr Klen\n",
      "Terry Stone\n",
      "Radim Moravec\n",
      "Lukas Kawulok\n",
      "Rene Gruszkowski\n",
      "Stephen Pack\n",
      "Gloria Kee\n",
      "Jiri Sverepa\n",
      "Chintan Modha\n"
     ]
    }
   ],
   "source": [
    "# NER bot\n",
    "prompt3 = \"\"\"You are a smart and intelligent Named Entity Recognition (NER) system. You will take in a list of possible Names that attended a meeting, and Identify all of the unique matching names that appear in the given meeting transcription.\n",
    "Importantly, your output should have each name separate with a newline character. For example:\n",
    "\n",
    "First Name Last Name 1\n",
    "First Name Last Name 2\n",
    "First Name Last Name 3\n",
    "...\n",
    "\n",
    "Here is the text:\n",
    "\"\"\"\n",
    "\n",
    "# Instantiate chain\n",
    "chain3 = client.chat.completions.create(\n",
    "    model=OPENAI_MODEL,\n",
    "    messages=[{'role': 'system', 'content': prompt3},\n",
    "              {'role': 'user', 'content': f'Names list: {names_dict_list}\\n Meeting Transcription {transcribed_audio}'}]\n",
    ")\n",
    "\n",
    "names = chain3.choices[0].message.content\n",
    "print(names)"
   ]
  },
  {
   "cell_type": "code",
   "execution_count": null,
   "id": "947c3fa1",
   "metadata": {},
   "outputs": [
    {
     "data": {
      "text/plain": [
       "['Terry Stone',\n",
       " 'Petr Klen',\n",
       " 'Stephen Pack',\n",
       " 'Zain Master',\n",
       " 'Lukas Kawulok',\n",
       " 'Radim Moravac']"
      ]
     },
     "execution_count": 32,
     "metadata": {},
     "output_type": "execute_result"
    }
   ],
   "source": [
    "# convert pulled names to list\n",
    "names_list = names.split('\\n')\n",
    "names_list"
   ]
  },
  {
   "cell_type": "code",
   "execution_count": null,
   "id": "3c5643de",
   "metadata": {},
   "outputs": [
    {
     "data": {
      "text/plain": [
       "['Terry Stone',\n",
       " 'Petr Klen',\n",
       " 'Stephen Pack',\n",
       " 'Zain Master',\n",
       " 'Lukas Kawulok',\n",
       " 'Radim Moravac']"
      ]
     },
     "execution_count": 32,
     "metadata": {},
     "output_type": "execute_result"
    }
   ],
   "source": [
    "# fuzzy match possible names with names pulled from LLM to account for LLM spelling errors\n",
    "\n",
    "from rapidfuzz import fuzz, process\n",
    "\n",
    "names = ['Terry Stone', 'Petr Klen', 'Stephen Pack', 'Zain Master', 'Lukas Kawulok', 'Radim Moravec', 'Petr Nesladek']\n",
    "\n",
    "threshold = 70\n",
    "matched_names = []\n",
    "\n",
    "for name in names_dict.keys():\n",
    "    match, score, _ = process.extractOne(name, names_list, scorer=fuzz.token_sort_ratio)\n",
    "    if score >= threshold:\n",
    "        matched_names.append(name)\n",
    "\n",
    "matched_names"
   ]
  },
  {
   "cell_type": "code",
   "execution_count": null,
   "id": "a07efd09",
   "metadata": {},
   "outputs": [
    {
     "data": {
      "text/plain": [
       "{'Terry Stone': 'terry.stone@example.com',\n",
       " 'Petr Klen': 'petr.klen@example.com',\n",
       " 'Stephen Pack': 'stephen.pack@example.com',\n",
       " 'Zain Master': 'zain.master@example.com',\n",
       " 'Lukas Kawulok': 'lukas.kawulok@example.com',\n",
       " 'Radim Moravac': 'radim.moravec@example.com'}"
      ]
     },
     "execution_count": 33,
     "metadata": {},
     "output_type": "execute_result"
    }
   ],
   "source": [
    "# filter input dict to drop entires that were not matched\n",
    "filtered_members = {k: v for k, v in names_dict.items() if k in matched_names}\n",
    "filtered_members"
   ]
  },
  {
   "cell_type": "code",
   "execution_count": null,
   "id": "35899921",
   "metadata": {},
   "outputs": [
    {
     "data": {
      "text/html": [
       "<div>\n",
       "<style scoped>\n",
       "    .dataframe tbody tr th:only-of-type {\n",
       "        vertical-align: middle;\n",
       "    }\n",
       "\n",
       "    .dataframe tbody tr th {\n",
       "        vertical-align: top;\n",
       "    }\n",
       "\n",
       "    .dataframe thead th {\n",
       "        text-align: right;\n",
       "    }\n",
       "</style>\n",
       "<table border=\"1\" class=\"dataframe\">\n",
       "  <thead>\n",
       "    <tr style=\"text-align: right;\">\n",
       "      <th></th>\n",
       "      <th>member</th>\n",
       "      <th>email</th>\n",
       "    </tr>\n",
       "  </thead>\n",
       "  <tbody>\n",
       "    <tr>\n",
       "      <th>0</th>\n",
       "      <td>Terry Stone</td>\n",
       "      <td>terry.stone@example.com</td>\n",
       "    </tr>\n",
       "    <tr>\n",
       "      <th>1</th>\n",
       "      <td>Petr Klen</td>\n",
       "      <td>petr.klen@example.com</td>\n",
       "    </tr>\n",
       "    <tr>\n",
       "      <th>2</th>\n",
       "      <td>Stephen Pack</td>\n",
       "      <td>stephen.pack@example.com</td>\n",
       "    </tr>\n",
       "    <tr>\n",
       "      <th>3</th>\n",
       "      <td>Zain Master</td>\n",
       "      <td>zain.master@example.com</td>\n",
       "    </tr>\n",
       "    <tr>\n",
       "      <th>4</th>\n",
       "      <td>Lukas Kawulok</td>\n",
       "      <td>lukas.kawulok@example.com</td>\n",
       "    </tr>\n",
       "    <tr>\n",
       "      <th>5</th>\n",
       "      <td>Radim Moravac</td>\n",
       "      <td>radim.moravec@example.com</td>\n",
       "    </tr>\n",
       "  </tbody>\n",
       "</table>\n",
       "</div>"
      ],
      "text/plain": [
       "          member                      email\n",
       "0    Terry Stone    terry.stone@example.com\n",
       "1      Petr Klen      petr.klen@example.com\n",
       "2   Stephen Pack   stephen.pack@example.com\n",
       "3    Zain Master    zain.master@example.com\n",
       "4  Lukas Kawulok  lukas.kawulok@example.com\n",
       "5  Radim Moravac  radim.moravec@example.com"
      ]
     },
     "execution_count": 35,
     "metadata": {},
     "output_type": "execute_result"
    }
   ],
   "source": [
    "# convert to dataframe\n",
    "members_info = pd.DataFrame({'member': filtered_members.keys(), 'email': filtered_members.values()})\n",
    "members_info"
   ]
  },
  {
   "cell_type": "code",
   "execution_count": null,
   "id": "15242e39",
   "metadata": {},
   "outputs": [],
   "source": [
    "# create list of identified ctas\n",
    "meeting_results_action_list = list(meeting_results['action calls'])"
   ]
  },
  {
   "cell_type": "code",
   "execution_count": null,
   "id": "5015d36e",
   "metadata": {},
   "outputs": [
    {
     "name": "stdout",
     "output_type": "stream",
     "text": [
      "Terry Stone: There were no calls to action directed towards you.\n",
      "Petr Klen: There were no calls to action directed towards you.\n",
      "Stephen Pack: Capture the process of reaching out for resources to formalize it.\n",
      "Zain Master: Generate and store output for integrations prior to every release to compare.\n",
      "Lukas Kawulok: There were no calls to action directed towards you.\n",
      "Radim Moravac: There were no calls to action directed towards you.\n"
     ]
    }
   ],
   "source": [
    "# NER bot 2 - matches ctas to names\n",
    "prompt4 = \"\"\"You are a highly accurate Named Entity Recognition (NER) system.  \n",
    "Your task is to analyze a meeting transcription along a list of Calls to Action (CTAs) and identify Calls to Action (CTAs) directed at individuals from a provided list of names.\n",
    "\n",
    "Instructions:\n",
    "1. For each name in the list, check if a unique task or action was assigned or implied in the transcription.\n",
    "2. If a task exists, return the name followed by the task — all in one line.\n",
    "3. If no task exists for a name, return the name followed by: \"There were no calls to action directed towards you.\"\n",
    "\n",
    "⚠️ Ensure:\n",
    "- Every name from the input list is accounted for in the output — no omissions.\n",
    "- The output is structured as a clean list: one name per line, followed by the corresponding task or message.\n",
    "\n",
    "Example Output Format:\n",
    "Name 1: Follow up with the client on the pricing details.\n",
    "Name 2: Prepare the Q2 financial report.\n",
    "Name 3: There were no calls to action directed towards you.\n",
    "\n",
    "Begin processing now.\"\"\"\n",
    "\n",
    "# Instantiate chain\n",
    "chain4 = client.chat.completions.create(\n",
    "    model='gpt-4-turbo',\n",
    "    messages=[{'role': 'system', 'content': prompt4},\n",
    "              {'role': 'user', 'content': f\"Names: {str(matched_names)}\\n Meeting: {transcribed_audio}\\n Calls to Action {meeting_results_action_list}\"}]\n",
    ")\n",
    "\n",
    "names_calls = chain4.choices[0].message.content\n",
    "name_calls = names_calls.strip('\\n \\n')\n",
    "print(names_calls)"
   ]
  },
  {
   "cell_type": "code",
   "execution_count": null,
   "id": "93f3c1e1",
   "metadata": {},
   "outputs": [
    {
     "data": {
      "text/plain": [
       "['Terry Stone',\n",
       " 'There were no calls to action directed towards you.',\n",
       " 'Petr Klen',\n",
       " 'There were no calls to action directed towards you.',\n",
       " 'Stephen Pack',\n",
       " 'Capture the process of reaching out for resources to formalize it.',\n",
       " 'Zain Master',\n",
       " 'Generate and store output for integrations prior to every release to compare.',\n",
       " 'Lukas Kawulok',\n",
       " 'There were no calls to action directed towards you.',\n",
       " 'Radim Moravac',\n",
       " 'There were no calls to action directed towards you.']"
      ]
     },
     "execution_count": 38,
     "metadata": {},
     "output_type": "execute_result"
    }
   ],
   "source": [
    "# split returned strings by Member: and cta\n",
    "import re\n",
    "\n",
    "delimiters = [r\": \", \"\\n\"]\n",
    "pattern = \"|\".join(map(re.escape, delimiters))\n",
    "\n",
    "names_calls_list = re.split(pattern, names_calls)\n",
    "names_calls_list"
   ]
  },
  {
   "cell_type": "code",
   "execution_count": null,
   "id": "a92ecfc9",
   "metadata": {},
   "outputs": [
    {
     "data": {
      "text/html": [
       "<div>\n",
       "<style scoped>\n",
       "    .dataframe tbody tr th:only-of-type {\n",
       "        vertical-align: middle;\n",
       "    }\n",
       "\n",
       "    .dataframe tbody tr th {\n",
       "        vertical-align: top;\n",
       "    }\n",
       "\n",
       "    .dataframe thead th {\n",
       "        text-align: right;\n",
       "    }\n",
       "</style>\n",
       "<table border=\"1\" class=\"dataframe\">\n",
       "  <thead>\n",
       "    <tr style=\"text-align: right;\">\n",
       "      <th></th>\n",
       "      <th>member</th>\n",
       "      <th>action</th>\n",
       "    </tr>\n",
       "  </thead>\n",
       "  <tbody>\n",
       "    <tr>\n",
       "      <th>0</th>\n",
       "      <td>Terry Stone</td>\n",
       "      <td>There were no calls to action directed towards...</td>\n",
       "    </tr>\n",
       "    <tr>\n",
       "      <th>1</th>\n",
       "      <td>Petr Klen</td>\n",
       "      <td>There were no calls to action directed towards...</td>\n",
       "    </tr>\n",
       "    <tr>\n",
       "      <th>2</th>\n",
       "      <td>Stephen Pack</td>\n",
       "      <td>Capture the process of reaching out for resour...</td>\n",
       "    </tr>\n",
       "    <tr>\n",
       "      <th>3</th>\n",
       "      <td>Zain Master</td>\n",
       "      <td>Generate and store output for integrations pri...</td>\n",
       "    </tr>\n",
       "    <tr>\n",
       "      <th>4</th>\n",
       "      <td>Lukas Kawulok</td>\n",
       "      <td>There were no calls to action directed towards...</td>\n",
       "    </tr>\n",
       "    <tr>\n",
       "      <th>5</th>\n",
       "      <td>Radim Moravac</td>\n",
       "      <td>There were no calls to action directed towards...</td>\n",
       "    </tr>\n",
       "  </tbody>\n",
       "</table>\n",
       "</div>"
      ],
      "text/plain": [
       "          member                                             action\n",
       "0    Terry Stone  There were no calls to action directed towards...\n",
       "1      Petr Klen  There were no calls to action directed towards...\n",
       "2   Stephen Pack  Capture the process of reaching out for resour...\n",
       "3    Zain Master  Generate and store output for integrations pri...\n",
       "4  Lukas Kawulok  There were no calls to action directed towards...\n",
       "5  Radim Moravac  There were no calls to action directed towards..."
      ]
     },
     "execution_count": 39,
     "metadata": {},
     "output_type": "execute_result"
    }
   ],
   "source": [
    "# converting split results into dataframe\n",
    "meeting_actions = {}\n",
    "i = 0\n",
    "while i < len(names_calls_list) - 1:\n",
    "    name = names_calls_list[i].strip()\n",
    "    action = names_calls_list[i + 1].strip()\n",
    "    meeting_actions[name] = action\n",
    "    i += 2\n",
    "\n",
    "meeting_actions = pd.DataFrame.from_dict([meeting_actions]).T.reset_index().rename(columns={'index': 'member', 0: 'action'})\n",
    "meeting_actions"
   ]
  },
  {
   "cell_type": "code",
   "execution_count": null,
   "id": "4522f117",
   "metadata": {},
   "outputs": [
    {
     "data": {
      "text/plain": [
       "<bound method DataFrame.info of           member                                             action\n",
       "0    Terry Stone  There were no calls to action directed towards...\n",
       "1      Petr Klen  There were no calls to action directed towards...\n",
       "2   Stephen Pack  Capture the process of reaching out for resour...\n",
       "3    Zain Master  Generate and store output for integrations pri...\n",
       "4  Lukas Kawulok  There were no calls to action directed towards...\n",
       "5  Radim Moravac  There were no calls to action directed towards...>"
      ]
     },
     "execution_count": 40,
     "metadata": {},
     "output_type": "execute_result"
    }
   ],
   "source": [
    "# checking if names match\n",
    "meeting_actions.info"
   ]
  },
  {
   "cell_type": "code",
   "execution_count": null,
   "id": "5a8fa73f",
   "metadata": {},
   "outputs": [
    {
     "data": {
      "text/plain": [
       "<bound method DataFrame.info of           member                      email\n",
       "0    Terry Stone    terry.stone@example.com\n",
       "1      Petr Klen      petr.klen@example.com\n",
       "2   Stephen Pack   stephen.pack@example.com\n",
       "3    Zain Master    zain.master@example.com\n",
       "4  Lukas Kawulok  lukas.kawulok@example.com\n",
       "5  Radim Moravac  radim.moravec@example.com>"
      ]
     },
     "execution_count": 41,
     "metadata": {},
     "output_type": "execute_result"
    }
   ],
   "source": [
    "# checking if names match\n",
    "members_info.info"
   ]
  },
  {
   "cell_type": "code",
   "execution_count": null,
   "id": "44f8f3b0",
   "metadata": {},
   "outputs": [
    {
     "data": {
      "text/plain": [
       "['Terry Stone',\n",
       " 'Petr Klen',\n",
       " 'Stephen Pack',\n",
       " 'Zain Master',\n",
       " 'Lukas Kawulok',\n",
       " 'Radim Moravac']"
      ]
     },
     "execution_count": 42,
     "metadata": {},
     "output_type": "execute_result"
    }
   ],
   "source": [
    "# another fuzzy match to fix spelling of names from cta-names match LLM if need be\n",
    "info = list(members_info['member'].values)\n",
    "\n",
    "actions = list(meeting_actions['member'].values)\n",
    "\n",
    "\n",
    "threshold = 70\n",
    "\n",
    "matched_names_actions = []\n",
    "\n",
    "for name in info:\n",
    "    match, score, _ = process.extractOne(name, actions, scorer=fuzz.token_sort_ratio)\n",
    "    if score >= threshold:\n",
    "        matched_names_actions.append(name)\n",
    "\n",
    "matched_names_actions"
   ]
  },
  {
   "cell_type": "code",
   "execution_count": null,
   "id": "0cd7ef06",
   "metadata": {},
   "outputs": [],
   "source": [
    "# overwriting with correct spelling\n",
    "meeting_actions['member'] = matched_names_actions"
   ]
  },
  {
   "cell_type": "code",
   "execution_count": null,
   "id": "b13c0ebe",
   "metadata": {},
   "outputs": [
    {
     "data": {
      "text/html": [
       "<div>\n",
       "<style scoped>\n",
       "    .dataframe tbody tr th:only-of-type {\n",
       "        vertical-align: middle;\n",
       "    }\n",
       "\n",
       "    .dataframe tbody tr th {\n",
       "        vertical-align: top;\n",
       "    }\n",
       "\n",
       "    .dataframe thead th {\n",
       "        text-align: right;\n",
       "    }\n",
       "</style>\n",
       "<table border=\"1\" class=\"dataframe\">\n",
       "  <thead>\n",
       "    <tr style=\"text-align: right;\">\n",
       "      <th></th>\n",
       "      <th>member</th>\n",
       "      <th>action</th>\n",
       "      <th>email</th>\n",
       "    </tr>\n",
       "  </thead>\n",
       "  <tbody>\n",
       "    <tr>\n",
       "      <th>0</th>\n",
       "      <td>Lukas Kawulok</td>\n",
       "      <td>There were no calls to action directed towards...</td>\n",
       "      <td>lukas.kawulok@example.com</td>\n",
       "    </tr>\n",
       "    <tr>\n",
       "      <th>1</th>\n",
       "      <td>Petr Klen</td>\n",
       "      <td>There were no calls to action directed towards...</td>\n",
       "      <td>petr.klen@example.com</td>\n",
       "    </tr>\n",
       "    <tr>\n",
       "      <th>2</th>\n",
       "      <td>Radim Moravac</td>\n",
       "      <td>There were no calls to action directed towards...</td>\n",
       "      <td>radim.moravec@example.com</td>\n",
       "    </tr>\n",
       "    <tr>\n",
       "      <th>3</th>\n",
       "      <td>Stephen Pack</td>\n",
       "      <td>Capture the process of reaching out for resour...</td>\n",
       "      <td>stephen.pack@example.com</td>\n",
       "    </tr>\n",
       "    <tr>\n",
       "      <th>4</th>\n",
       "      <td>Terry Stone</td>\n",
       "      <td>There were no calls to action directed towards...</td>\n",
       "      <td>terry.stone@example.com</td>\n",
       "    </tr>\n",
       "    <tr>\n",
       "      <th>5</th>\n",
       "      <td>Zain Master</td>\n",
       "      <td>Generate and store output for integrations pri...</td>\n",
       "      <td>zain.master@example.com</td>\n",
       "    </tr>\n",
       "  </tbody>\n",
       "</table>\n",
       "</div>"
      ],
      "text/plain": [
       "          member                                             action  \\\n",
       "0  Lukas Kawulok  There were no calls to action directed towards...   \n",
       "1      Petr Klen  There were no calls to action directed towards...   \n",
       "2  Radim Moravac  There were no calls to action directed towards...   \n",
       "3   Stephen Pack  Capture the process of reaching out for resour...   \n",
       "4    Terry Stone  There were no calls to action directed towards...   \n",
       "5    Zain Master  Generate and store output for integrations pri...   \n",
       "\n",
       "                       email  \n",
       "0  lukas.kawulok@example.com  \n",
       "1      petr.klen@example.com  \n",
       "2  radim.moravec@example.com  \n",
       "3   stephen.pack@example.com  \n",
       "4    terry.stone@example.com  \n",
       "5    zain.master@example.com  "
      ]
     },
     "execution_count": 44,
     "metadata": {},
     "output_type": "execute_result"
    }
   ],
   "source": [
    "# merging names - ctas with info\n",
    "meeting_actions_emails = pd.merge(meeting_actions, members_info, on='member', how='outer')\n",
    "meeting_actions_emails"
   ]
  },
  {
   "cell_type": "code",
   "execution_count": 45,
   "id": "f1887a03",
   "metadata": {},
   "outputs": [
    {
     "data": {
      "text/plain": [
       "\"{'summary': 'Summary:\\\\n\\\\nThe transcript from April 29, 2025, outlines a critical meeting led by Zain Master, focusing on enhancing customer confidence in product releases. The primary concern addressed is the challenge of customer-specific customizations and environments, which have historically led to compatibility issues, resulting in a repetitive cycle of releases and fixes. This cycle has caused frustration both within the company and among customers.\\\\n\\\\nZain Master proposes a strategy aimed at fostering better collaboration between the solution center and the core product team. The solution center has a deep understanding of customer implementations, while the core product team is responsible for initial testing. By integrating these teams, the company aims to ensure that testing is thorough and that updates do not lead to significant issues post-release.\\\\n\\\\nA significant part of the strategy involves releasing updates in waves. This approach allows for smaller-scale initial deployments that can be closely monitored for any issues before a broader release. This method is intended to protect major revenue-generating customers from potential disruptions caused by new software updates.\\\\n\\\\nDuring the meeting, team members including Lukas Kawulok and Stephen Pack share insights from past failures and express their support for the wave-based release strategy. They emphasize the importance of maintaining clear communication with customers regarding the timing and nature of releases. However, concerns are raised about the logistical complexities involved in managing multiple waves of releases, especially in terms of communication and infrastructure requirements.\\\\n\\\\nTerry Stone delves into the technical and operational challenges, discussing the need for multiple gateways to manage different release waves and the importance of proper DNS routing. The team also considers the necessity of aligning releases in lower environments with those in production to ensure consistency across the board.\\\\n\\\\nThe discussion on resource allocation highlights the need for booking quality assurance (QA) resources well in advance. Petr Klen and Radim Moravec stress the importance of formalizing the booking process to guarantee resource availability. They suggest using JIRA tickets to systematize the initiation of resource booking, with project managers playing a crucial role in managing these allocations.\\\\n\\\\nAs the meeting progresses, the focus shifts to establishing a robust communication and testing protocol during the release hardening phase. This involves regular updates and decision-making forums that include both the core team and the solution center. The possibility of maintaining a dedicated communication channel to address issues promptly is also discussed.\\\\n\\\\nIn conclusion, the meeting underscores the complexities involved in releasing customized software products. It highlights the critical importance of strategic planning, resource management, and communication in ensuring successful and confident product releases to customers. The proposed strategies and discussions aim to improve collaboration and communication between the solution center and the core development team, using an Agile framework to manage software development effectively. The goal is to streamline processes, reduce potential errors, and ensure all teams are well-informed and prepared for changes, ultimately minimizing the impact on customers and enhancing their confidence in the product releases.\\\\n', 'action calls': 'Calls to Action:\\\\n\\\\n-Generate and store output for integrations prior to every release to compare.\\\\n\\\\n-Schedule another meeting to discuss performance testing and API integrations roadmap.\\\\n\\\\n-Return to Peter Loffelmann and try a proof of concept for connector access management.\\\\n\\\\n-Improve management of access to customer connectors.\\\\n\\\\n-Add API performance testing to the scope of testing.\\\\n\\\\n-Plan API performance testing in the roadmap.'}\""
      ]
     },
     "execution_count": 45,
     "metadata": {},
     "output_type": "execute_result"
    }
   ],
   "source": [
    "str(meeting_results)"
   ]
  },
  {
   "cell_type": "code",
   "execution_count": null,
   "id": "980176b2",
   "metadata": {},
   "outputs": [
    {
     "name": "stdout",
     "output_type": "stream",
     "text": [
      "Generated email for Lukas Kawulok (lukas.kawulok@example.com)\n",
      "Generated email for Petr Klen (petr.klen@example.com)\n",
      "Generated email for Radim Moravac (radim.moravec@example.com)\n",
      "Generated email for Stephen Pack (stephen.pack@example.com)\n",
      "Generated email for Terry Stone (terry.stone@example.com)\n",
      "Generated email for Zain Master (zain.master@example.com)\n",
      "\n",
      "--- Generated Emails ---\n",
      "To: lukas.kawulok@example.com\n",
      "\n",
      "From: znpmeetingassistant@gmail.com\n",
      "\n",
      "Subject: Summary and Action Items from April 29, 2025 Meeting\n",
      "\n",
      "Hi Lukas,\n",
      "\n",
      "I hope this email finds you well. Below is a summary of the meeting held on April 29, 2025, focusing on enhancing customer confidence in product releases:\n",
      "\n",
      "Meeting Summary:\n",
      "\n",
      "The meeting, led by Zain Master, highlighted the challenges related to customer-specific customizations and compatibility issues post-release. A strategy was proposed to integrate the solution center and core product team for thorough testing and implementing wave-based release updates to mitigate disruptions for key customers.\n",
      "\n",
      "Key Action Items:\n",
      "\n",
      "- Capture the process of reaching out for resources to formalize it.\n",
      "\n",
      "Specific Call to Action for Lukas Kawulok:\n",
      "\n",
      "Lukas, while there were no specific actions assigned to you during this meeting, please continue your valuable contributions to the team's initiatives in creating a seamless collaboration between the solution center and the core product team.\n",
      "\n",
      "Thank you for your dedication and support. If you have any questions or need further information, feel free to reach out.\n",
      "\n",
      "Best regards,\n",
      "\n",
      "ZNP Meeting Assistant\n",
      "\n",
      "! Warning ! Assignments of tasks and summaries generated by this Bot may be inaccurate. Please cross-check with the Meeting Organizer / Team Lead for validation.\n",
      "To: petr.klen@example.com\n",
      "\n",
      "From: znpmeetingassistant@gmail.com\n",
      "\n",
      "Subject: Summary and Calls to Action from April 29, 2025 Meeting\n",
      "\n",
      "This email summarizes the critical meeting held on April 29, 2025, focusing on enhancing customer confidence in product releases.\n",
      "\n",
      "Meeting Summary:\n",
      "\n",
      "The meeting, led by Zain Master, addressed the challenges posed by customer-specific customizations and environments, aiming to prevent compatibility issues and the repetitive cycle of releases and fixes. The proposed strategy involves fostering collaboration between the solution center and the core product team, releasing updates in waves to ensure thorough testing and protect major customers from disruptions. The importance of communication, resource allocation, and an Agile framework for effective software development was highlighted.\n",
      "\n",
      "Calls to Action:\n",
      "\n",
      "- Generate and store output for integrations prior to every release to compare.\n",
      "- Schedule another meeting to discuss performance testing and API integrations roadmap.\n",
      "- Return to Peter Loffelmann and try a proof of concept for connector access management.\n",
      "- Improve management of access to customer connectors.\n",
      "- Add API performance testing to the scope of testing.\n",
      "- Plan API performance testing in the roadmap.\n",
      "\n",
      "Specific Call to Action for Petr Klen:\n",
      "\n",
      "There were no specific calls to action directed towards you in this meeting. If you have any questions or require further clarification, please reach out.\n",
      "\n",
      "Thank you for your participation in the meeting.\n",
      "\n",
      "Best regards,\n",
      "ZNP Meeting Assistant\n",
      "\n",
      "! Warning ! Assignments of tasks and Summaries generated by this Bot may be inaccurate. Please be sure to follow up with Meeting Organizer / Team Lead\n",
      "\n",
      "To: radim.moravec@example.com\n",
      "\n",
      "From: znpmeetingassistant@gmail.com\n",
      "\n",
      "Subject: Summary of April 29, 2025 Meeting on Product Release Strategies\n",
      "\n",
      "This email summarizes the critical meeting held on April 29, 2025, led by Zain Master, focusing on enhancing customer confidence in product releases.\n",
      "\n",
      "Meeting Summary:\n",
      "\n",
      "The meeting addressed the challenges posed by customer-specific customizations and environments, causing compatibility issues in product releases. A strategy was proposed to foster collaboration between the solution center and the core product team, aiming to improve testing and release processes. The strategy involves releasing updates in waves to ensure thorough testing and minimize disruptions for major customers.\n",
      "\n",
      "Key discussion points included:\n",
      "\n",
      "- Importance of clear communication with customers regarding releases\n",
      "- Logistical complexities of managing multiple release waves\n",
      "- Technical challenges in managing different release gateways and DNS routing\n",
      "- Formalizing resource booking processes for quality assurance (QA) resources\n",
      "- Establishing communication and testing protocols during release hardening phase\n",
      "\n",
      "Calls to Action:\n",
      "\n",
      "- Generate and store output for integrations prior to every release to compare.\n",
      "- Schedule another meeting to discuss performance testing and API integrations roadmap.\n",
      "- Return to Peter Loffelmann and try a proof of concept for connector access management.\n",
      "- Improve management of access to customer connectors.\n",
      "- Add API performance testing to the scope of testing.\n",
      "- Plan API performance testing in the roadmap.\n",
      "\n",
      "Specific Call to Action for Radim Moravac:\n",
      "\n",
      "Radim, there were no specific actions assigned to you during the meeting. If you have any insights or contributions related to the discussed topics, please feel free to share them with the team.\n",
      "\n",
      "Thank you for your attention to this summary. If you have any questions or need further clarification, please let me know.\n",
      "\n",
      "Best regards,\n",
      "ZNP Meeting Assistant\n",
      "\n",
      "*! Warning ! Assignments of tasks and Summaries generated by this Bot may be inaccurate. Please verify and follow up with the Meeting Organizer / Team Lead for confirmation.*\n",
      "To: stephen.pack@example.com\n",
      "\n",
      "From: znpmeetingassistant@gmail.com\n",
      "\n",
      "Subject: Follow-Up on Customer Confidence Enhancement Meeting - Action Items\n",
      "\n",
      "Hi Stephen,\n",
      "\n",
      "I hope this email finds you well. I am writing to provide you with a summary of the recent meeting held on April 29, 2025, focusing on enhancing customer confidence in product releases led by Zain Master. Below is a summary of the key points discussed during the meeting:\n",
      "\n",
      "Meeting Summary:\n",
      "\n",
      "The meeting centered around the challenges posed by customer-specific customizations and environments, which have historically caused compatibility issues in product releases. To address this, a strategy was proposed to foster collaboration between the solution center and the core product team to ensure thorough testing and minimize post-release issues. The strategy includes releasing updates in waves to allow for smaller-scale deployments and better monitoring.\n",
      "\n",
      "Calls to Action:\n",
      "\n",
      "- Generate and store output for integrations prior to every release to compare.\n",
      "- Schedule another meeting to discuss performance testing and API integrations roadmap.\n",
      "- Return to Peter Loffelmann and try a proof of concept for connector access management.\n",
      "- Improve management of access to customer connectors.\n",
      "- Add API performance testing to the scope of testing.\n",
      "- Plan API performance testing in the roadmap.\n",
      "\n",
      "Specific Call to Action for Stephen Pack:\n",
      "\n",
      "Stephen, your specific action item is to capture the process of reaching out for resources to formalize it. This will help establish a formalized process for booking QA resources to ensure availability. Please document and systematize this process to enhance resource management efficiency. Kindly update the team on your progress.\n",
      "\n",
      "Thank you for your contributions to the meeting. Should you require any clarification or have further questions, please feel free to reach out. \n",
      "\n",
      "Best regards,\n",
      "\n",
      "ZNP Meeting Assistant\n",
      "\n",
      "*! Warning ! Assignments of tasks and Summaries generated by this Bot may be inaccurate. Please double-check with the Meeting Organizer/Team Lead for confirmation.\n",
      "To: terry.stone@example.com\n",
      "\n",
      "From: znpmeetingassistant@gmail.com\n",
      "\n",
      "Subject: Recap of April 29, 2025 Meeting Discussion on Enhancing Customer Confidence in Product Releases\n",
      "\n",
      "Dear Terry Stone,\n",
      "\n",
      "I hope this email finds you well. Below is a summary of the key points discussed during the meeting on April 29, 2025, regarding enhancing customer confidence in product releases:\n",
      "\n",
      "Meeting Summary:\n",
      "\n",
      "The meeting, led by Zain Master, focused on addressing the challenge of customer-specific customizations and environments that have historically led to compatibility issues and repetitive cycles of releases and fixes. The proposed strategy aims to foster better collaboration between the solution center and the core product team, with the goal of ensuring thorough testing and minimizing post-release issues. The strategy includes releasing updates in waves to allow for smaller-scale deployments and meticulous monitoring.\n",
      "\n",
      "Calls to Action:\n",
      "\n",
      "- Generate and store output for integrations prior to every release to compare.\n",
      "- Schedule another meeting to discuss performance testing and API integrations roadmap.\n",
      "- Return to Peter Loffelmann to try a proof of concept for connector access management.\n",
      "- Improve management of access to customer connectors.\n",
      "- Add API performance testing to the scope of testing.\n",
      "- Plan API performance testing in the roadmap.\n",
      "\n",
      "Specific Call to Action for Stephen Pack:\n",
      "\n",
      "Stephen, your specific task is to capture the process of reaching out for resources to formalize it. Please document this process and share it with the team for formalization.\n",
      "\n",
      "Thank you for your dedication and contributions to the meeting. Should you have any questions or need further clarification, please feel free to reach out.\n",
      "\n",
      "Best regards,\n",
      "ZNP Meeting Assistant\n",
      "\n",
      "*! Warning! Assignments of tasks and Summaries generated by this Bot may be inaccurate. Please be sure to follow up with Meeting Organizer / Team Lead*\n",
      "To: zain.master@example.com\n",
      "\n",
      "From: znpmeetingassistant@gmail.com\n",
      "\n",
      "Subject: Summary of April 29, 2025 Meeting\n",
      "\n",
      "This email summarizes the critical meeting held on April 29, 2025, led by Zain Master, focusing on enhancing customer confidence in product releases.\n",
      "\n",
      "Meeting Summary:\n",
      "\n",
      "The meeting delved into fostering better collaboration between the solution center and the core product team to address the challenge of customer-specific customizations and environments that have historically led to compatibility issues. The proposed strategy includes releasing updates in waves to ensure thorough testing and minimize post-release issues. Team members expressed support for this approach, emphasizing clear communication with customers and logistical complexities.\n",
      "\n",
      "Key discussion points included:\n",
      "- Integrated testing strategy between solution center and core team\n",
      "- Wave-based release approach for smoother deployments\n",
      "- Resource allocation for QA processes\n",
      "- Communication and testing protocols for release hardening phase\n",
      "\n",
      "Calls to Action:\n",
      "- Generate and store output for integrations prior to every release to compare.\n",
      "- Schedule another meeting to discuss performance testing and API integrations roadmap.\n",
      "- Return to Peter Loffelmann and try a proof of concept for connector access management.\n",
      "- Improve management of access to customer connectors.\n",
      "- Add API performance testing to the scope of testing.\n",
      "- Plan API performance testing in the roadmap.\n",
      "\n",
      "Specific Call to Action for Zain Master:\n",
      "Zain, your specific action is to generate and store output for integrations prior to every release to facilitate comparison and ensure smooth product deployments.\n",
      "\n",
      "Thank you for your leadership in the meeting. Please reach out if you need any further assistance or clarification.\n",
      "\n",
      "Best regards,\n",
      "ZNP Meeting Assistant\n",
      "\n",
      "*! Warning ! Assignments of tasks and summaries generated by this Bot may be inaccurate. Please confirm with the Meeting Organizer / Team Lead.*\n"
     ]
    }
   ],
   "source": [
    "# Email bot\n",
    "prompt5 = \"\"\"You are an intelligent Email formatting Assistant. You will take in a summary and calls to action from a meeting transcript, as well as a name, with their corresponding specific action and Email address.\n",
    "Your task is to write this person an email. Fill in the To: field with their email, output the summary, followed by all calls to actions. Then the corresponding specific action(s) for the member the Email is written for. An example Email Format is as follows:\n",
    "\n",
    "To: sarah.chen@example.com\n",
    "\n",
    "From: znpmeetingassistant@gmail.com\n",
    "\n",
    "Subject: Project Phoenix - Kickoff Meeting Summary\n",
    "\n",
    "This email summarizes the kickoff meeting for Project Phoenix, held on October 26, 2023.\n",
    "\n",
    "! Warning ! Assignments of tasks and Summaries generated by this Bot may be innacurate. Please be sure to follow up with Meeting Organizer / Team Lead\n",
    "\n",
    "Meeting Summary:\n",
    "\n",
    "The meeting began with an overview of Project Phoenix's objectives: to develop and launch a new customer relationship management (CRM) system within the next six months. We discussed the project's scope, which includes migrating existing customer data, integrating with our current marketing automation platform, and training our sales and support teams on the new system.\n",
    "\n",
    "Key discussion points included:\n",
    "\n",
    "- Data Migration Strategy: We reviewed the proposed approach for migrating customer data from the legacy system to the new CRM.\n",
    "\n",
    "- Integration Requirements: We discussed the necessary integrations with the marketing automation platform, focusing on data synchronization and workflow automation.\n",
    "\n",
    "- Training Plan: The training team outlined the plan for developing and delivering training materials to sales and support staff.\n",
    "\n",
    "- Timeline and Milestones: We established the initial project timeline, identifying key milestones and deadlines. A detailed project schedule will be shared next week.\n",
    "\n",
    "- Budget Allocation: Initial budget was presented.\n",
    "\n",
    "Calls to Action:\n",
    "\n",
    "- The following actions were assigned to ensure the project stays on track:\n",
    "\n",
    "- Sarah Chen: Finalize the data migration plan and submit it for review by November 2nd.\n",
    "\n",
    "- John Smith: Define the API specifications for the marketing automation platform integration by November 5th.\n",
    "\n",
    "- Emily Brown: Develop the initial training modules outline by November 9th.\n",
    "\n",
    "- David Lee: Circulate the detailed project schedule by October 28th.\n",
    "\n",
    "- Michael Davis: Provide a detailed budget breakdown by November 2nd.\n",
    "\n",
    "\n",
    "Specific Call to Action for Sarah Chen:\n",
    "\n",
    "Sarah, your immediate action is to finalize the data migration plan, including the specific steps, resources required, and potential risks. Please submit this plan to project_team@example.com by November 2nd.\n",
    "\n",
    "Thank you for your contributions to the meeting. Please let me know if you have any questions or require further clarification.\n",
    "\n",
    "Best regards,\n",
    "\n",
    "ZNP Meeting Assistant*\n",
    "\n",
    "* ! Warning ! Assignments of tasks and Summaries generated by this Bot may be innacurate. Please be sure to follow up with Meeting Organizer / Team Lead\n",
    "\n",
    "\n",
    "\n",
    "Here is the information:\n",
    "\"\"\"\n",
    "# loops through each entry to generate email for every member\n",
    "def generate_emails(meeting_results, meeting_actions_emails):\n",
    "    emails = []\n",
    "    for _, row in meeting_actions_emails.iterrows():\n",
    "        member_name = row['member']\n",
    "        member_email = row['email']\n",
    "        specific_action = row['action']\n",
    "\n",
    "        # Construct the user prompt with the specific information for the member\n",
    "        user_prompt = f\"\"\"\n",
    "        Here is the meeting summary:\n",
    "        {meeting_results}\n",
    "\n",
    "        Here are the calls to action for all members:\n",
    "        {meeting_actions_emails.to_string(index=False)}\n",
    "\n",
    "        Here is the specific call to action for {member_name}:\n",
    "        {specific_action}\n",
    "        \"\"\"\n",
    "\n",
    "        messages = [\n",
    "            {'role': 'system', 'content': prompt5},\n",
    "            {'role': 'user', 'content': user_prompt}\n",
    "        ]\n",
    "\n",
    "        try:\n",
    "            chain = client.chat.completions.create(\n",
    "                model=OPENAI_MODEL,\n",
    "                messages=messages\n",
    "            )\n",
    "            email_content = chain.choices[0].message.content\n",
    "            emails.append(email_content) \n",
    "            print(f\"Generated email for {member_name} ({member_email})\")\n",
    "        except Exception as e:\n",
    "            print(f\"An error occurred while generating email for {member_name}: {e}\")\n",
    "            emails.append(f\"Error: Could not generate email for {member_name}.\")\n",
    "\n",
    "    return emails\n",
    "\n",
    "\n",
    "# Generate and store emails\n",
    "generated_emails = generate_emails(meeting_results, meeting_actions_emails)\n",
    "\n",
    "# Print the list of generated emails\n",
    "print(\"\\n--- Generated Emails ---\")\n",
    "for email in generated_emails:\n",
    "    print(email)"
   ]
  },
  {
   "cell_type": "code",
   "execution_count": 47,
   "id": "581419df",
   "metadata": {},
   "outputs": [
    {
     "data": {
      "text/plain": [
       "6"
      ]
     },
     "execution_count": 47,
     "metadata": {},
     "output_type": "execute_result"
    }
   ],
   "source": [
    "len(generated_emails)"
   ]
  },
  {
   "cell_type": "code",
   "execution_count": 48,
   "id": "dad126fc",
   "metadata": {},
   "outputs": [
    {
     "name": "stdout",
     "output_type": "stream",
     "text": [
      "To: petr.klen@example.com\n",
      "\n",
      "From: znpmeetingassistant@gmail.com\n",
      "\n",
      "Subject: Summary and Calls to Action from April 29, 2025 Meeting\n",
      "\n",
      "This email summarizes the critical meeting held on April 29, 2025, focusing on enhancing customer confidence in product releases.\n",
      "\n",
      "Meeting Summary:\n",
      "\n",
      "The meeting, led by Zain Master, addressed the challenges posed by customer-specific customizations and environments, aiming to prevent compatibility issues and the repetitive cycle of releases and fixes. The proposed strategy involves fostering collaboration between the solution center and the core product team, releasing updates in waves to ensure thorough testing and protect major customers from disruptions. The importance of communication, resource allocation, and an Agile framework for effective software development was highlighted.\n",
      "\n",
      "Calls to Action:\n",
      "\n",
      "- Generate and store output for integrations prior to every release to compare.\n",
      "- Schedule another meeting to discuss performance testing and API integrations roadmap.\n",
      "- Return to Peter Loffelmann and try a proof of concept for connector access management.\n",
      "- Improve management of access to customer connectors.\n",
      "- Add API performance testing to the scope of testing.\n",
      "- Plan API performance testing in the roadmap.\n",
      "\n",
      "Specific Call to Action for Petr Klen:\n",
      "\n",
      "There were no specific calls to action directed towards you in this meeting. If you have any questions or require further clarification, please reach out.\n",
      "\n",
      "Thank you for your participation in the meeting.\n",
      "\n",
      "Best regards,\n",
      "ZNP Meeting Assistant\n",
      "\n",
      "! Warning ! Assignments of tasks and Summaries generated by this Bot may be inaccurate. Please be sure to follow up with Meeting Organizer / Team Lead\n",
      "\n"
     ]
    }
   ],
   "source": [
    "print(generated_emails[1])"
   ]
  },
  {
   "cell_type": "code",
   "execution_count": null,
   "id": "5f05f2f0",
   "metadata": {},
   "outputs": [
    {
     "data": {
      "text/plain": [
       "['To: lukas.kawulok@example.com',\n",
       " '',\n",
       " 'From: znpmeetingassistant@gmail.com',\n",
       " '',\n",
       " 'Subject: Summary and Action Items from April 29, 2025 Meeting',\n",
       " '',\n",
       " 'Hi Lukas,',\n",
       " '',\n",
       " 'I hope this email finds you well. Below is a summary of the meeting held on April 29, 2025, focusing on enhancing customer confidence in product releases:',\n",
       " '',\n",
       " 'Meeting Summary:',\n",
       " '',\n",
       " 'The meeting, led by Zain Master, highlighted the challenges related to customer-specific customizations and compatibility issues post-release. A strategy was proposed to integrate the solution center and core product team for thorough testing and implementing wave-based release updates to mitigate disruptions for key customers.',\n",
       " '',\n",
       " 'Key Action Items:',\n",
       " '',\n",
       " '- Capture the process of reaching out for resources to formalize it.',\n",
       " '',\n",
       " 'Specific Call to Action for Lukas Kawulok:',\n",
       " '',\n",
       " \"Lukas, while there were no specific actions assigned to you during this meeting, please continue your valuable contributions to the team's initiatives in creating a seamless collaboration between the solution center and the core product team.\",\n",
       " '',\n",
       " 'Thank you for your dedication and support. If you have any questions or need further information, feel free to reach out.',\n",
       " '',\n",
       " 'Best regards,',\n",
       " '',\n",
       " 'ZNP Meeting Assistant',\n",
       " '',\n",
       " '! Warning ! Assignments of tasks and summaries generated by this Bot may be inaccurate. Please cross-check with the Meeting Organizer / Team Lead for validation.']"
      ]
     },
     "execution_count": 56,
     "metadata": {},
     "output_type": "execute_result"
    }
   ],
   "source": [
    "# since the output is carefully curated, we can extract the information needed for email sending\n",
    "# splitting each email into a list\n",
    "email_bones = []\n",
    "for email in generated_emails:\n",
    "    lines = email.splitlines()\n",
    "    email_bones.append(lines)\n",
    "\n",
    "email_bones[0]"
   ]
  },
  {
   "cell_type": "code",
   "execution_count": null,
   "id": "1b3d53d8",
   "metadata": {},
   "outputs": [
    {
     "name": "stdout",
     "output_type": "stream",
     "text": [
      "lukas.kawulok@example.com\n",
      "znpmeetingassistant@gmail.com\n",
      "Summary and Action Items from April 29, 2025 Meeting\n",
      "\n",
      "Hi Lukas,\n",
      "\n",
      "  I hope this email finds you well. Below is a summary of the meeting held on April 29, 2025, focusing on enhancing customer confidence in product releases:\n",
      "\n",
      "  Meeting Summary:\n",
      "\n",
      "  The meeting, led by Zain Master, highlighted the challenges related to customer-specific customizations and compatibility issues post-release. A strategy was proposed to integrate the solution center and core product team for thorough testing and implementing wave-based release updates to mitigate disruptions for key customers.\n",
      "\n",
      "  Key Action Items:\n",
      "\n",
      "  - Capture the process of reaching out for resources to formalize it.\n",
      "\n",
      "  Specific Call to Action for Lukas Kawulok:\n",
      "\n",
      "  Lukas, while there were no specific actions assigned to you during this meeting, please continue your valuable contributions to the teams initiatives in creating a seamless collaboration between the solution center and the core product team.\n",
      "\n",
      "  Thank you for your dedication and support. If you have any questions or need further information, feel free to reach out.\n",
      "\n",
      "  Best regards,\n",
      "\n",
      "  ZNP Meeting Assistant\n",
      "\n",
      "  ! Warning ! Assignments of tasks and summaries generated by this Bot may be inaccurate. Please cross-check with the Meeting Organizer / Team Lead for validation.\n",
      "\n"
     ]
    }
   ],
   "source": [
    "# looping through each email list to extract email sending information\n",
    "# these variables are looped through to send each email\n",
    "to_list = []\n",
    "for email in email_bones:\n",
    "    to_list.append(email[0].replace('To: ', ''))\n",
    "\n",
    "sender_list = []\n",
    "for email in email_bones:\n",
    "    sender_list.append(email[2].replace('From: ', ''))\n",
    "\n",
    "subject_list = []\n",
    "for email in email_bones:\n",
    "    subject_list.append(email[4].replace('Subject: ', ''))\n",
    "\n",
    "message_text_list = []\n",
    "for email in email_bones:\n",
    "    message_text_list.append(str(email[6:]).replace(\"''\", '\\n').replace(\"',\", '\\n').replace(\"\\n,\", '').replace('\\n', '\\n\\n').replace('\",', '\\n\\n').replace('\"', '').replace(\"'\", \"\").replace('[', '\\n').replace(']', '\\n'))\n",
    "\n",
    "\n",
    "'''to = email_bones[0]\n",
    "cc = email_bones[2]\n",
    "sender = email_bones[4]\n",
    "subject = email_bones[6]\n",
    "message_text = str(email_bones[8:]).replace(\"''\", '\\n').replace(\"',\", '\\n').replace(\"\\n,\", '').replace('\\n', '\\n\\n').replace('\",', '\\n\\n').replace('\"', '').replace(\"'\", \"\").replace('[', '\\n').replace(']', '\\n')'''\n",
    "\n",
    "\n",
    "print(to_list[0])\n",
    "print(sender_list[0])\n",
    "print(subject_list[0])\n",
    "print(message_text_list[0])\n"
   ]
  },
  {
   "cell_type": "code",
   "execution_count": 58,
   "id": "8d8099fc",
   "metadata": {},
   "outputs": [],
   "source": [
    "import base64\n",
    "from email.message import EmailMessage"
   ]
  },
  {
   "cell_type": "code",
   "execution_count": 59,
   "id": "0df7ce98",
   "metadata": {},
   "outputs": [],
   "source": [
    "import os.path\n",
    "from google.oauth2.credentials import Credentials\n",
    "from google_auth_oauthlib.flow import InstalledAppFlow\n",
    "from google.auth.transport.requests import Request\n",
    "from googleapiclient.discovery import build"
   ]
  },
  {
   "cell_type": "code",
   "execution_count": 60,
   "id": "63f1ac7d",
   "metadata": {},
   "outputs": [],
   "source": [
    "import smtplib\n",
    "from email.mime.text import MIMEText\n",
    "from email.mime.multipart import MIMEMultipart\n",
    "from email.mime.base import MIMEBase\n",
    "from email import encoders"
   ]
  },
  {
   "cell_type": "code",
   "execution_count": null,
   "id": "b6a02f89",
   "metadata": {},
   "outputs": [],
   "source": [
    "# load gmail password\n",
    "load_dotenv()\n",
    "\n",
    "SENDER_PASSWORD = os.getenv('SENDER_PASSWORD')"
   ]
  },
  {
   "cell_type": "code",
   "execution_count": null,
   "id": "8408765a",
   "metadata": {},
   "outputs": [],
   "source": [
    "# Set SMPT variables\n",
    "sender_email = \"znpmeetingassistant@gmail.com\"\n",
    "sender_password = SENDER_PASSWORD\n",
    "sender_password = sender_password.replace('-', ' ')\n",
    "smtp_server = \"smtp.gmail.com\" \n",
    "smtp_port = 587"
   ]
  },
  {
   "cell_type": "code",
   "execution_count": null,
   "id": "daa9974f",
   "metadata": {},
   "outputs": [],
   "source": [
    "# create and send email functions\n",
    "def create_email(receiver_email, subject, message_text):\n",
    "    message = MIMEMultipart()\n",
    "    message['From'] = sender_email\n",
    "    message['To'] = receiver_email\n",
    "    message['Subject'] = subject\n",
    "    message.attach(MIMEText(message_text, 'plain'))\n",
    "    return message.as_string()\n",
    "\n",
    "\n",
    "\n",
    "def send_email(receiver_email, subject, message_text):\n",
    "    message = create_email(receiver_email, subject, message_text)\n",
    "\n",
    "    try:\n",
    "        with smtplib.SMTP(smtp_server, smtp_port) as server:\n",
    "            server.starttls()\n",
    "            server.login(sender_email, sender_password)\n",
    "            server.sendmail(sender_email, receiver_email, message)\n",
    "        print(f\"Email sent successfully to {receiver_email}\")\n",
    "    except Exception as e:\n",
    "        print(f\"Error sending email: {e}\")\n",
    "\n",
    "# loops through each email info list to create and send emails for every member\n",
    "def send_bulk_email(receiver_list, subject_list, message_list):\n",
    "    for receiver, subject, message in zip(receiver_list, subject_list, message_list):\n",
    "        send_email(receiver, subject, message)\n",
    "\n"
   ]
  },
  {
   "cell_type": "code",
   "execution_count": null,
   "id": "0604b463",
   "metadata": {},
   "outputs": [
    {
     "name": "stdout",
     "output_type": "stream",
     "text": [
      "Email sent successfully to lukas.kawulok@example.com\n",
      "Email sent successfully to petr.klen@example.com\n",
      "Email sent successfully to radim.moravec@example.com\n",
      "Email sent successfully to stephen.pack@example.com\n",
      "Email sent successfully to terry.stone@example.com\n",
      "Email sent successfully to zain.master@example.com\n"
     ]
    }
   ],
   "source": [
    "# testing the function\n",
    "send_bulk_email(to_list, subject_list, message_text_list)"
   ]
  },
  {
   "cell_type": "code",
   "execution_count": null,
   "id": "b561ed4a",
   "metadata": {},
   "outputs": [],
   "source": [
    "# old gmail API access code, works but is more cumbersome to use\n",
    "\n",
    "'''SCOPES = ['https://www.googleapis.com/auth/gmail.send']\n",
    "\n",
    "\n",
    "def create_message(sender, to, subject, message_text):\n",
    "    message = EmailMessage()\n",
    "    message.set_content(message_text)\n",
    "    message['To'] = to\n",
    "    message['From'] = sender\n",
    "    message['Subject'] = subject\n",
    "    return {'raw': base64.urlsafe_b64encode(message.as_bytes()).decode()}\n",
    "\n",
    "\n",
    "def send_message(service, user_id, message):\n",
    "    try:\n",
    "        message = (service.users().messages().send(userId=user_id, body=message)\n",
    "                 .execute())\n",
    "        print('Message Id: %s' % message['id'])\n",
    "        return message\n",
    "    except Exception as error:\n",
    "        print(f'An error occurred: {error}')\n",
    "\n",
    "def email_main(to_list, subject_list, message_text_list,):\n",
    "    creds = None\n",
    "    if os.path.exists('token.json'):\n",
    "        creds = Credentials.from_authorized_user_file('token.json', SCOPES)\n",
    "    if not creds or not creds.valid:\n",
    "        if creds and creds.expired and creds.refresh_token:\n",
    "            creds.refresh(Request())\n",
    "        else:\n",
    "            flow = InstalledAppFlow.from_client_secrets_file(\n",
    "                'credentials.json', SCOPES)\n",
    "            creds = flow.run_local_server(port=60010)\n",
    "        with open('token.json', 'w') as token:\n",
    "            token.write(creds.to_json())\n",
    "    try:\n",
    "        service = build('gmail', 'v1', credentials=creds)\n",
    "        sender = \"znpmeetingassistant@gmail.com\"\n",
    "        for to, subject, message_text in zip(to_list, subject_list, message_text_list):\n",
    "            message = create_message(sender, to, subject, message_text)\n",
    "            send_message(service, \"me\", message)\n",
    "    except Exception as e:\n",
    "        print(f\"Error: {e}\")'''"
   ]
  },
  {
   "cell_type": "code",
   "execution_count": null,
   "id": "8903bec2",
   "metadata": {},
   "outputs": [
    {
     "name": "stdout",
     "output_type": "stream",
     "text": [
      "Please visit this URL to authorize this application: https://accounts.google.com/o/oauth2/auth?response_type=code&client_id=1092722805024-tu2g85irn4q8b7ap26lon70i902l0i73.apps.googleusercontent.com&redirect_uri=http%3A%2F%2Flocalhost%3A60010%2F&scope=https%3A%2F%2Fwww.googleapis.com%2Fauth%2Fgmail.send&state=PUy1uUt9PXO3EtvvVKobIZVGa1VX8C&access_type=offline\n"
     ]
    }
   ],
   "source": [
    "#email_main(to_list, subject_list, message_text_list)"
   ]
  },
  {
   "cell_type": "code",
   "execution_count": null,
   "id": "f66f293f",
   "metadata": {},
   "outputs": [],
   "source": []
  }
 ],
 "metadata": {
  "kernelspec": {
   "display_name": "dev",
   "language": "python",
   "name": "python3"
  },
  "language_info": {
   "codemirror_mode": {
    "name": "ipython",
    "version": 3
   },
   "file_extension": ".py",
   "mimetype": "text/x-python",
   "name": "python",
   "nbconvert_exporter": "python",
   "pygments_lexer": "ipython3",
   "version": "3.12.9"
  }
 },
 "nbformat": 4,
 "nbformat_minor": 5
}
