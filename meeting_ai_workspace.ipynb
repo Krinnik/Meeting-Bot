{
 "cells": [
  {
   "cell_type": "code",
   "execution_count": 1,
   "id": "95fae4c8",
   "metadata": {},
   "outputs": [
    {
     "name": "stderr",
     "output_type": "stream",
     "text": [
      "c:\\Users\\Nik\\anaconda3\\envs\\dev\\Lib\\site-packages\\tqdm\\auto.py:21: TqdmWarning: IProgress not found. Please update jupyter and ipywidgets. See https://ipywidgets.readthedocs.io/en/stable/user_install.html\n",
      "  from .autonotebook import tqdm as notebook_tqdm\n"
     ]
    }
   ],
   "source": [
    "import pandas as pd\n",
    "from datasets import load_dataset\n",
    "\n",
    "ds = load_dataset(\"huuuyeah/meetingbank\")\n"
   ]
  },
  {
   "cell_type": "code",
   "execution_count": 2,
   "id": "782616f8",
   "metadata": {},
   "outputs": [
    {
     "data": {
      "text/plain": [
       "DatasetDict({\n",
       "    train: Dataset({\n",
       "        features: ['summary', 'uid', 'id', 'transcript'],\n",
       "        num_rows: 5169\n",
       "    })\n",
       "    validation: Dataset({\n",
       "        features: ['summary', 'uid', 'id', 'transcript'],\n",
       "        num_rows: 861\n",
       "    })\n",
       "    test: Dataset({\n",
       "        features: ['summary', 'uid', 'id', 'transcript'],\n",
       "        num_rows: 862\n",
       "    })\n",
       "})"
      ]
     },
     "execution_count": 2,
     "metadata": {},
     "output_type": "execute_result"
    }
   ],
   "source": [
    "train_data = ds['train']\n",
    "test_data = ds['test']\n",
    "val_data = ds['validation']\n",
    "\n",
    "ds"
   ]
  },
  {
   "cell_type": "code",
   "execution_count": 3,
   "id": "5317cfcd",
   "metadata": {},
   "outputs": [],
   "source": [
    "train_df = pd.DataFrame(train_data)\n",
    "test_df = pd.DataFrame(test_data)\n",
    "val_df = pd.DataFrame(val_data)"
   ]
  },
  {
   "cell_type": "code",
   "execution_count": 4,
   "id": "4e2d7a68",
   "metadata": {},
   "outputs": [
    {
     "data": {
      "text/html": [
       "<div>\n",
       "<style scoped>\n",
       "    .dataframe tbody tr th:only-of-type {\n",
       "        vertical-align: middle;\n",
       "    }\n",
       "\n",
       "    .dataframe tbody tr th {\n",
       "        vertical-align: top;\n",
       "    }\n",
       "\n",
       "    .dataframe thead th {\n",
       "        text-align: right;\n",
       "    }\n",
       "</style>\n",
       "<table border=\"1\" class=\"dataframe\">\n",
       "  <thead>\n",
       "    <tr style=\"text-align: right;\">\n",
       "      <th></th>\n",
       "      <th>summary</th>\n",
       "      <th>uid</th>\n",
       "      <th>id</th>\n",
       "      <th>transcript</th>\n",
       "    </tr>\n",
       "  </thead>\n",
       "  <tbody>\n",
       "    <tr>\n",
       "      <th>0</th>\n",
       "      <td>AS AMENDED a bill for an ordinance amending th...</td>\n",
       "      <td>DenverCityCouncil_05012017_17-0161</td>\n",
       "      <td>0</td>\n",
       "      <td>Please refrain from profane or obscene speech....</td>\n",
       "    </tr>\n",
       "    <tr>\n",
       "      <th>1</th>\n",
       "      <td>AS AMENDED a bill for an ordinance amending th...</td>\n",
       "      <td>DenverCityCouncil_04102017_17-0161</td>\n",
       "      <td>1</td>\n",
       "      <td>An assessment has called out council bill 161 ...</td>\n",
       "    </tr>\n",
       "    <tr>\n",
       "      <th>2</th>\n",
       "      <td>AS AMENDED a bill for an ordinance amending th...</td>\n",
       "      <td>DenverCityCouncil_02272017_17-0161</td>\n",
       "      <td>2</td>\n",
       "      <td>I Please close the voting. Announce the result...</td>\n",
       "    </tr>\n",
       "    <tr>\n",
       "      <th>3</th>\n",
       "      <td>Recommendation to respectfully request City Co...</td>\n",
       "      <td>LongBeachCC_03072017_17-0161</td>\n",
       "      <td>3</td>\n",
       "      <td>Motion passes. Hey, thank you very much. Now w...</td>\n",
       "    </tr>\n",
       "    <tr>\n",
       "      <th>4</th>\n",
       "      <td>AS AMENDED a bill for an ordinance amending th...</td>\n",
       "      <td>DenverCityCouncil_03202017_17-0161</td>\n",
       "      <td>4</td>\n",
       "      <td>All right. Pursuant to Council Bill 3.7 consid...</td>\n",
       "    </tr>\n",
       "  </tbody>\n",
       "</table>\n",
       "</div>"
      ],
      "text/plain": [
       "                                             summary  \\\n",
       "0  AS AMENDED a bill for an ordinance amending th...   \n",
       "1  AS AMENDED a bill for an ordinance amending th...   \n",
       "2  AS AMENDED a bill for an ordinance amending th...   \n",
       "3  Recommendation to respectfully request City Co...   \n",
       "4  AS AMENDED a bill for an ordinance amending th...   \n",
       "\n",
       "                                  uid  id  \\\n",
       "0  DenverCityCouncil_05012017_17-0161   0   \n",
       "1  DenverCityCouncil_04102017_17-0161   1   \n",
       "2  DenverCityCouncil_02272017_17-0161   2   \n",
       "3        LongBeachCC_03072017_17-0161   3   \n",
       "4  DenverCityCouncil_03202017_17-0161   4   \n",
       "\n",
       "                                          transcript  \n",
       "0  Please refrain from profane or obscene speech....  \n",
       "1  An assessment has called out council bill 161 ...  \n",
       "2  I Please close the voting. Announce the result...  \n",
       "3  Motion passes. Hey, thank you very much. Now w...  \n",
       "4  All right. Pursuant to Council Bill 3.7 consid...  "
      ]
     },
     "execution_count": 4,
     "metadata": {},
     "output_type": "execute_result"
    }
   ],
   "source": [
    "train_df.head()"
   ]
  },
  {
   "cell_type": "code",
   "execution_count": 5,
   "id": "c3ac0e62",
   "metadata": {},
   "outputs": [],
   "source": [
    "from langchain_openai import ChatOpenAI\n",
    "from dotenv import load_dotenv\n",
    "import os"
   ]
  },
  {
   "cell_type": "code",
   "execution_count": 6,
   "id": "f834fa3c",
   "metadata": {},
   "outputs": [],
   "source": [
    "# Load environment variables.\n",
    "load_dotenv()\n",
    "\n",
    "# Set the model name for our LLMs.\n",
    "OPENAI_MODEL = \"gpt-3.5-turbo\"\n",
    "# Store the API key in a variable.\n",
    "OPENAI_API_KEY = os.getenv(\"OPENAI_API_KEY\")"
   ]
  },
  {
   "cell_type": "code",
   "execution_count": 7,
   "id": "61c7a0d3",
   "metadata": {},
   "outputs": [],
   "source": [
    "from langchain.agents import initialize_agent, load_tools\n",
    "from langchain.chains.llm import LLMChain\n",
    "from langchain_core.prompts import ChatPromptTemplate\n",
    "from langchain.docstore.document import Document\n",
    "from langchain.chains.summarize import load_summarize_chain"
   ]
  },
  {
   "cell_type": "code",
   "execution_count": 8,
   "id": "eef2d66f",
   "metadata": {},
   "outputs": [
    {
     "data": {
      "text/html": [
       "<div>\n",
       "<style scoped>\n",
       "    .dataframe tbody tr th:only-of-type {\n",
       "        vertical-align: middle;\n",
       "    }\n",
       "\n",
       "    .dataframe tbody tr th {\n",
       "        vertical-align: top;\n",
       "    }\n",
       "\n",
       "    .dataframe thead th {\n",
       "        text-align: right;\n",
       "    }\n",
       "</style>\n",
       "<table border=\"1\" class=\"dataframe\">\n",
       "  <thead>\n",
       "    <tr style=\"text-align: right;\">\n",
       "      <th></th>\n",
       "      <th>index</th>\n",
       "      <th>summary</th>\n",
       "      <th>uid</th>\n",
       "      <th>id</th>\n",
       "      <th>transcript</th>\n",
       "    </tr>\n",
       "  </thead>\n",
       "  <tbody>\n",
       "    <tr>\n",
       "      <th>0</th>\n",
       "      <td>1</td>\n",
       "      <td>AS AMENDED a bill for an ordinance amending th...</td>\n",
       "      <td>DenverCityCouncil_04102017_17-0161</td>\n",
       "      <td>1</td>\n",
       "      <td>An assessment has called out council bill 161 ...</td>\n",
       "    </tr>\n",
       "    <tr>\n",
       "      <th>1</th>\n",
       "      <td>2</td>\n",
       "      <td>AS AMENDED a bill for an ordinance amending th...</td>\n",
       "      <td>DenverCityCouncil_02272017_17-0161</td>\n",
       "      <td>2</td>\n",
       "      <td>I Please close the voting. Announce the result...</td>\n",
       "    </tr>\n",
       "    <tr>\n",
       "      <th>2</th>\n",
       "      <td>3</td>\n",
       "      <td>Recommendation to respectfully request City Co...</td>\n",
       "      <td>LongBeachCC_03072017_17-0161</td>\n",
       "      <td>3</td>\n",
       "      <td>Motion passes. Hey, thank you very much. Now w...</td>\n",
       "    </tr>\n",
       "    <tr>\n",
       "      <th>3</th>\n",
       "      <td>4</td>\n",
       "      <td>AS AMENDED a bill for an ordinance amending th...</td>\n",
       "      <td>DenverCityCouncil_03202017_17-0161</td>\n",
       "      <td>4</td>\n",
       "      <td>All right. Pursuant to Council Bill 3.7 consid...</td>\n",
       "    </tr>\n",
       "    <tr>\n",
       "      <th>4</th>\n",
       "      <td>5</td>\n",
       "      <td>AS AMENDED a bill for an ordinance amending th...</td>\n",
       "      <td>DenverCityCouncil_02212017_17-0161</td>\n",
       "      <td>5</td>\n",
       "      <td>11 Eyes, Resolution 109 has been adopted as am...</td>\n",
       "    </tr>\n",
       "    <tr>\n",
       "      <th>...</th>\n",
       "      <td>...</td>\n",
       "      <td>...</td>\n",
       "      <td>...</td>\n",
       "      <td>...</td>\n",
       "      <td>...</td>\n",
       "    </tr>\n",
       "    <tr>\n",
       "      <th>4882</th>\n",
       "      <td>5164</td>\n",
       "      <td>AN ORDINANCE imposing a tax on engaging in the...</td>\n",
       "      <td>SeattleCityCouncil_06052017_CB 118965</td>\n",
       "      <td>5164</td>\n",
       "      <td>Thank you. The bill passed and chair of the Se...</td>\n",
       "    </tr>\n",
       "    <tr>\n",
       "      <th>4883</th>\n",
       "      <td>5165</td>\n",
       "      <td>Proclamation Declaring April 8 through April 1...</td>\n",
       "      <td>AlamedaCC_04022019_2019-6703</td>\n",
       "      <td>5165</td>\n",
       "      <td>Okay. Next is a proclamation declaring April e...</td>\n",
       "    </tr>\n",
       "    <tr>\n",
       "      <th>4884</th>\n",
       "      <td>5166</td>\n",
       "      <td>Approves an agreement with Kaiser Foundation H...</td>\n",
       "      <td>DenverCityCouncil_01052015_14-1062</td>\n",
       "      <td>5166</td>\n",
       "      <td>I just pulled this one out. This one actually ...</td>\n",
       "    </tr>\n",
       "    <tr>\n",
       "      <th>4885</th>\n",
       "      <td>5167</td>\n",
       "      <td>A bill for an Ordinance authorizing and approv...</td>\n",
       "      <td>DenverCityCouncil_06082015_15-0302</td>\n",
       "      <td>5167</td>\n",
       "      <td>The estimated taxable value following redevelo...</td>\n",
       "    </tr>\n",
       "    <tr>\n",
       "      <th>4886</th>\n",
       "      <td>5168</td>\n",
       "      <td>A bill for an ordinance designating certain pr...</td>\n",
       "      <td>DenverCityCouncil_11172014_14-0930</td>\n",
       "      <td>5168</td>\n",
       "      <td>Brooks Brown, I. Mr. President. Hi, Mr. Secret...</td>\n",
       "    </tr>\n",
       "  </tbody>\n",
       "</table>\n",
       "<p>4887 rows × 5 columns</p>\n",
       "</div>"
      ],
      "text/plain": [
       "      index                                            summary  \\\n",
       "0         1  AS AMENDED a bill for an ordinance amending th...   \n",
       "1         2  AS AMENDED a bill for an ordinance amending th...   \n",
       "2         3  Recommendation to respectfully request City Co...   \n",
       "3         4  AS AMENDED a bill for an ordinance amending th...   \n",
       "4         5  AS AMENDED a bill for an ordinance amending th...   \n",
       "...     ...                                                ...   \n",
       "4882   5164  AN ORDINANCE imposing a tax on engaging in the...   \n",
       "4883   5165  Proclamation Declaring April 8 through April 1...   \n",
       "4884   5166  Approves an agreement with Kaiser Foundation H...   \n",
       "4885   5167  A bill for an Ordinance authorizing and approv...   \n",
       "4886   5168  A bill for an ordinance designating certain pr...   \n",
       "\n",
       "                                        uid    id  \\\n",
       "0        DenverCityCouncil_04102017_17-0161     1   \n",
       "1        DenverCityCouncil_02272017_17-0161     2   \n",
       "2              LongBeachCC_03072017_17-0161     3   \n",
       "3        DenverCityCouncil_03202017_17-0161     4   \n",
       "4        DenverCityCouncil_02212017_17-0161     5   \n",
       "...                                     ...   ...   \n",
       "4882  SeattleCityCouncil_06052017_CB 118965  5164   \n",
       "4883           AlamedaCC_04022019_2019-6703  5165   \n",
       "4884     DenverCityCouncil_01052015_14-1062  5166   \n",
       "4885     DenverCityCouncil_06082015_15-0302  5167   \n",
       "4886     DenverCityCouncil_11172014_14-0930  5168   \n",
       "\n",
       "                                             transcript  \n",
       "0     An assessment has called out council bill 161 ...  \n",
       "1     I Please close the voting. Announce the result...  \n",
       "2     Motion passes. Hey, thank you very much. Now w...  \n",
       "3     All right. Pursuant to Council Bill 3.7 consid...  \n",
       "4     11 Eyes, Resolution 109 has been adopted as am...  \n",
       "...                                                 ...  \n",
       "4882  Thank you. The bill passed and chair of the Se...  \n",
       "4883  Okay. Next is a proclamation declaring April e...  \n",
       "4884  I just pulled this one out. This one actually ...  \n",
       "4885  The estimated taxable value following redevelo...  \n",
       "4886  Brooks Brown, I. Mr. President. Hi, Mr. Secret...  \n",
       "\n",
       "[4887 rows x 5 columns]"
      ]
     },
     "execution_count": 8,
     "metadata": {},
     "output_type": "execute_result"
    }
   ],
   "source": [
    "# dropping entries with too many tokens for the model\n",
    "train_df_sorted = train_df[train_df['transcript'].str.len() <= 16385 * 4].reset_index()\n",
    "train_df_sorted"
   ]
  },
  {
   "cell_type": "code",
   "execution_count": 9,
   "id": "888f0061",
   "metadata": {},
   "outputs": [
    {
     "data": {
      "text/plain": [
       "\"Motion passes. Hey, thank you very much. Now we're moving on to item 22. Communication from Vice Mayor Richardson recommendation to request City Council approval of the 2017 federal legislative agenda as recommended by the Federal Legislation Committee. There's a motion and a second Vice Mayor. So just a few updates here we have. So we met in November on November 15th to review staff's recommended recommended changes for the 2017 federal legislative agenda. The committee made some fairly substantive changes to the agenda last year when we were reorganized and consolidated some of the statements that may have been repetitive in years past. And because we made so many, so many changes in the last update, and as the new presidential administration gets up and running, the first large committee will be focused on protecting existing revenues that the city current receive currently receives from the federal government, such as the Housing Choice Voucher Program, commonly known as Section eight, CDBG, other HUD programs. We're also going to take a look at workforce programs and supporting those as well. And our existing legislative agenda already empowers us to do that. The committee heard that, you know, the committee may have heard that there's one particular area of the of the legislative agenda, legislative agenda that could use some additional language. That's the area of violence prevention and services to stem the homeless crisis in L.A. County. And because of all of our work, our mayor, city council, city staff have done around violence prevention staff recommended that we add language in the public safety section to support federal legislation that would assist with the implementation of violence prevention programs and in the area of homeless prevention. Staff recommended that the City Council support the city, support federal assistance toward establishing substance use treatment facilities in the region. Language to support mental health services is already existing there. Our committee voted to receive a file. All of staff's recommended and recommended changes and for those to the City Council for Adoption tonight. Since our meeting in November, a number of executive orders signed by the new president make it so that we need to update an existing statement in our in our agenda supporting the expansion of dockets. Read one that reads supporting federal legislation that maintains existing allowances for undocumented immigrants to who qualify for the DOCA program to remain in the United States, as well as being as well as any legislation that protects safety and well-being of all Californians by ensuring state and local race resources are not used to support deportations, collect information about individuals or religious beliefs or affiliations that ultimately hurt California's economy. Specific to the DOCA program, we're talking about immigrants who enter the U.S. before the 16th birthday and before June 27 are currently in high school or high school graduate honorably discharged in the military under the age of 31 as of June 15, 2012, and have not been convicted of a felony, significant misdemeanor or other or three other misdemeanors otherwise pose a threat to national security. So these recommended changes come because there's been, you know, since these executive orders, a number of bills that have come out. And we wanted to make sure that our language and our letter agenda is wide and comprehensive enough to support different bills, whether it's, you know, Feinstein's bill or other other people's bills that go forward, it still maintains the intent to support the DOCA language. And so that is sort of a highlight on what we're doing tonight on the failed agenda. Thanks. Thank you, Councilmember Yuri. Councilmember Gonzales. I'll defer Gonzales first. Councilman Gonzales. Q I don't know what's going on, Mayor. I'm sorry. No. It's it's Election Day. I know. That's okay. I just want to say thank you to Diana and to Vice Mayor Richardson. And now we have Councilmember Saranga that will be joining us at our next Fed. Federal legislation relation trip. And so I think vice mayor reiterated many of the new actions that we'll be taking when we go to D.C. and also here on the dais when we're discussing Long Beach initiatives. But the things that kind of pop out in my mind, the items, of course, are immigration issues related to DOCA and the new executive order, specifically with the ban on predominantly Muslim countries environmental protections, which I know we'll have to really look a little bit more into, and then securing our major capital projects like many of the initiatives that we have citywide. I want to make sure that we're securing those and that funding is going through us as we see fit. So thank you very much for your work and I look forward to working with you all again. Thank you. Councilmember Ringo. Thank you, Mayor. It's going to be my first year on this committee and I'm looking forward to it. It's going to be quite a challenging year. Obviously, we've had a change in in our presidency and a different focus. And so I'm looking forward to advocating for the city on behalf of a Long Beach. Thank you. Councilmember Pearce. Yeah, I just want to say, you know, I took the time to read through everything on the agenda and I just it made me really proud to be a part of this council and to look at everything from immigration to gun control, violence prevention, affordable housing. A lot of the things that we aspire to do that sometimes are challenging and tough. And I know that we can't do it all, but I just really thank you for making sure that this is comprehensive and that we, despite what's happening at the federal level, are continuing to advocate and protect those that live in our communities here. So thank you. Thank you. Any public comment on this saying please cast your votes. Councilman, your anger. Motion passes.\""
      ]
     },
     "execution_count": 9,
     "metadata": {},
     "output_type": "execute_result"
    }
   ],
   "source": [
    "train_df_sorted['transcript'][2]"
   ]
  },
  {
   "cell_type": "code",
   "execution_count": 117,
   "id": "6529b95e",
   "metadata": {},
   "outputs": [
    {
     "ename": "APIConnectionError",
     "evalue": "Connection error.",
     "output_type": "error",
     "traceback": [
      "\u001b[1;31m---------------------------------------------------------------------------\u001b[0m",
      "\u001b[1;31mRemoteProtocolError\u001b[0m                       Traceback (most recent call last)",
      "File \u001b[1;32mc:\\Users\\Nik\\anaconda3\\envs\\dev\\Lib\\site-packages\\httpx\\_transports\\default.py:101\u001b[0m, in \u001b[0;36mmap_httpcore_exceptions\u001b[1;34m()\u001b[0m\n\u001b[0;32m    100\u001b[0m \u001b[38;5;28;01mtry\u001b[39;00m:\n\u001b[1;32m--> 101\u001b[0m     \u001b[38;5;28;01myield\u001b[39;00m\n\u001b[0;32m    102\u001b[0m \u001b[38;5;28;01mexcept\u001b[39;00m \u001b[38;5;167;01mException\u001b[39;00m \u001b[38;5;28;01mas\u001b[39;00m exc:\n",
      "File \u001b[1;32mc:\\Users\\Nik\\anaconda3\\envs\\dev\\Lib\\site-packages\\httpx\\_transports\\default.py:250\u001b[0m, in \u001b[0;36mHTTPTransport.handle_request\u001b[1;34m(self, request)\u001b[0m\n\u001b[0;32m    249\u001b[0m \u001b[38;5;28;01mwith\u001b[39;00m map_httpcore_exceptions():\n\u001b[1;32m--> 250\u001b[0m     resp \u001b[38;5;241m=\u001b[39m \u001b[38;5;28mself\u001b[39m\u001b[38;5;241m.\u001b[39m_pool\u001b[38;5;241m.\u001b[39mhandle_request(req)\n\u001b[0;32m    252\u001b[0m \u001b[38;5;28;01massert\u001b[39;00m \u001b[38;5;28misinstance\u001b[39m(resp\u001b[38;5;241m.\u001b[39mstream, typing\u001b[38;5;241m.\u001b[39mIterable)\n",
      "File \u001b[1;32mc:\\Users\\Nik\\anaconda3\\envs\\dev\\Lib\\site-packages\\httpcore\\_sync\\connection_pool.py:256\u001b[0m, in \u001b[0;36mConnectionPool.handle_request\u001b[1;34m(self, request)\u001b[0m\n\u001b[0;32m    255\u001b[0m     \u001b[38;5;28mself\u001b[39m\u001b[38;5;241m.\u001b[39m_close_connections(closing)\n\u001b[1;32m--> 256\u001b[0m     \u001b[38;5;28;01mraise\u001b[39;00m exc \u001b[38;5;28;01mfrom\u001b[39;00m \u001b[38;5;28;01mNone\u001b[39;00m\n\u001b[0;32m    258\u001b[0m \u001b[38;5;66;03m# Return the response. Note that in this case we still have to manage\u001b[39;00m\n\u001b[0;32m    259\u001b[0m \u001b[38;5;66;03m# the point at which the response is closed.\u001b[39;00m\n",
      "File \u001b[1;32mc:\\Users\\Nik\\anaconda3\\envs\\dev\\Lib\\site-packages\\httpcore\\_sync\\connection_pool.py:236\u001b[0m, in \u001b[0;36mConnectionPool.handle_request\u001b[1;34m(self, request)\u001b[0m\n\u001b[0;32m    234\u001b[0m \u001b[38;5;28;01mtry\u001b[39;00m:\n\u001b[0;32m    235\u001b[0m     \u001b[38;5;66;03m# Send the request on the assigned connection.\u001b[39;00m\n\u001b[1;32m--> 236\u001b[0m     response \u001b[38;5;241m=\u001b[39m connection\u001b[38;5;241m.\u001b[39mhandle_request(\n\u001b[0;32m    237\u001b[0m         pool_request\u001b[38;5;241m.\u001b[39mrequest\n\u001b[0;32m    238\u001b[0m     )\n\u001b[0;32m    239\u001b[0m \u001b[38;5;28;01mexcept\u001b[39;00m ConnectionNotAvailable:\n\u001b[0;32m    240\u001b[0m     \u001b[38;5;66;03m# In some cases a connection may initially be available to\u001b[39;00m\n\u001b[0;32m    241\u001b[0m     \u001b[38;5;66;03m# handle a request, but then become unavailable.\u001b[39;00m\n\u001b[0;32m    242\u001b[0m     \u001b[38;5;66;03m#\u001b[39;00m\n\u001b[0;32m    243\u001b[0m     \u001b[38;5;66;03m# In this case we clear the connection and try again.\u001b[39;00m\n",
      "File \u001b[1;32mc:\\Users\\Nik\\anaconda3\\envs\\dev\\Lib\\site-packages\\httpcore\\_sync\\connection.py:103\u001b[0m, in \u001b[0;36mHTTPConnection.handle_request\u001b[1;34m(self, request)\u001b[0m\n\u001b[0;32m    101\u001b[0m     \u001b[38;5;28;01mraise\u001b[39;00m exc\n\u001b[1;32m--> 103\u001b[0m \u001b[38;5;28;01mreturn\u001b[39;00m \u001b[38;5;28mself\u001b[39m\u001b[38;5;241m.\u001b[39m_connection\u001b[38;5;241m.\u001b[39mhandle_request(request)\n",
      "File \u001b[1;32mc:\\Users\\Nik\\anaconda3\\envs\\dev\\Lib\\site-packages\\httpcore\\_sync\\http11.py:136\u001b[0m, in \u001b[0;36mHTTP11Connection.handle_request\u001b[1;34m(self, request)\u001b[0m\n\u001b[0;32m    135\u001b[0m         \u001b[38;5;28mself\u001b[39m\u001b[38;5;241m.\u001b[39m_response_closed()\n\u001b[1;32m--> 136\u001b[0m \u001b[38;5;28;01mraise\u001b[39;00m exc\n",
      "File \u001b[1;32mc:\\Users\\Nik\\anaconda3\\envs\\dev\\Lib\\site-packages\\httpcore\\_sync\\http11.py:106\u001b[0m, in \u001b[0;36mHTTP11Connection.handle_request\u001b[1;34m(self, request)\u001b[0m\n\u001b[0;32m     97\u001b[0m \u001b[38;5;28;01mwith\u001b[39;00m Trace(\n\u001b[0;32m     98\u001b[0m     \u001b[38;5;124m\"\u001b[39m\u001b[38;5;124mreceive_response_headers\u001b[39m\u001b[38;5;124m\"\u001b[39m, logger, request, kwargs\n\u001b[0;32m     99\u001b[0m ) \u001b[38;5;28;01mas\u001b[39;00m trace:\n\u001b[0;32m    100\u001b[0m     (\n\u001b[0;32m    101\u001b[0m         http_version,\n\u001b[0;32m    102\u001b[0m         status,\n\u001b[0;32m    103\u001b[0m         reason_phrase,\n\u001b[0;32m    104\u001b[0m         headers,\n\u001b[0;32m    105\u001b[0m         trailing_data,\n\u001b[1;32m--> 106\u001b[0m     ) \u001b[38;5;241m=\u001b[39m \u001b[38;5;28mself\u001b[39m\u001b[38;5;241m.\u001b[39m_receive_response_headers(\u001b[38;5;241m*\u001b[39m\u001b[38;5;241m*\u001b[39mkwargs)\n\u001b[0;32m    107\u001b[0m     trace\u001b[38;5;241m.\u001b[39mreturn_value \u001b[38;5;241m=\u001b[39m (\n\u001b[0;32m    108\u001b[0m         http_version,\n\u001b[0;32m    109\u001b[0m         status,\n\u001b[0;32m    110\u001b[0m         reason_phrase,\n\u001b[0;32m    111\u001b[0m         headers,\n\u001b[0;32m    112\u001b[0m     )\n",
      "File \u001b[1;32mc:\\Users\\Nik\\anaconda3\\envs\\dev\\Lib\\site-packages\\httpcore\\_sync\\http11.py:177\u001b[0m, in \u001b[0;36mHTTP11Connection._receive_response_headers\u001b[1;34m(self, request)\u001b[0m\n\u001b[0;32m    176\u001b[0m \u001b[38;5;28;01mwhile\u001b[39;00m \u001b[38;5;28;01mTrue\u001b[39;00m:\n\u001b[1;32m--> 177\u001b[0m     event \u001b[38;5;241m=\u001b[39m \u001b[38;5;28mself\u001b[39m\u001b[38;5;241m.\u001b[39m_receive_event(timeout\u001b[38;5;241m=\u001b[39mtimeout)\n\u001b[0;32m    178\u001b[0m     \u001b[38;5;28;01mif\u001b[39;00m \u001b[38;5;28misinstance\u001b[39m(event, h11\u001b[38;5;241m.\u001b[39mResponse):\n",
      "File \u001b[1;32mc:\\Users\\Nik\\anaconda3\\envs\\dev\\Lib\\site-packages\\httpcore\\_sync\\http11.py:231\u001b[0m, in \u001b[0;36mHTTP11Connection._receive_event\u001b[1;34m(self, timeout)\u001b[0m\n\u001b[0;32m    230\u001b[0m     msg \u001b[38;5;241m=\u001b[39m \u001b[38;5;124m\"\u001b[39m\u001b[38;5;124mServer disconnected without sending a response.\u001b[39m\u001b[38;5;124m\"\u001b[39m\n\u001b[1;32m--> 231\u001b[0m     \u001b[38;5;28;01mraise\u001b[39;00m RemoteProtocolError(msg)\n\u001b[0;32m    233\u001b[0m \u001b[38;5;28mself\u001b[39m\u001b[38;5;241m.\u001b[39m_h11_state\u001b[38;5;241m.\u001b[39mreceive_data(data)\n",
      "\u001b[1;31mRemoteProtocolError\u001b[0m: Server disconnected without sending a response.",
      "\nThe above exception was the direct cause of the following exception:\n",
      "\u001b[1;31mRemoteProtocolError\u001b[0m                       Traceback (most recent call last)",
      "File \u001b[1;32mc:\\Users\\Nik\\anaconda3\\envs\\dev\\Lib\\site-packages\\openai\\_base_client.py:989\u001b[0m, in \u001b[0;36mSyncAPIClient._request\u001b[1;34m(self, cast_to, options, retries_taken, stream, stream_cls)\u001b[0m\n\u001b[0;32m    988\u001b[0m \u001b[38;5;28;01mtry\u001b[39;00m:\n\u001b[1;32m--> 989\u001b[0m     response \u001b[38;5;241m=\u001b[39m \u001b[38;5;28mself\u001b[39m\u001b[38;5;241m.\u001b[39m_client\u001b[38;5;241m.\u001b[39msend(\n\u001b[0;32m    990\u001b[0m         request,\n\u001b[0;32m    991\u001b[0m         stream\u001b[38;5;241m=\u001b[39mstream \u001b[38;5;129;01mor\u001b[39;00m \u001b[38;5;28mself\u001b[39m\u001b[38;5;241m.\u001b[39m_should_stream_response_body(request\u001b[38;5;241m=\u001b[39mrequest),\n\u001b[0;32m    992\u001b[0m         \u001b[38;5;241m*\u001b[39m\u001b[38;5;241m*\u001b[39mkwargs,\n\u001b[0;32m    993\u001b[0m     )\n\u001b[0;32m    994\u001b[0m \u001b[38;5;28;01mexcept\u001b[39;00m httpx\u001b[38;5;241m.\u001b[39mTimeoutException \u001b[38;5;28;01mas\u001b[39;00m err:\n",
      "File \u001b[1;32mc:\\Users\\Nik\\anaconda3\\envs\\dev\\Lib\\site-packages\\httpx\\_client.py:914\u001b[0m, in \u001b[0;36mClient.send\u001b[1;34m(self, request, stream, auth, follow_redirects)\u001b[0m\n\u001b[0;32m    912\u001b[0m auth \u001b[38;5;241m=\u001b[39m \u001b[38;5;28mself\u001b[39m\u001b[38;5;241m.\u001b[39m_build_request_auth(request, auth)\n\u001b[1;32m--> 914\u001b[0m response \u001b[38;5;241m=\u001b[39m \u001b[38;5;28mself\u001b[39m\u001b[38;5;241m.\u001b[39m_send_handling_auth(\n\u001b[0;32m    915\u001b[0m     request,\n\u001b[0;32m    916\u001b[0m     auth\u001b[38;5;241m=\u001b[39mauth,\n\u001b[0;32m    917\u001b[0m     follow_redirects\u001b[38;5;241m=\u001b[39mfollow_redirects,\n\u001b[0;32m    918\u001b[0m     history\u001b[38;5;241m=\u001b[39m[],\n\u001b[0;32m    919\u001b[0m )\n\u001b[0;32m    920\u001b[0m \u001b[38;5;28;01mtry\u001b[39;00m:\n",
      "File \u001b[1;32mc:\\Users\\Nik\\anaconda3\\envs\\dev\\Lib\\site-packages\\httpx\\_client.py:942\u001b[0m, in \u001b[0;36mClient._send_handling_auth\u001b[1;34m(self, request, auth, follow_redirects, history)\u001b[0m\n\u001b[0;32m    941\u001b[0m \u001b[38;5;28;01mwhile\u001b[39;00m \u001b[38;5;28;01mTrue\u001b[39;00m:\n\u001b[1;32m--> 942\u001b[0m     response \u001b[38;5;241m=\u001b[39m \u001b[38;5;28mself\u001b[39m\u001b[38;5;241m.\u001b[39m_send_handling_redirects(\n\u001b[0;32m    943\u001b[0m         request,\n\u001b[0;32m    944\u001b[0m         follow_redirects\u001b[38;5;241m=\u001b[39mfollow_redirects,\n\u001b[0;32m    945\u001b[0m         history\u001b[38;5;241m=\u001b[39mhistory,\n\u001b[0;32m    946\u001b[0m     )\n\u001b[0;32m    947\u001b[0m     \u001b[38;5;28;01mtry\u001b[39;00m:\n",
      "File \u001b[1;32mc:\\Users\\Nik\\anaconda3\\envs\\dev\\Lib\\site-packages\\httpx\\_client.py:979\u001b[0m, in \u001b[0;36mClient._send_handling_redirects\u001b[1;34m(self, request, follow_redirects, history)\u001b[0m\n\u001b[0;32m    977\u001b[0m     hook(request)\n\u001b[1;32m--> 979\u001b[0m response \u001b[38;5;241m=\u001b[39m \u001b[38;5;28mself\u001b[39m\u001b[38;5;241m.\u001b[39m_send_single_request(request)\n\u001b[0;32m    980\u001b[0m \u001b[38;5;28;01mtry\u001b[39;00m:\n",
      "File \u001b[1;32mc:\\Users\\Nik\\anaconda3\\envs\\dev\\Lib\\site-packages\\httpx\\_client.py:1014\u001b[0m, in \u001b[0;36mClient._send_single_request\u001b[1;34m(self, request)\u001b[0m\n\u001b[0;32m   1013\u001b[0m \u001b[38;5;28;01mwith\u001b[39;00m request_context(request\u001b[38;5;241m=\u001b[39mrequest):\n\u001b[1;32m-> 1014\u001b[0m     response \u001b[38;5;241m=\u001b[39m transport\u001b[38;5;241m.\u001b[39mhandle_request(request)\n\u001b[0;32m   1016\u001b[0m \u001b[38;5;28;01massert\u001b[39;00m \u001b[38;5;28misinstance\u001b[39m(response\u001b[38;5;241m.\u001b[39mstream, SyncByteStream)\n",
      "File \u001b[1;32mc:\\Users\\Nik\\anaconda3\\envs\\dev\\Lib\\site-packages\\httpx\\_transports\\default.py:249\u001b[0m, in \u001b[0;36mHTTPTransport.handle_request\u001b[1;34m(self, request)\u001b[0m\n\u001b[0;32m    237\u001b[0m req \u001b[38;5;241m=\u001b[39m httpcore\u001b[38;5;241m.\u001b[39mRequest(\n\u001b[0;32m    238\u001b[0m     method\u001b[38;5;241m=\u001b[39mrequest\u001b[38;5;241m.\u001b[39mmethod,\n\u001b[0;32m    239\u001b[0m     url\u001b[38;5;241m=\u001b[39mhttpcore\u001b[38;5;241m.\u001b[39mURL(\n\u001b[1;32m   (...)\u001b[0m\n\u001b[0;32m    247\u001b[0m     extensions\u001b[38;5;241m=\u001b[39mrequest\u001b[38;5;241m.\u001b[39mextensions,\n\u001b[0;32m    248\u001b[0m )\n\u001b[1;32m--> 249\u001b[0m \u001b[38;5;28;01mwith\u001b[39;00m map_httpcore_exceptions():\n\u001b[0;32m    250\u001b[0m     resp \u001b[38;5;241m=\u001b[39m \u001b[38;5;28mself\u001b[39m\u001b[38;5;241m.\u001b[39m_pool\u001b[38;5;241m.\u001b[39mhandle_request(req)\n",
      "File \u001b[1;32mc:\\Users\\Nik\\anaconda3\\envs\\dev\\Lib\\contextlib.py:158\u001b[0m, in \u001b[0;36m_GeneratorContextManager.__exit__\u001b[1;34m(self, typ, value, traceback)\u001b[0m\n\u001b[0;32m    157\u001b[0m \u001b[38;5;28;01mtry\u001b[39;00m:\n\u001b[1;32m--> 158\u001b[0m     \u001b[38;5;28mself\u001b[39m\u001b[38;5;241m.\u001b[39mgen\u001b[38;5;241m.\u001b[39mthrow(value)\n\u001b[0;32m    159\u001b[0m \u001b[38;5;28;01mexcept\u001b[39;00m \u001b[38;5;167;01mStopIteration\u001b[39;00m \u001b[38;5;28;01mas\u001b[39;00m exc:\n\u001b[0;32m    160\u001b[0m     \u001b[38;5;66;03m# Suppress StopIteration *unless* it's the same exception that\u001b[39;00m\n\u001b[0;32m    161\u001b[0m     \u001b[38;5;66;03m# was passed to throw().  This prevents a StopIteration\u001b[39;00m\n\u001b[0;32m    162\u001b[0m     \u001b[38;5;66;03m# raised inside the \"with\" statement from being suppressed.\u001b[39;00m\n",
      "File \u001b[1;32mc:\\Users\\Nik\\anaconda3\\envs\\dev\\Lib\\site-packages\\httpx\\_transports\\default.py:118\u001b[0m, in \u001b[0;36mmap_httpcore_exceptions\u001b[1;34m()\u001b[0m\n\u001b[0;32m    117\u001b[0m message \u001b[38;5;241m=\u001b[39m \u001b[38;5;28mstr\u001b[39m(exc)\n\u001b[1;32m--> 118\u001b[0m \u001b[38;5;28;01mraise\u001b[39;00m mapped_exc(message) \u001b[38;5;28;01mfrom\u001b[39;00m \u001b[38;5;21;01mexc\u001b[39;00m\n",
      "\u001b[1;31mRemoteProtocolError\u001b[0m: Server disconnected without sending a response.",
      "\nThe above exception was the direct cause of the following exception:\n",
      "\u001b[1;31mAPIConnectionError\u001b[0m                        Traceback (most recent call last)",
      "Cell \u001b[1;32mIn[117], line 7\u001b[0m\n\u001b[0;32m      4\u001b[0m client \u001b[38;5;241m=\u001b[39m OpenAI()\n\u001b[0;32m      5\u001b[0m audio_file \u001b[38;5;241m=\u001b[39m \u001b[38;5;28mopen\u001b[39m(\u001b[38;5;124m\"\u001b[39m\u001b[38;5;124mDiscuss RCM _ CPQ Data Usecases-20250411_081350-Meeting Recording.mp3\u001b[39m\u001b[38;5;124m\"\u001b[39m, \u001b[38;5;124m'\u001b[39m\u001b[38;5;124mrb\u001b[39m\u001b[38;5;124m'\u001b[39m)\n\u001b[1;32m----> 7\u001b[0m transcribed_audio \u001b[38;5;241m=\u001b[39m client\u001b[38;5;241m.\u001b[39maudio\u001b[38;5;241m.\u001b[39mtranscriptions\u001b[38;5;241m.\u001b[39mcreate(\n\u001b[0;32m      8\u001b[0m     file\u001b[38;5;241m=\u001b[39maudio_file,\n\u001b[0;32m      9\u001b[0m     model\u001b[38;5;241m=\u001b[39m\u001b[38;5;124m'\u001b[39m\u001b[38;5;124mwhisper-1\u001b[39m\u001b[38;5;124m'\u001b[39m,\n\u001b[0;32m     10\u001b[0m     response_format\u001b[38;5;241m=\u001b[39m\u001b[38;5;124m'\u001b[39m\u001b[38;5;124mtext\u001b[39m\u001b[38;5;124m'\u001b[39m\n\u001b[0;32m     11\u001b[0m )\n\u001b[0;32m     12\u001b[0m transcribed_audio \u001b[38;5;241m=\u001b[39m \u001b[38;5;124m'\u001b[39m\u001b[38;5;124m\"\u001b[39m\u001b[38;5;124m'\u001b[39m \u001b[38;5;241m+\u001b[39m transcribed_audio \u001b[38;5;241m+\u001b[39m \u001b[38;5;124m'\u001b[39m\u001b[38;5;124m\"\u001b[39m\u001b[38;5;124m'\u001b[39m\n\u001b[0;32m     13\u001b[0m \u001b[38;5;28mprint\u001b[39m(transcribed_audio)\n",
      "File \u001b[1;32mc:\\Users\\Nik\\anaconda3\\envs\\dev\\Lib\\site-packages\\openai\\_utils\\_utils.py:279\u001b[0m, in \u001b[0;36mrequired_args.<locals>.inner.<locals>.wrapper\u001b[1;34m(*args, **kwargs)\u001b[0m\n\u001b[0;32m    277\u001b[0m             msg \u001b[38;5;241m=\u001b[39m \u001b[38;5;124mf\u001b[39m\u001b[38;5;124m\"\u001b[39m\u001b[38;5;124mMissing required argument: \u001b[39m\u001b[38;5;132;01m{\u001b[39;00mquote(missing[\u001b[38;5;241m0\u001b[39m])\u001b[38;5;132;01m}\u001b[39;00m\u001b[38;5;124m\"\u001b[39m\n\u001b[0;32m    278\u001b[0m     \u001b[38;5;28;01mraise\u001b[39;00m \u001b[38;5;167;01mTypeError\u001b[39;00m(msg)\n\u001b[1;32m--> 279\u001b[0m \u001b[38;5;28;01mreturn\u001b[39;00m func(\u001b[38;5;241m*\u001b[39margs, \u001b[38;5;241m*\u001b[39m\u001b[38;5;241m*\u001b[39mkwargs)\n",
      "File \u001b[1;32mc:\\Users\\Nik\\anaconda3\\envs\\dev\\Lib\\site-packages\\openai\\resources\\audio\\transcriptions.py:322\u001b[0m, in \u001b[0;36mTranscriptions.create\u001b[1;34m(self, file, model, include, language, prompt, response_format, stream, temperature, timestamp_granularities, extra_headers, extra_query, extra_body, timeout)\u001b[0m\n\u001b[0;32m    318\u001b[0m \u001b[38;5;66;03m# It should be noted that the actual Content-Type header that will be\u001b[39;00m\n\u001b[0;32m    319\u001b[0m \u001b[38;5;66;03m# sent to the server will contain a `boundary` parameter, e.g.\u001b[39;00m\n\u001b[0;32m    320\u001b[0m \u001b[38;5;66;03m# multipart/form-data; boundary=---abc--\u001b[39;00m\n\u001b[0;32m    321\u001b[0m extra_headers \u001b[38;5;241m=\u001b[39m {\u001b[38;5;124m\"\u001b[39m\u001b[38;5;124mContent-Type\u001b[39m\u001b[38;5;124m\"\u001b[39m: \u001b[38;5;124m\"\u001b[39m\u001b[38;5;124mmultipart/form-data\u001b[39m\u001b[38;5;124m\"\u001b[39m, \u001b[38;5;241m*\u001b[39m\u001b[38;5;241m*\u001b[39m(extra_headers \u001b[38;5;129;01mor\u001b[39;00m {})}\n\u001b[1;32m--> 322\u001b[0m \u001b[38;5;28;01mreturn\u001b[39;00m \u001b[38;5;28mself\u001b[39m\u001b[38;5;241m.\u001b[39m_post(  \u001b[38;5;66;03m# type: ignore[return-value]\u001b[39;00m\n\u001b[0;32m    323\u001b[0m     \u001b[38;5;124m\"\u001b[39m\u001b[38;5;124m/audio/transcriptions\u001b[39m\u001b[38;5;124m\"\u001b[39m,\n\u001b[0;32m    324\u001b[0m     body\u001b[38;5;241m=\u001b[39mmaybe_transform(\n\u001b[0;32m    325\u001b[0m         body,\n\u001b[0;32m    326\u001b[0m         transcription_create_params\u001b[38;5;241m.\u001b[39mTranscriptionCreateParamsStreaming\n\u001b[0;32m    327\u001b[0m         \u001b[38;5;28;01mif\u001b[39;00m stream\n\u001b[0;32m    328\u001b[0m         \u001b[38;5;28;01melse\u001b[39;00m transcription_create_params\u001b[38;5;241m.\u001b[39mTranscriptionCreateParamsNonStreaming,\n\u001b[0;32m    329\u001b[0m     ),\n\u001b[0;32m    330\u001b[0m     files\u001b[38;5;241m=\u001b[39mfiles,\n\u001b[0;32m    331\u001b[0m     options\u001b[38;5;241m=\u001b[39mmake_request_options(\n\u001b[0;32m    332\u001b[0m         extra_headers\u001b[38;5;241m=\u001b[39mextra_headers, extra_query\u001b[38;5;241m=\u001b[39mextra_query, extra_body\u001b[38;5;241m=\u001b[39mextra_body, timeout\u001b[38;5;241m=\u001b[39mtimeout\n\u001b[0;32m    333\u001b[0m     ),\n\u001b[0;32m    334\u001b[0m     cast_to\u001b[38;5;241m=\u001b[39m_get_response_format_type(response_format),\n\u001b[0;32m    335\u001b[0m     stream\u001b[38;5;241m=\u001b[39mstream \u001b[38;5;129;01mor\u001b[39;00m \u001b[38;5;28;01mFalse\u001b[39;00m,\n\u001b[0;32m    336\u001b[0m     stream_cls\u001b[38;5;241m=\u001b[39mStream[TranscriptionStreamEvent],\n\u001b[0;32m    337\u001b[0m )\n",
      "File \u001b[1;32mc:\\Users\\Nik\\anaconda3\\envs\\dev\\Lib\\site-packages\\openai\\_base_client.py:1276\u001b[0m, in \u001b[0;36mSyncAPIClient.post\u001b[1;34m(self, path, cast_to, body, options, files, stream, stream_cls)\u001b[0m\n\u001b[0;32m   1262\u001b[0m \u001b[38;5;28;01mdef\u001b[39;00m \u001b[38;5;21mpost\u001b[39m(\n\u001b[0;32m   1263\u001b[0m     \u001b[38;5;28mself\u001b[39m,\n\u001b[0;32m   1264\u001b[0m     path: \u001b[38;5;28mstr\u001b[39m,\n\u001b[1;32m   (...)\u001b[0m\n\u001b[0;32m   1271\u001b[0m     stream_cls: \u001b[38;5;28mtype\u001b[39m[_StreamT] \u001b[38;5;241m|\u001b[39m \u001b[38;5;28;01mNone\u001b[39;00m \u001b[38;5;241m=\u001b[39m \u001b[38;5;28;01mNone\u001b[39;00m,\n\u001b[0;32m   1272\u001b[0m ) \u001b[38;5;241m-\u001b[39m\u001b[38;5;241m>\u001b[39m ResponseT \u001b[38;5;241m|\u001b[39m _StreamT:\n\u001b[0;32m   1273\u001b[0m     opts \u001b[38;5;241m=\u001b[39m FinalRequestOptions\u001b[38;5;241m.\u001b[39mconstruct(\n\u001b[0;32m   1274\u001b[0m         method\u001b[38;5;241m=\u001b[39m\u001b[38;5;124m\"\u001b[39m\u001b[38;5;124mpost\u001b[39m\u001b[38;5;124m\"\u001b[39m, url\u001b[38;5;241m=\u001b[39mpath, json_data\u001b[38;5;241m=\u001b[39mbody, files\u001b[38;5;241m=\u001b[39mto_httpx_files(files), \u001b[38;5;241m*\u001b[39m\u001b[38;5;241m*\u001b[39moptions\n\u001b[0;32m   1275\u001b[0m     )\n\u001b[1;32m-> 1276\u001b[0m     \u001b[38;5;28;01mreturn\u001b[39;00m cast(ResponseT, \u001b[38;5;28mself\u001b[39m\u001b[38;5;241m.\u001b[39mrequest(cast_to, opts, stream\u001b[38;5;241m=\u001b[39mstream, stream_cls\u001b[38;5;241m=\u001b[39mstream_cls))\n",
      "File \u001b[1;32mc:\\Users\\Nik\\anaconda3\\envs\\dev\\Lib\\site-packages\\openai\\_base_client.py:949\u001b[0m, in \u001b[0;36mSyncAPIClient.request\u001b[1;34m(self, cast_to, options, remaining_retries, stream, stream_cls)\u001b[0m\n\u001b[0;32m    946\u001b[0m \u001b[38;5;28;01melse\u001b[39;00m:\n\u001b[0;32m    947\u001b[0m     retries_taken \u001b[38;5;241m=\u001b[39m \u001b[38;5;241m0\u001b[39m\n\u001b[1;32m--> 949\u001b[0m \u001b[38;5;28;01mreturn\u001b[39;00m \u001b[38;5;28mself\u001b[39m\u001b[38;5;241m.\u001b[39m_request(\n\u001b[0;32m    950\u001b[0m     cast_to\u001b[38;5;241m=\u001b[39mcast_to,\n\u001b[0;32m    951\u001b[0m     options\u001b[38;5;241m=\u001b[39moptions,\n\u001b[0;32m    952\u001b[0m     stream\u001b[38;5;241m=\u001b[39mstream,\n\u001b[0;32m    953\u001b[0m     stream_cls\u001b[38;5;241m=\u001b[39mstream_cls,\n\u001b[0;32m    954\u001b[0m     retries_taken\u001b[38;5;241m=\u001b[39mretries_taken,\n\u001b[0;32m    955\u001b[0m )\n",
      "File \u001b[1;32mc:\\Users\\Nik\\anaconda3\\envs\\dev\\Lib\\site-packages\\openai\\_base_client.py:1013\u001b[0m, in \u001b[0;36mSyncAPIClient._request\u001b[1;34m(self, cast_to, options, retries_taken, stream, stream_cls)\u001b[0m\n\u001b[0;32m   1010\u001b[0m log\u001b[38;5;241m.\u001b[39mdebug(\u001b[38;5;124m\"\u001b[39m\u001b[38;5;124mEncountered Exception\u001b[39m\u001b[38;5;124m\"\u001b[39m, exc_info\u001b[38;5;241m=\u001b[39m\u001b[38;5;28;01mTrue\u001b[39;00m)\n\u001b[0;32m   1012\u001b[0m \u001b[38;5;28;01mif\u001b[39;00m remaining_retries \u001b[38;5;241m>\u001b[39m \u001b[38;5;241m0\u001b[39m:\n\u001b[1;32m-> 1013\u001b[0m     \u001b[38;5;28;01mreturn\u001b[39;00m \u001b[38;5;28mself\u001b[39m\u001b[38;5;241m.\u001b[39m_retry_request(\n\u001b[0;32m   1014\u001b[0m         input_options,\n\u001b[0;32m   1015\u001b[0m         cast_to,\n\u001b[0;32m   1016\u001b[0m         retries_taken\u001b[38;5;241m=\u001b[39mretries_taken,\n\u001b[0;32m   1017\u001b[0m         stream\u001b[38;5;241m=\u001b[39mstream,\n\u001b[0;32m   1018\u001b[0m         stream_cls\u001b[38;5;241m=\u001b[39mstream_cls,\n\u001b[0;32m   1019\u001b[0m         response_headers\u001b[38;5;241m=\u001b[39m\u001b[38;5;28;01mNone\u001b[39;00m,\n\u001b[0;32m   1020\u001b[0m     )\n\u001b[0;32m   1022\u001b[0m log\u001b[38;5;241m.\u001b[39mdebug(\u001b[38;5;124m\"\u001b[39m\u001b[38;5;124mRaising connection error\u001b[39m\u001b[38;5;124m\"\u001b[39m)\n\u001b[0;32m   1023\u001b[0m \u001b[38;5;28;01mraise\u001b[39;00m APIConnectionError(request\u001b[38;5;241m=\u001b[39mrequest) \u001b[38;5;28;01mfrom\u001b[39;00m \u001b[38;5;21;01merr\u001b[39;00m\n",
      "File \u001b[1;32mc:\\Users\\Nik\\anaconda3\\envs\\dev\\Lib\\site-packages\\openai\\_base_client.py:1091\u001b[0m, in \u001b[0;36mSyncAPIClient._retry_request\u001b[1;34m(self, options, cast_to, retries_taken, response_headers, stream, stream_cls)\u001b[0m\n\u001b[0;32m   1087\u001b[0m \u001b[38;5;66;03m# In a synchronous context we are blocking the entire thread. Up to the library user to run the client in a\u001b[39;00m\n\u001b[0;32m   1088\u001b[0m \u001b[38;5;66;03m# different thread if necessary.\u001b[39;00m\n\u001b[0;32m   1089\u001b[0m time\u001b[38;5;241m.\u001b[39msleep(timeout)\n\u001b[1;32m-> 1091\u001b[0m \u001b[38;5;28;01mreturn\u001b[39;00m \u001b[38;5;28mself\u001b[39m\u001b[38;5;241m.\u001b[39m_request(\n\u001b[0;32m   1092\u001b[0m     options\u001b[38;5;241m=\u001b[39moptions,\n\u001b[0;32m   1093\u001b[0m     cast_to\u001b[38;5;241m=\u001b[39mcast_to,\n\u001b[0;32m   1094\u001b[0m     retries_taken\u001b[38;5;241m=\u001b[39mretries_taken \u001b[38;5;241m+\u001b[39m \u001b[38;5;241m1\u001b[39m,\n\u001b[0;32m   1095\u001b[0m     stream\u001b[38;5;241m=\u001b[39mstream,\n\u001b[0;32m   1096\u001b[0m     stream_cls\u001b[38;5;241m=\u001b[39mstream_cls,\n\u001b[0;32m   1097\u001b[0m )\n",
      "File \u001b[1;32mc:\\Users\\Nik\\anaconda3\\envs\\dev\\Lib\\site-packages\\openai\\_base_client.py:1013\u001b[0m, in \u001b[0;36mSyncAPIClient._request\u001b[1;34m(self, cast_to, options, retries_taken, stream, stream_cls)\u001b[0m\n\u001b[0;32m   1010\u001b[0m log\u001b[38;5;241m.\u001b[39mdebug(\u001b[38;5;124m\"\u001b[39m\u001b[38;5;124mEncountered Exception\u001b[39m\u001b[38;5;124m\"\u001b[39m, exc_info\u001b[38;5;241m=\u001b[39m\u001b[38;5;28;01mTrue\u001b[39;00m)\n\u001b[0;32m   1012\u001b[0m \u001b[38;5;28;01mif\u001b[39;00m remaining_retries \u001b[38;5;241m>\u001b[39m \u001b[38;5;241m0\u001b[39m:\n\u001b[1;32m-> 1013\u001b[0m     \u001b[38;5;28;01mreturn\u001b[39;00m \u001b[38;5;28mself\u001b[39m\u001b[38;5;241m.\u001b[39m_retry_request(\n\u001b[0;32m   1014\u001b[0m         input_options,\n\u001b[0;32m   1015\u001b[0m         cast_to,\n\u001b[0;32m   1016\u001b[0m         retries_taken\u001b[38;5;241m=\u001b[39mretries_taken,\n\u001b[0;32m   1017\u001b[0m         stream\u001b[38;5;241m=\u001b[39mstream,\n\u001b[0;32m   1018\u001b[0m         stream_cls\u001b[38;5;241m=\u001b[39mstream_cls,\n\u001b[0;32m   1019\u001b[0m         response_headers\u001b[38;5;241m=\u001b[39m\u001b[38;5;28;01mNone\u001b[39;00m,\n\u001b[0;32m   1020\u001b[0m     )\n\u001b[0;32m   1022\u001b[0m log\u001b[38;5;241m.\u001b[39mdebug(\u001b[38;5;124m\"\u001b[39m\u001b[38;5;124mRaising connection error\u001b[39m\u001b[38;5;124m\"\u001b[39m)\n\u001b[0;32m   1023\u001b[0m \u001b[38;5;28;01mraise\u001b[39;00m APIConnectionError(request\u001b[38;5;241m=\u001b[39mrequest) \u001b[38;5;28;01mfrom\u001b[39;00m \u001b[38;5;21;01merr\u001b[39;00m\n",
      "File \u001b[1;32mc:\\Users\\Nik\\anaconda3\\envs\\dev\\Lib\\site-packages\\openai\\_base_client.py:1091\u001b[0m, in \u001b[0;36mSyncAPIClient._retry_request\u001b[1;34m(self, options, cast_to, retries_taken, response_headers, stream, stream_cls)\u001b[0m\n\u001b[0;32m   1087\u001b[0m \u001b[38;5;66;03m# In a synchronous context we are blocking the entire thread. Up to the library user to run the client in a\u001b[39;00m\n\u001b[0;32m   1088\u001b[0m \u001b[38;5;66;03m# different thread if necessary.\u001b[39;00m\n\u001b[0;32m   1089\u001b[0m time\u001b[38;5;241m.\u001b[39msleep(timeout)\n\u001b[1;32m-> 1091\u001b[0m \u001b[38;5;28;01mreturn\u001b[39;00m \u001b[38;5;28mself\u001b[39m\u001b[38;5;241m.\u001b[39m_request(\n\u001b[0;32m   1092\u001b[0m     options\u001b[38;5;241m=\u001b[39moptions,\n\u001b[0;32m   1093\u001b[0m     cast_to\u001b[38;5;241m=\u001b[39mcast_to,\n\u001b[0;32m   1094\u001b[0m     retries_taken\u001b[38;5;241m=\u001b[39mretries_taken \u001b[38;5;241m+\u001b[39m \u001b[38;5;241m1\u001b[39m,\n\u001b[0;32m   1095\u001b[0m     stream\u001b[38;5;241m=\u001b[39mstream,\n\u001b[0;32m   1096\u001b[0m     stream_cls\u001b[38;5;241m=\u001b[39mstream_cls,\n\u001b[0;32m   1097\u001b[0m )\n",
      "File \u001b[1;32mc:\\Users\\Nik\\anaconda3\\envs\\dev\\Lib\\site-packages\\openai\\_base_client.py:1023\u001b[0m, in \u001b[0;36mSyncAPIClient._request\u001b[1;34m(self, cast_to, options, retries_taken, stream, stream_cls)\u001b[0m\n\u001b[0;32m   1013\u001b[0m         \u001b[38;5;28;01mreturn\u001b[39;00m \u001b[38;5;28mself\u001b[39m\u001b[38;5;241m.\u001b[39m_retry_request(\n\u001b[0;32m   1014\u001b[0m             input_options,\n\u001b[0;32m   1015\u001b[0m             cast_to,\n\u001b[1;32m   (...)\u001b[0m\n\u001b[0;32m   1019\u001b[0m             response_headers\u001b[38;5;241m=\u001b[39m\u001b[38;5;28;01mNone\u001b[39;00m,\n\u001b[0;32m   1020\u001b[0m         )\n\u001b[0;32m   1022\u001b[0m     log\u001b[38;5;241m.\u001b[39mdebug(\u001b[38;5;124m\"\u001b[39m\u001b[38;5;124mRaising connection error\u001b[39m\u001b[38;5;124m\"\u001b[39m)\n\u001b[1;32m-> 1023\u001b[0m     \u001b[38;5;28;01mraise\u001b[39;00m APIConnectionError(request\u001b[38;5;241m=\u001b[39mrequest) \u001b[38;5;28;01mfrom\u001b[39;00m \u001b[38;5;21;01merr\u001b[39;00m\n\u001b[0;32m   1025\u001b[0m log\u001b[38;5;241m.\u001b[39mdebug(\n\u001b[0;32m   1026\u001b[0m     \u001b[38;5;124m'\u001b[39m\u001b[38;5;124mHTTP Response: \u001b[39m\u001b[38;5;132;01m%s\u001b[39;00m\u001b[38;5;124m \u001b[39m\u001b[38;5;132;01m%s\u001b[39;00m\u001b[38;5;124m \u001b[39m\u001b[38;5;124m\"\u001b[39m\u001b[38;5;132;01m%i\u001b[39;00m\u001b[38;5;124m \u001b[39m\u001b[38;5;132;01m%s\u001b[39;00m\u001b[38;5;124m\"\u001b[39m\u001b[38;5;124m \u001b[39m\u001b[38;5;132;01m%s\u001b[39;00m\u001b[38;5;124m'\u001b[39m,\n\u001b[0;32m   1027\u001b[0m     request\u001b[38;5;241m.\u001b[39mmethod,\n\u001b[1;32m   (...)\u001b[0m\n\u001b[0;32m   1031\u001b[0m     response\u001b[38;5;241m.\u001b[39mheaders,\n\u001b[0;32m   1032\u001b[0m )\n\u001b[0;32m   1033\u001b[0m log\u001b[38;5;241m.\u001b[39mdebug(\u001b[38;5;124m\"\u001b[39m\u001b[38;5;124mrequest_id: \u001b[39m\u001b[38;5;132;01m%s\u001b[39;00m\u001b[38;5;124m\"\u001b[39m, response\u001b[38;5;241m.\u001b[39mheaders\u001b[38;5;241m.\u001b[39mget(\u001b[38;5;124m\"\u001b[39m\u001b[38;5;124mx-request-id\u001b[39m\u001b[38;5;124m\"\u001b[39m))\n",
      "\u001b[1;31mAPIConnectionError\u001b[0m: Connection error."
     ]
    }
   ],
   "source": [
    "#audio transcription bot\n",
    "from openai import OpenAI\n",
    "\n",
    "client = OpenAI()\n",
    "audio_file = open(\"Discuss RCM _ CPQ Data Usecases-20250411_081350-Meeting Recording.mp3\", 'rb')\n",
    "\n",
    "transcribed_audio = client.audio.transcriptions.create(\n",
    "    file=audio_file,\n",
    "    model='whisper-1',\n",
    "    response_format='text'\n",
    ")\n",
    "transcribed_audio = '\"' + transcribed_audio + '\"'\n",
    "print(transcribed_audio)"
   ]
  },
  {
   "cell_type": "code",
   "execution_count": 114,
   "id": "961b37ad",
   "metadata": {},
   "outputs": [
    {
     "data": {
      "text/plain": [
       "17053"
      ]
     },
     "execution_count": 114,
     "metadata": {},
     "output_type": "execute_result"
    }
   ],
   "source": [
    "len(transcribed_audio)"
   ]
  },
  {
   "cell_type": "code",
   "execution_count": 118,
   "id": "9c553c5c",
   "metadata": {},
   "outputs": [],
   "source": [
    "transcribed_audio = '''Chris Kennedy-Sloane: RCM and CPQ very firmly and I can accept that VPP has a management element of it, a price management element and potentially a customer price management element of it.\n",
    "Chris Kennedy-Sloane: But I think that deal management is so poor that trying to involve it in any of these contexts doesn't make sense, right?\n",
    "Israel Rodrigo: Well.\n",
    "Chris Kennedy-Sloane: I'm almost like, can we just throw that away and stop selling it, please? Because it doesn't work.\n",
    "Israel Rodrigo: Yeah. No, I know.\n",
    "Israel Rodrigo: For me it was more think about buy side rebates and chargeback process between suppliers and distributors that have nothing to do with end customer or deal management.\n",
    "Chris Kennedy-Sloane: Yes.\n",
    "Israel Rodrigo: And still we need to be able to have the ability to capture, you know how those incentives or rebate programs are, you know, stored, handled, managed, etc.\n",
    "Chris Kennedy-Sloane: I mean certainly for net, net and net net views of things like customer pricing.\n",
    "Chris Kennedy-Sloane: I do agree, Israel, and that's been a consistent request, you know, and I don't want to solutionize too much because I appreciate we're at the top of the context conversation.\n",
    "Chris Kennedy-Sloane: But I think from an RCM perspective, the critical point is that we need to have an output that.\n",
    "Chris Kennedy-Sloane: Says. What is the value per SKU per customer that?\n",
    "Chris Kennedy-Sloane: 'S either being given to us or being given away, so a true net net can be calculated.\n",
    "Chris Kennedy-Sloane: That's like the number one requirement.\n",
    "Chris Kennedy-Sloane: There's all these other ones on top of it.\n",
    "Chris Kennedy-Sloane: But in the end, what everyone really wants to see is a true net net.\n",
    "Chris Kennedy-Sloane: Sometimes they call it a net net net of all of the promotional activity that's going on around them. That's including rebates, that's including promotional activity.\n",
    "Chris Kennedy-Sloane: So when they quote to a customer in a CPQ, they have a full waterfall, right?\n",
    "Chris Kennedy-Sloane: I think that's why we've been directed here.\n",
    "Chris Kennedy-Sloane: Anyone anyone disagree with that?\n",
    "Israel Rodrigo: Yeah.\n",
    "Chris Kennedy-Sloane: Is that fair?\n",
    "Israel Rodrigo: Well, yeah, I I don't think it's a priority.\n",
    "David Anderson: I mean, it's the priority for sure, yeah.\n",
    "Israel Rodrigo: That's fine.\n",
    "Israel Rodrigo: I'm just saying that again.\n",
    "Israel Rodrigo: We want to have a comprehensive view of use cases to be covered.\n",
    "Israel Rodrigo: Let's not dismiss the importance and relevance of buy side dynamics between cost management. Let's say on the distribution side, right, we have customer like ABC Supply. If eventually any of the pharma distributors want to consider like.\n",
    "Israel Rodrigo: A RCM product.\n",
    "Israel Rodrigo: And move away from EPP.\n",
    "Israel Rodrigo: Right. Or at integration between RCM and MPP?\n",
    "Israel Rodrigo: This could be also relevant.\n",
    "Chris Kennedy-Sloane: That's a fair challenge. Israel. That's fair.\n",
    "Israel Rodrigo: Zen.\n",
    "Zain Master: OK, for the stupid person in the room.\n",
    "Zain Master: Help me understand some of the terminology that's being thrown around because.\n",
    "Zain Master: One I understand CPQ is responsible for discounting of the price from what the list price is.\n",
    "Zain Master: That is different.\n",
    "Chris Kennedy-Sloane: Not necessarily.\n",
    "Chris Kennedy-Sloane: No, that's too much of A simplification saying I'm afraid. Sorry.\n",
    "Zain Master: OK, no, no, go ahead. Correct me because I thought we in the in\n",
    "Israel Rodrigo: Mm hmm.\n",
    "Zain Master: the waterfall process are responsible for discounting a list price.\n",
    "Zain Master: In some cases, we may or add to the list price as well and sell over cost like a car dealership as an example.\n",
    "Zain Master: But rebates has incentives, right?\n",
    "Zain Master: That's the right language in lingo. Is. Is that what it's called or?\n",
    "David Anderson: What depends sometimes is just it's called a pro promotional program.\n",
    "David Anderson: You know, customer programs can be like product specific or customer specific.\n",
    "David Anderson: So you know, there's a little especially at Dell.\n",
    "David Anderson: We see, you know, kind of even moving upstream into the price point process these discussions. But I think the point is you need to think Zain, I will say Zain, Zain.\n",
    "David Anderson: Holistically about.\n",
    "David Anderson: The you know the customer.\n",
    "David Anderson: Gross to net.\n",
    "David Anderson: So there definitely is a customer specific list price starting point,\n",
    "Zain Master: OK.'''"
   ]
  },
  {
   "cell_type": "code",
   "execution_count": 106,
   "id": "07437de6",
   "metadata": {},
   "outputs": [],
   "source": [
    "def trim_string(text, max_length, placeholder=\"...\"):\n",
    "  \"\"\"\n",
    "    Trims a string to a maximum length, adding a placeholder if necessary.\n",
    "\n",
    "    Args:\n",
    "      text: The string to trim.\n",
    "      max_length: The maximum length of the string.\n",
    "      placeholder: The string to add if the text is trimmed.\n",
    "\n",
    "    Returns:\n",
    "      The trimmed string.\n",
    "  \"\"\"\n",
    "  if len(text) <= max_length:\n",
    "    return text\n",
    "  else:\n",
    "    return text[:max_length - len(placeholder)] + placeholder"
   ]
  },
  {
   "cell_type": "code",
   "execution_count": 111,
   "id": "138a15f0",
   "metadata": {},
   "outputs": [
    {
     "data": {
      "text/plain": [
       "''"
      ]
     },
     "execution_count": 111,
     "metadata": {},
     "output_type": "execute_result"
    }
   ],
   "source": [
    "transcribed_audio_trimmed = ''\n",
    "if len(transcribed_audio) > 40000:\n",
    "    transcribed_audio_trimmed = trim_string(transcribed_audio, 37000)\n",
    "\n",
    "transcribed_audio_trimmed"
   ]
  },
  {
   "cell_type": "code",
   "execution_count": null,
   "id": "c8ba7be2",
   "metadata": {},
   "outputs": [
    {
     "data": {
      "text/plain": [
       "40158"
      ]
     },
     "execution_count": 105,
     "metadata": {},
     "output_type": "execute_result"
    }
   ],
   "source": [
    "len(transcribed_audio)"
   ]
  },
  {
   "cell_type": "markdown",
   "id": "eab6c59f",
   "metadata": {},
   "source": [
    "# the following models will take in either the transcribed audio, or a transcribed text document!"
   ]
  },
  {
   "cell_type": "code",
   "execution_count": 119,
   "id": "eb3ee435",
   "metadata": {},
   "outputs": [
    {
     "name": "stdout",
     "output_type": "stream",
     "text": [
      "The conversation involves Chris Kennedy-Sloane, Israel Rodrigo, and others discussing various aspects of business management, particularly focusing on pricing, rebates, and customer management. Chris Kennedy-Sloane initially acknowledges the management elements involved in VPP, including price management and customer price management. However, Chris expresses dissatisfaction with the current state of deal management, suggesting it is ineffective and proposing to discard it altogether.\n",
      "\n",
      "Israel Rodrigo introduces the topic of buy-side rebates and chargeback processes between suppliers and distributors, which he notes do not involve end customers or deal management. This leads to a broader discussion about the need for a comprehensive view of incentives and rebate programs, and how they are managed and stored.\n",
      "\n",
      "Chris Kennedy-Sloane emphasizes the importance of understanding the net pricing, including all promotional activities, to calculate a true \"net net\" price. The discussion highlights the need for a system that provides clear outputs on the value per SKU per customer, considering all discounts and rebates.\n",
      "\n",
      "The conversation also touches on the complexities of pricing strategies, including the waterfall process in CPQ (Configure, Price, Quote) systems, where pricing adjustments are made based on various factors. Zain Master seeks clarification on some of the terminology used, particularly around CPQ responsibilities and the impact of rebates and incentives.\n",
      "\n",
      "David Anderson contributes by explaining promotional programs and customer-specific pricing strategies, emphasizing the need to consider the gross-to-net journey in pricing discussions.\n",
      "\n",
      "Overall, the dialogue reflects a detailed exploration of pricing complexities in business, the challenges of integrating various management systems, and the importance of transparency and accuracy in pricing and rebate management to meet customer and business needs effectively.\n"
     ]
    }
   ],
   "source": [
    "#summary bot\n",
    "\n",
    "llm = ChatOpenAI(openai_api_key=OPENAI_API_KEY, model_name='gpt-4-turbo', temperature=0)\n",
    "\n",
    "\n",
    "prompt = ChatPromptTemplate.from_messages(\n",
    "    [(\"system\", \"Write a detailed summary of the following:\\\\n\\\\n{text}\")]\n",
    ")\n",
    "\n",
    "# Create Document objects from the filtered transcripts\n",
    "docs = [Document(page_content=text) for text in transcribed_audio]\n",
    "\n",
    "# Instantiate chain\n",
    "chain = load_summarize_chain(llm, chain_type=\"stuff\", prompt=prompt)\n",
    "\n",
    "# Invoke chain\n",
    "try:\n",
    "    result = chain.invoke({\"input_documents\": docs})\n",
    "    print(result['output_text'])\n",
    "except Exception as e:\n",
    "    print(f\"An error occurred: {e}\")"
   ]
  },
  {
   "cell_type": "code",
   "execution_count": 120,
   "id": "093dc255",
   "metadata": {},
   "outputs": [
    {
     "name": "stdout",
     "output_type": "stream",
     "text": [
      "- Stop selling deal management\n",
      "- Let's not dismiss the importance and relevance of buy side dynamics\n",
      "- We want to have a comprehensive view of use cases to be covered\n",
      "- Help me understand some of the terminology that's being thrown around\n",
      "- Correct me because I thought we in the waterfall process are responsible for discounting a list price\n",
      "- Rebates has incentives, right?\n"
     ]
    }
   ],
   "source": [
    "# Call to action bot\n",
    "prompt2 = \"\"\"You are an intelligent assistant tasked with extracting all unique calls to action from the following text. Return each call to action seperately with a newline character. For example:\n",
    "\n",
    "-Call to Action 1\n",
    "-Call to Action 2\n",
    "-Call to Action 3\n",
    "...\n",
    "\n",
    "Here is the text:\n",
    "\"\"\"\n",
    "\n",
    "# Instantiate chain\n",
    "chain3 = client.chat.completions.create(\n",
    "    model=OPENAI_MODEL,\n",
    "    messages=[{'role': 'system', 'content': prompt2},\n",
    "              {'role': 'user', 'content': transcribed_audio}]\n",
    ")\n",
    "\n",
    "calls = chain3.choices[0].message.content\n",
    "print(calls)"
   ]
  },
  {
   "cell_type": "code",
   "execution_count": 13,
   "id": "e54b4cfb",
   "metadata": {},
   "outputs": [
    {
     "data": {
      "text/plain": [
       "'# call to action bot\\n\\nllm2 = ChatOpenAI(openai_api_key=OPENAI_API_KEY, model_name=OPENAI_MODEL, temperature=0.05)\\n\\n\\nprompt2 = ChatPromptTemplate.from_messages(\\n    [(\"system\", \"Return calls to action in bullet point form, of the following:\\\\n\\\\n{text}\")]\\n)\\n\\n# Create Document objects from the filtered transcripts\\ndocs = [Document(page_content=text) for text in transcribed_audio]\\n\\n# Instantiate chain\\nchain2 = load_summarize_chain(llm, chain_type=\"stuff\", prompt=prompt2)\\n\\n# Invoke chain\\ntry:\\n    result2 = chain2.invoke({\"input_documents\": docs})\\n    print(result2[\\'output_text\\'])\\nexcept Exception as e:\\n    print(f\"An error occurred: {e}\")'"
      ]
     },
     "execution_count": 13,
     "metadata": {},
     "output_type": "execute_result"
    }
   ],
   "source": [
    "'''# call to action bot\n",
    "\n",
    "llm2 = ChatOpenAI(openai_api_key=OPENAI_API_KEY, model_name=OPENAI_MODEL, temperature=0.05)\n",
    "\n",
    "\n",
    "prompt2 = ChatPromptTemplate.from_messages(\n",
    "    [(\"system\", \"Return calls to action in bullet point form, of the following:\\\\n\\\\n{text}\")]\n",
    ")\n",
    "\n",
    "# Create Document objects from the filtered transcripts\n",
    "docs = [Document(page_content=text) for text in transcribed_audio]\n",
    "\n",
    "# Instantiate chain\n",
    "chain2 = load_summarize_chain(llm, chain_type=\"stuff\", prompt=prompt2)\n",
    "\n",
    "# Invoke chain\n",
    "try:\n",
    "    result2 = chain2.invoke({\"input_documents\": docs})\n",
    "    print(result2['output_text'])\n",
    "except Exception as e:\n",
    "    print(f\"An error occurred: {e}\")'''"
   ]
  },
  {
   "cell_type": "code",
   "execution_count": 121,
   "id": "40786b72",
   "metadata": {},
   "outputs": [
    {
     "name": "stdout",
     "output_type": "stream",
     "text": [
      "Summary:\n",
      "\n",
      "The conversation involves Chris Kennedy-Sloane, Israel Rodrigo, and others discussing various aspects of business management, particularly focusing on pricing, rebates, and customer management. Chris Kennedy-Sloane initially acknowledges the management elements involved in VPP, including price management and customer price management. However, Chris expresses dissatisfaction with the current state of deal management, suggesting it is ineffective and proposing to discard it altogether.\n",
      "\n",
      "Israel Rodrigo introduces the topic of buy-side rebates and chargeback processes between suppliers and distributors, which he notes do not involve end customers or deal management. This leads to a broader discussion about the need for a comprehensive view of incentives and rebate programs, and how they are managed and stored.\n",
      "\n",
      "Chris Kennedy-Sloane emphasizes the importance of understanding the net pricing, including all promotional activities, to calculate a true \"net net\" price. The discussion highlights the need for a system that provides clear outputs on the value per SKU per customer, considering all discounts and rebates.\n",
      "\n",
      "The conversation also touches on the complexities of pricing strategies, including the waterfall process in CPQ (Configure, Price, Quote) systems, where pricing adjustments are made based on various factors. Zain Master seeks clarification on some of the terminology used, particularly around CPQ responsibilities and the impact of rebates and incentives.\n",
      "\n",
      "David Anderson contributes by explaining promotional programs and customer-specific pricing strategies, emphasizing the need to consider the gross-to-net journey in pricing discussions.\n",
      "\n",
      "Overall, the dialogue reflects a detailed exploration of pricing complexities in business, the challenges of integrating various management systems, and the importance of transparency and accuracy in pricing and rebate management to meet customer and business needs effectively.\n",
      "\n",
      "Calls to Action:\n",
      "\n",
      "- Stop selling deal management\n",
      "\n",
      "- Let's not dismiss the importance and relevance of buy side dynamics\n",
      "\n",
      "- We want to have a comprehensive view of use cases to be covered\n",
      "\n",
      "- Help me understand some of the terminology that's being thrown around\n",
      "\n",
      "- Correct me because I thought we in the waterfall process are responsible for discounting a list price\n",
      "\n",
      "- Rebates has incentives, right?\n"
     ]
    }
   ],
   "source": [
    "meeting_results = {'summary': result['output_text'], 'action calls': calls}\n",
    "\n",
    "meeting_results['summary'] = 'Summary:\\n\\n' + meeting_results['summary'] + '\\n'\n",
    "meeting_results['action calls'] = ('Calls to Action:\\n' + meeting_results['action calls']).replace('\\n', '\\n\\n')\n",
    "\n",
    "print(meeting_results['summary'])\n",
    "print(meeting_results['action calls'])"
   ]
  },
  {
   "cell_type": "code",
   "execution_count": null,
   "id": "6e6d690a",
   "metadata": {},
   "outputs": [
    {
     "name": "stdout",
     "output_type": "stream",
     "text": [
      "Summary:\n",
      "\n",
      "The meeting was held to review and approve the 2017 Federal Legislative Agenda recommended by the Federal Legislation Committee to the City Council. The committee focused on protecting existing revenues from the Federal Government, supporting workforce programs, mental health services, violence prevention programs, and homeless prevention. They voted to adopt staff-recommended changes, including updates due to new executive orders. The agenda also includes advocating for the city, securing funding for major projects, and protecting residents. The meeting ended with acknowledgments and thanks from council members, and the motion was passed.\n",
      "\n",
      "Calls to Action\n",
      "\n",
      "- Approve the 2017 Federal Legislative Agenda as recommended by the Federal Legislation Committee\n",
      "\n",
      "- Support existing revenues from the Federal Government, such as the Housing Choice Voucher Program and other HUD programs\n",
      "\n",
      "- Work on workforce programs and support mental health services\n",
      "\n",
      "- Advocate for federal legislation to assist in implementing violence prevention programs and homeless prevention\n",
      "\n",
      "- Update existing statements in the agenda to support the expansion of dockets\n",
      "\n",
      "- Secure funding for major capital projects for Long Beach\n",
      "\n",
      "- Advocate for the city on behalf of Long Beach residents\n",
      "\n",
      "Context Result\n",
      "\n",
      "In the context provided, the mention of supporting workforce programs likely refers to advocating for federal legislation or funding that would benefit workforce development initiatives in Long Beach. This could include programs aimed at job training, skills development, employment opportunities, and other efforts to strengthen the local workforce. The committee may be looking to ensure that Long Beach residents have access to resources and support to enhance their employability and economic prospects.\n"
     ]
    }
   ],
   "source": [
    "from langchain.embeddings import SentenceTransformerEmbeddings\n",
    "from langchain.vectorstores import FAISS\n",
    "from langchain.chains import RetrievalQA\n",
    "\n",
    "\n",
    "results = [transcribed_audio, meeting_results['summary'], meeting_results['action calls']]\n",
    "\n",
    "embeddings = SentenceTransformerEmbeddings(model_name='all-mpnet-base-v2')\n",
    "\n",
    "docsearch = FAISS.from_texts(\n",
    "    texts=results,\n",
    "    embedding=embeddings\n",
    ")\n",
    "\n",
    "llm3 = ChatOpenAI(openai_api_key=OPENAI_API_KEY, model=OPENAI_MODEL, temperature=0)\n",
    "\n",
    "qa = RetrievalQA.from_chain_type(\n",
    "    llm=llm3,\n",
    "    chain_type='stuff',\n",
    "    retriever=docsearch.as_retriever(search_kwargs={'k':1}),\n",
    "    return_source_documents=False\n",
    ")\n",
    "\n",
    "\n",
    "query = 'What is the summary for this meeting?'\n",
    "\n",
    "response = qa.invoke(query)\n",
    "print('Summary:\\n')\n",
    "print(response['result'] + '\\n')\n",
    "\n",
    "query_cta = 'What are the calls to action?'\n",
    "\n",
    "response_cta = qa.invoke(query_cta + ' Return output in bullet points')\n",
    "print('Calls to Action:\\n')\n",
    "print(response_cta['result'].replace('\\n', '\\n\\n') + '\\n')\n",
    "\n",
    "\n",
    "query_any = 'Can you provide more context on \"supporting workforce programs\"?'\n",
    "\n",
    "response_any = qa.invoke(query_any)\n",
    "print('Context Result:\\n')\n",
    "print(response_any['result'].replace('\\n', '\\n\\n'))"
   ]
  },
  {
   "cell_type": "code",
   "execution_count": 28,
   "id": "f410422e",
   "metadata": {},
   "outputs": [
    {
     "name": "stdout",
     "output_type": "stream",
     "text": [
      "Vice Mayor Richardson\n",
      "Councilmember Urie\n",
      "Councilmember Gonzalez\n",
      "Councilmember Saranga\n",
      "Councilmember Ringo\n",
      "Councilmember Pierce\n"
     ]
    }
   ],
   "source": [
    "# NER bot\n",
    "prompt3 = \"\"\"You are a smart and intelligent Named Entity Recognition (NER) system. You will extract the unique first and last names from the following text and separate each name with a newline character.\n",
    "\n",
    "Name 1\n",
    "Name 2\n",
    "Name 3\n",
    "...\n",
    "\n",
    "Here is the text:\n",
    "\"\"\"\n",
    "\n",
    "# Instantiate chain\n",
    "chain3 = client.chat.completions.create(\n",
    "    model=OPENAI_MODEL,\n",
    "    messages=[{'role': 'system', 'content': prompt3},\n",
    "              {'role': 'user', 'content': transcribed_audio}]\n",
    ")\n",
    "\n",
    "names = chain3.choices[0].message.content\n",
    "print(names)"
   ]
  },
  {
   "cell_type": "code",
   "execution_count": 29,
   "id": "947c3fa1",
   "metadata": {},
   "outputs": [
    {
     "data": {
      "text/plain": [
       "['Vice Mayor Richardson',\n",
       " 'Councilmember Urie',\n",
       " 'Councilmember Gonzalez',\n",
       " 'Councilmember Saranga',\n",
       " 'Councilmember Ringo',\n",
       " 'Councilmember Pierce']"
      ]
     },
     "execution_count": 29,
     "metadata": {},
     "output_type": "execute_result"
    }
   ],
   "source": [
    "names_list = names.split('\\n')\n",
    "names_list"
   ]
  },
  {
   "cell_type": "code",
   "execution_count": 30,
   "id": "c1e9ccb3",
   "metadata": {},
   "outputs": [],
   "source": [
    "# dummy emails\n",
    "members_emails = ['vice.richardson@example.org',\n",
    "'c.urie@gov-office.net',\n",
    "'gonzalez.council@city-hall.gov',\n",
    "'s.saranga@district.us',\n",
    "'council.ringo@local-authority.com',\n",
    "'p.pierce@towncouncil.info']"
   ]
  },
  {
   "cell_type": "code",
   "execution_count": 31,
   "id": "35899921",
   "metadata": {},
   "outputs": [
    {
     "data": {
      "text/html": [
       "<div>\n",
       "<style scoped>\n",
       "    .dataframe tbody tr th:only-of-type {\n",
       "        vertical-align: middle;\n",
       "    }\n",
       "\n",
       "    .dataframe tbody tr th {\n",
       "        vertical-align: top;\n",
       "    }\n",
       "\n",
       "    .dataframe thead th {\n",
       "        text-align: right;\n",
       "    }\n",
       "</style>\n",
       "<table border=\"1\" class=\"dataframe\">\n",
       "  <thead>\n",
       "    <tr style=\"text-align: right;\">\n",
       "      <th></th>\n",
       "      <th>member</th>\n",
       "      <th>email</th>\n",
       "    </tr>\n",
       "  </thead>\n",
       "  <tbody>\n",
       "    <tr>\n",
       "      <th>0</th>\n",
       "      <td>Vice Mayor Richardson</td>\n",
       "      <td>vice.richardson@example.org</td>\n",
       "    </tr>\n",
       "    <tr>\n",
       "      <th>1</th>\n",
       "      <td>Councilmember Urie</td>\n",
       "      <td>c.urie@gov-office.net</td>\n",
       "    </tr>\n",
       "    <tr>\n",
       "      <th>2</th>\n",
       "      <td>Councilmember Gonzalez</td>\n",
       "      <td>gonzalez.council@city-hall.gov</td>\n",
       "    </tr>\n",
       "    <tr>\n",
       "      <th>3</th>\n",
       "      <td>Councilmember Saranga</td>\n",
       "      <td>s.saranga@district.us</td>\n",
       "    </tr>\n",
       "    <tr>\n",
       "      <th>4</th>\n",
       "      <td>Councilmember Ringo</td>\n",
       "      <td>council.ringo@local-authority.com</td>\n",
       "    </tr>\n",
       "    <tr>\n",
       "      <th>5</th>\n",
       "      <td>Councilmember Pierce</td>\n",
       "      <td>p.pierce@towncouncil.info</td>\n",
       "    </tr>\n",
       "  </tbody>\n",
       "</table>\n",
       "</div>"
      ],
      "text/plain": [
       "                   member                              email\n",
       "0   Vice Mayor Richardson        vice.richardson@example.org\n",
       "1      Councilmember Urie              c.urie@gov-office.net\n",
       "2  Councilmember Gonzalez     gonzalez.council@city-hall.gov\n",
       "3   Councilmember Saranga              s.saranga@district.us\n",
       "4     Councilmember Ringo  council.ringo@local-authority.com\n",
       "5    Councilmember Pierce          p.pierce@towncouncil.info"
      ]
     },
     "execution_count": 31,
     "metadata": {},
     "output_type": "execute_result"
    }
   ],
   "source": [
    "members_info = pd.DataFrame({'member': names_list, 'email': members_emails})\n",
    "members_info"
   ]
  },
  {
   "cell_type": "code",
   "execution_count": null,
   "id": "5015d36e",
   "metadata": {},
   "outputs": [
    {
     "name": "stdout",
     "output_type": "stream",
     "text": [
      "Vice Mayor Richardson: Request City Council approval of the 2017 Federal Legislative Agenda\n",
      "Councilmember Gonzalez: Thank you to Diana and Vice Mayor Richardson \n",
      "Councilmember Saranga: Joining at the next federal legislation relation trip\n",
      "Councilmember Ringo: Advocating for the city on behalf of Long Beach\n",
      "Councilmember Pierce: Thanking for making sure the agenda is comprehensive and advocating for the community.\n"
     ]
    }
   ],
   "source": [
    "# NER bot 2\n",
    "prompt4 = \"\"\"You are a smart and intelligent Named Entity Recognition (NER) system. You will identify Unique calls to action and the names of the people the calls to action are directed towards. Your output should be like as follows:\n",
    "\n",
    "Name 1: Call to Action\n",
    "Name 2: Call to Action\n",
    "Name 3: Call to Action\n",
    "...\n",
    "\n",
    "Here is the text:\n",
    "\"\"\"\n",
    "\n",
    "# Instantiate chain\n",
    "chain3 = client.chat.completions.create(\n",
    "    model=OPENAI_MODEL,\n",
    "    messages=[{'role': 'system', 'content': prompt4},\n",
    "              {'role': 'user', 'content': transcribed_audio}]\n",
    ")\n",
    "\n",
    "names_calls = chain3.choices[0].message.content\n",
    "print(names_calls)"
   ]
  },
  {
   "cell_type": "code",
   "execution_count": 38,
   "id": "93f3c1e1",
   "metadata": {},
   "outputs": [
    {
     "data": {
      "text/plain": [
       "['Vice Mayor Richardson',\n",
       " 'Request City Council approval of the 2017 Federal Legislative Agenda',\n",
       " 'Councilmember Gonzalez',\n",
       " 'Thank you to Diana and Vice Mayor Richardson ',\n",
       " 'Councilmember Saranga',\n",
       " 'Joining at the next federal legislation relation trip',\n",
       " 'Councilmember Ringo',\n",
       " 'Advocating for the city on behalf of Long Beach',\n",
       " 'Councilmember Pierce',\n",
       " 'Thanking for making sure the agenda is comprehensive and advocating for the community.']"
      ]
     },
     "execution_count": 38,
     "metadata": {},
     "output_type": "execute_result"
    }
   ],
   "source": [
    "import re\n",
    "\n",
    "delimiters = [r\": \", \"\\n\"]\n",
    "pattern = \"|\".join(map(re.escape, delimiters))\n",
    "\n",
    "names_calls_list = re.split(pattern, names_calls)\n",
    "names_calls_list"
   ]
  },
  {
   "cell_type": "code",
   "execution_count": 86,
   "id": "a92ecfc9",
   "metadata": {},
   "outputs": [
    {
     "data": {
      "text/html": [
       "<div>\n",
       "<style scoped>\n",
       "    .dataframe tbody tr th:only-of-type {\n",
       "        vertical-align: middle;\n",
       "    }\n",
       "\n",
       "    .dataframe tbody tr th {\n",
       "        vertical-align: top;\n",
       "    }\n",
       "\n",
       "    .dataframe thead th {\n",
       "        text-align: right;\n",
       "    }\n",
       "</style>\n",
       "<table border=\"1\" class=\"dataframe\">\n",
       "  <thead>\n",
       "    <tr style=\"text-align: right;\">\n",
       "      <th></th>\n",
       "      <th>member</th>\n",
       "      <th>action</th>\n",
       "    </tr>\n",
       "  </thead>\n",
       "  <tbody>\n",
       "    <tr>\n",
       "      <th>0</th>\n",
       "      <td>Vice Mayor Richardson</td>\n",
       "      <td>Request City Council approval of the 2017 Fede...</td>\n",
       "    </tr>\n",
       "    <tr>\n",
       "      <th>1</th>\n",
       "      <td>Councilmember Gonzalez</td>\n",
       "      <td>Thank you to Diana and Vice Mayor Richardson</td>\n",
       "    </tr>\n",
       "    <tr>\n",
       "      <th>2</th>\n",
       "      <td>Councilmember Saranga</td>\n",
       "      <td>Joining at the next federal legislation relati...</td>\n",
       "    </tr>\n",
       "    <tr>\n",
       "      <th>3</th>\n",
       "      <td>Councilmember Ringo</td>\n",
       "      <td>Advocating for the city on behalf of Long Beach</td>\n",
       "    </tr>\n",
       "    <tr>\n",
       "      <th>4</th>\n",
       "      <td>Councilmember Pierce</td>\n",
       "      <td>Thanking for making sure the agenda is compreh...</td>\n",
       "    </tr>\n",
       "  </tbody>\n",
       "</table>\n",
       "</div>"
      ],
      "text/plain": [
       "                   member                                             action\n",
       "0   Vice Mayor Richardson  Request City Council approval of the 2017 Fede...\n",
       "1  Councilmember Gonzalez       Thank you to Diana and Vice Mayor Richardson\n",
       "2   Councilmember Saranga  Joining at the next federal legislation relati...\n",
       "3     Councilmember Ringo    Advocating for the city on behalf of Long Beach\n",
       "4    Councilmember Pierce  Thanking for making sure the agenda is compreh..."
      ]
     },
     "execution_count": 86,
     "metadata": {},
     "output_type": "execute_result"
    }
   ],
   "source": [
    "meeting_actions = {}\n",
    "i = 0\n",
    "while i < len(names_calls_list) - 1:\n",
    "    name = names_calls_list[i].strip()\n",
    "    action = names_calls_list[i + 1].strip()\n",
    "    meeting_actions[name] = action\n",
    "    i += 2\n",
    "\n",
    "meeting_actions = pd.DataFrame.from_dict([meeting_actions]).T.reset_index().rename(columns={'index': 'member', 0: 'action'})\n",
    "meeting_actions"
   ]
  },
  {
   "cell_type": "code",
   "execution_count": 45,
   "id": "b13c0ebe",
   "metadata": {},
   "outputs": [
    {
     "data": {
      "text/html": [
       "<div>\n",
       "<style scoped>\n",
       "    .dataframe tbody tr th:only-of-type {\n",
       "        vertical-align: middle;\n",
       "    }\n",
       "\n",
       "    .dataframe tbody tr th {\n",
       "        vertical-align: top;\n",
       "    }\n",
       "\n",
       "    .dataframe thead th {\n",
       "        text-align: right;\n",
       "    }\n",
       "</style>\n",
       "<table border=\"1\" class=\"dataframe\">\n",
       "  <thead>\n",
       "    <tr style=\"text-align: right;\">\n",
       "      <th></th>\n",
       "      <th>member</th>\n",
       "      <th>action</th>\n",
       "      <th>email</th>\n",
       "    </tr>\n",
       "  </thead>\n",
       "  <tbody>\n",
       "    <tr>\n",
       "      <th>0</th>\n",
       "      <td>Councilmember Gonzalez</td>\n",
       "      <td>Thank you to Diana and Vice Mayor Richardson</td>\n",
       "      <td>gonzalez.council@city-hall.gov</td>\n",
       "    </tr>\n",
       "    <tr>\n",
       "      <th>1</th>\n",
       "      <td>Councilmember Pierce</td>\n",
       "      <td>Thanking for making sure the agenda is compreh...</td>\n",
       "      <td>p.pierce@towncouncil.info</td>\n",
       "    </tr>\n",
       "    <tr>\n",
       "      <th>2</th>\n",
       "      <td>Councilmember Ringo</td>\n",
       "      <td>Advocating for the city on behalf of Long Beach</td>\n",
       "      <td>council.ringo@local-authority.com</td>\n",
       "    </tr>\n",
       "    <tr>\n",
       "      <th>3</th>\n",
       "      <td>Councilmember Saranga</td>\n",
       "      <td>Joining at the next federal legislation relati...</td>\n",
       "      <td>s.saranga@district.us</td>\n",
       "    </tr>\n",
       "    <tr>\n",
       "      <th>5</th>\n",
       "      <td>Vice Mayor Richardson</td>\n",
       "      <td>Request City Council approval of the 2017 Fede...</td>\n",
       "      <td>vice.richardson@example.org</td>\n",
       "    </tr>\n",
       "  </tbody>\n",
       "</table>\n",
       "</div>"
      ],
      "text/plain": [
       "                   member                                             action  \\\n",
       "0  Councilmember Gonzalez       Thank you to Diana and Vice Mayor Richardson   \n",
       "1    Councilmember Pierce  Thanking for making sure the agenda is compreh...   \n",
       "2     Councilmember Ringo    Advocating for the city on behalf of Long Beach   \n",
       "3   Councilmember Saranga  Joining at the next federal legislation relati...   \n",
       "5   Vice Mayor Richardson  Request City Council approval of the 2017 Fede...   \n",
       "\n",
       "                               email  \n",
       "0     gonzalez.council@city-hall.gov  \n",
       "1          p.pierce@towncouncil.info  \n",
       "2  council.ringo@local-authority.com  \n",
       "3              s.saranga@district.us  \n",
       "5        vice.richardson@example.org  "
      ]
     },
     "execution_count": 45,
     "metadata": {},
     "output_type": "execute_result"
    }
   ],
   "source": [
    "meeting_actions_emails = pd.merge(meeting_actions, members_info, on='member', how='outer').dropna()\n",
    "meeting_actions_emails"
   ]
  },
  {
   "cell_type": "code",
   "execution_count": 55,
   "id": "f1887a03",
   "metadata": {},
   "outputs": [
    {
     "data": {
      "text/plain": [
       "'{\\'summary\\': \"Summary:\\\\n\\\\nThe text is a transcript of a meeting where Vice Mayor Richardson recommended the approval of the 2017 Federal Legislative Agenda as recommended by the Federal Legislation Committee to the City Council. The meeting took place on November 15th to review the recommended changes for the agenda. The committee made substantial changes to the agenda last year when they were reorganized and consolidated some statements that may have been repetitive in past years.\\\\n\\\\nThe focus of the committee is on protecting existing revenues that the City currently receives from the Federal Government, such as the Housing Choice Voucher Program (Section 8) and other HUD programs. They also plan to work on workforce programs and support mental health services. The committee also discussed adding language in the Public Safety section to support federal legislation that would assist in implementing violence prevention programs and homeless prevention.\\\\n\\\\nThe committee voted to receive a file containing all of the staff\\'s recommended and endorsed changes for adoption tonight. Since the meeting in November, several executive orders signed by the new President require updating an existing statement in their agenda to support the expansion of dockets.\\\\n\\\\nThe text also mentions the need to advocate for the city on behalf of Long Beach and ensuring that funding for major capital projects is secured. The members expressed their pride in being part of the council and thanked everyone for their work and commitment to advocating and protecting the residents of their communities.\\\\n\\\\nThe transcript ends with acknowledgments and thanks from various council members and a final statement that the motion has passed.\\\\n\", \\'action calls\\': \\'Calls to Action:\\\\n\\\\n- Request City Council approval of the 2017 Federal Legislative Agenda\\\\n\\\\n- Support federal legislation for violence prevention and homeless services\\\\n\\\\n- Support federal assistance for establishing substance use treatment facilities\\\\n\\\\n- Support federal legislation for mental health services\\\\n\\\\n- Support federal legislation that maintains existing allowances for undocumented immigrants under the DOCA program\\\\n\\\\n- Ensuring state and local resources are not used to support deportations\\\\n\\\\n- Secure major capital projects funding\\\\n\\\\n- Advocate for the city on behalf of Long Beach\\'}'"
      ]
     },
     "execution_count": 55,
     "metadata": {},
     "output_type": "execute_result"
    }
   ],
   "source": [
    "str(meeting_results)"
   ]
  },
  {
   "cell_type": "code",
   "execution_count": 56,
   "id": "b9bbb62c",
   "metadata": {},
   "outputs": [],
   "source": [
    "meeting_actions_emails_string = meeting_actions_emails.to_string(header=True, index=False)\n",
    "meeting_results_string = str(meeting_results)"
   ]
  },
  {
   "cell_type": "code",
   "execution_count": 58,
   "id": "980176b2",
   "metadata": {},
   "outputs": [
    {
     "name": "stdout",
     "output_type": "stream",
     "text": [
      "To: gonzalez.council@city-hall.gov\n",
      "\n",
      "CC: project_team@example.com; management_team@example.com\n",
      "\n",
      "From: vice.richardson@example.org\n",
      "\n",
      "Subject: Approval of 2017 Federal Legislative Agenda\n",
      "\n",
      "Dear Councilmember Gonzalez,\n",
      "\n",
      "I hope this email finds you well. I am writing to follow up on the recent meeting where Vice Mayor Richardson recommended the approval of the 2017 Federal Legislative Agenda to the City Council, as per the recommendation by the Federal Legislation Committee. The meeting, held on November 15th, focused on reviewing the proposed changes for the agenda, especially related to protecting existing revenues, workforce programs, mental health services, and public safety initiatives.\n",
      "\n",
      "Meeting Summary:\n",
      "The committee made substantial changes to the agenda last year during reorganization, aiming to consolidate statements and ensure the city's revenue interests with federal programs like the Housing Choice Voucher Program and HUD initiatives.\n",
      "\n",
      "Action Calls:\n",
      "Given your dedication to advocating for the community, we kindly request your support in the following action items:\n",
      "1. Support federal legislation for violence prevention and homeless services.\n",
      "2. Support federal assistance for establishing substance use treatment facilities.\n",
      "3. Support federal legislation for mental health services.\n",
      "4. Support federal legislation maintaining existing allowances for undocumented immigrants under the DOCA program.\n",
      "5. Help in ensuring state and local resources are not used to support deportations.\n",
      "6. Collaborate in securing funding for major capital projects.\n",
      "7. Advocate for the city on behalf of Long Beach.\n",
      "\n",
      "Specific Call to Action for Councilmember Gonzalez:\n",
      "Your immediate action is to advocate for federal legislation supporting mental health services and working towards securing funding for major capital projects. Your voice and support are crucial in these initiatives to benefit the residents of our community.\n",
      "\n",
      "Thank you for your commitment to the City Council's work. Should you have any questions or need further information, please feel free to reach out.\n",
      "\n",
      "Warm regards,\n",
      "\n",
      "Vice Mayor Richardson\n",
      "Long Beach City Council\n",
      "\n",
      "---\n",
      "This email follows up on the meeting where the Vice Mayor requested the approval of the 2017 Federal Legislative Agenda and includes specific action items for Councilmember Gonzalez.\n"
     ]
    }
   ],
   "source": [
    "# Email bot\n",
    "prompt5 = \"\"\"You are an intelligent Email sending Assistant. You will take in a summary and calls to action from a meeting transcript, as well as a list of member names, with their corresponding specific action and Email address. Your task is to send the summary, calls to actions, and their corresponding specific action to each member's Email. An example Email Format is as follows:\n",
    "\n",
    "To: sarah.chen@example.com\n",
    "\n",
    "CC: project_team@example.com; management_team@example.com\n",
    "\n",
    "From: david.lee@example.com\n",
    "\n",
    "Subject: Project Phoenix - Kickoff Meeting Summary\n",
    "\n",
    "Dear Sarah,\n",
    "\n",
    "This email summarizes the kickoff meeting for Project Phoenix, held on October 26, 2023. The purpose of the meeting was to align the team on project goals, define key responsibilities, and establish the initial project timeline.\n",
    "\n",
    "Meeting Summary:\n",
    "\n",
    "The meeting began with an overview of Project Phoenix's objectives: to develop and launch a new customer relationship management (CRM) system within the next six months. We discussed the project's scope, which includes migrating existing customer data, integrating with our current marketing automation platform, and training our sales and support teams on the new system.\n",
    "\n",
    "Key discussion points included:\n",
    "\n",
    "- Data Migration Strategy: We reviewed the proposed approach for migrating customer data from the legacy system to the new CRM.\n",
    "\n",
    "- Integration Requirements: We discussed the necessary integrations with the marketing automation platform, focusing on data synchronization and workflow automation.\n",
    "\n",
    "- Training Plan: The training team outlined the plan for developing and delivering training materials to sales and support staff.\n",
    "\n",
    "- Timeline and Milestones: We established the initial project timeline, identifying key milestones and deadlines. A detailed project schedule will be shared next week.\n",
    "\n",
    "- Budget Allocation: Initial budget was presented.\n",
    "\n",
    "Calls to Action:\n",
    "\n",
    "- The following actions were assigned to ensure the project stays on track:\n",
    "\n",
    "- Sarah Chen: Finalize the data migration plan and submit it for review by November 2nd.\n",
    "\n",
    "- John Smith: Define the API specifications for the marketing automation platform integration by November 5th.\n",
    "\n",
    "- Emily Brown: Develop the initial training modules outline by November 9th.\n",
    "\n",
    "- David Lee: Circulate the detailed project schedule by October 28th.\n",
    "\n",
    "- Michael Davis: Provide a detailed budget breakdown by November 2nd.\n",
    "\n",
    "Specific Call to Action for Sarah Chen:\n",
    "\n",
    "Sarah, your immediate action is to finalize the data migration plan, including the specific steps, resources required, and potential risks. Please submit this plan to project_team@example.com by November 2nd.\n",
    "\n",
    "Thank you for your contributions to the meeting. Please let me know if you have any questions or require further clarification.\n",
    "\n",
    "Best regards,\n",
    "\n",
    "David Lee\n",
    "\n",
    "Project Manager\n",
    "\n",
    "Acme Corp\n",
    "\n",
    "Here is the information:\n",
    "\"\"\"\n",
    "\n",
    "messages=[{'role': 'system', 'content': prompt5},\n",
    "              {'role': 'user', 'content': [\n",
    "                  {'type': 'text', 'text': meeting_results_string},\n",
    "                  {'type': 'text', 'text': meeting_actions_emails_string}]}]\n",
    "\n",
    "# Instantiate chain\n",
    "try:\n",
    "    chain4 = client.chat.completions.create(\n",
    "        model=OPENAI_MODEL,\n",
    "        messages=messages\n",
    "    )\n",
    "\n",
    "    email = chain4.choices[0].message.content\n",
    "    print(email)\n",
    "except Exception as e:\n",
    "    print(f\"An error occurred: {e}\")"
   ]
  },
  {
   "cell_type": "code",
   "execution_count": 65,
   "id": "5f05f2f0",
   "metadata": {},
   "outputs": [
    {
     "data": {
      "text/plain": [
       "['To: gonzalez.council@city-hall.gov',\n",
       " '',\n",
       " 'CC: project_team@example.com; management_team@example.com',\n",
       " '',\n",
       " 'From: vice.richardson@example.org',\n",
       " '',\n",
       " 'Subject: Approval of 2017 Federal Legislative Agenda',\n",
       " '',\n",
       " 'Dear Councilmember Gonzalez,',\n",
       " '',\n",
       " 'I hope this email finds you well. I am writing to follow up on the recent meeting where Vice Mayor Richardson recommended the approval of the 2017 Federal Legislative Agenda to the City Council, as per the recommendation by the Federal Legislation Committee. The meeting, held on November 15th, focused on reviewing the proposed changes for the agenda, especially related to protecting existing revenues, workforce programs, mental health services, and public safety initiatives.',\n",
       " '',\n",
       " 'Meeting Summary:',\n",
       " \"The committee made substantial changes to the agenda last year during reorganization, aiming to consolidate statements and ensure the city's revenue interests with federal programs like the Housing Choice Voucher Program and HUD initiatives.\",\n",
       " '',\n",
       " 'Action Calls:',\n",
       " 'Given your dedication to advocating for the community, we kindly request your support in the following action items:',\n",
       " '1. Support federal legislation for violence prevention and homeless services.',\n",
       " '2. Support federal assistance for establishing substance use treatment facilities.',\n",
       " '3. Support federal legislation for mental health services.',\n",
       " '4. Support federal legislation maintaining existing allowances for undocumented immigrants under the DOCA program.',\n",
       " '5. Help in ensuring state and local resources are not used to support deportations.',\n",
       " '6. Collaborate in securing funding for major capital projects.',\n",
       " '7. Advocate for the city on behalf of Long Beach.',\n",
       " '',\n",
       " 'Specific Call to Action for Councilmember Gonzalez:',\n",
       " 'Your immediate action is to advocate for federal legislation supporting mental health services and working towards securing funding for major capital projects. Your voice and support are crucial in these initiatives to benefit the residents of our community.',\n",
       " '',\n",
       " \"Thank you for your commitment to the City Council's work. Should you have any questions or need further information, please feel free to reach out.\",\n",
       " '',\n",
       " 'Warm regards,',\n",
       " '',\n",
       " 'Vice Mayor Richardson',\n",
       " 'Long Beach City Council',\n",
       " '',\n",
       " '---',\n",
       " 'This email follows up on the meeting where the Vice Mayor requested the approval of the 2017 Federal Legislative Agenda and includes specific action items for Councilmember Gonzalez.']"
      ]
     },
     "execution_count": 65,
     "metadata": {},
     "output_type": "execute_result"
    }
   ],
   "source": [
    "email_bones = []\n",
    "for section in email.splitlines():\n",
    "    email_bones.append(section)\n",
    "\n",
    "email_bones"
   ]
  },
  {
   "cell_type": "code",
   "execution_count": 79,
   "id": "1b3d53d8",
   "metadata": {},
   "outputs": [
    {
     "name": "stdout",
     "output_type": "stream",
     "text": [
      "To: gonzalez.council@city-hall.gov\n",
      "CC: project_team@example.com; management_team@example.com\n",
      "From: vice.richardson@example.org\n",
      "Subject: Approval of 2017 Federal Legislative Agenda\n",
      "\n",
      "Dear Councilmember Gonzalez,\n",
      "\n",
      "  I hope this email finds you well. I am writing to follow up on the recent meeting where Vice Mayor Richardson recommended the approval of the 2017 Federal Legislative Agenda to the City Council, as per the recommendation by the Federal Legislation Committee. The meeting, held on November 15th, focused on reviewing the proposed changes for the agenda, especially related to protecting existing revenues, workforce programs, mental health services, and public safety initiatives.\n",
      "\n",
      "  Meeting Summary:\n",
      "\n",
      " The committee made substantial changes to the agenda last year during reorganization, aiming to consolidate statements and ensure the citys revenue interests with federal programs like the Housing Choice Voucher Program and HUD initiatives.\n",
      "\n",
      "  Action Calls:\n",
      "\n",
      " Given your dedication to advocating for the community, we kindly request your support in the following action items:\n",
      "\n",
      " 1. Support federal legislation for violence prevention and homeless services.\n",
      "\n",
      " 2. Support federal assistance for establishing substance use treatment facilities.\n",
      "\n",
      " 3. Support federal legislation for mental health services.\n",
      "\n",
      " 4. Support federal legislation maintaining existing allowances for undocumented immigrants under the DOCA program.\n",
      "\n",
      " 5. Help in ensuring state and local resources are not used to support deportations.\n",
      "\n",
      " 6. Collaborate in securing funding for major capital projects.\n",
      "\n",
      " 7. Advocate for the city on behalf of Long Beach.\n",
      "\n",
      "  Specific Call to Action for Councilmember Gonzalez:\n",
      "\n",
      " Your immediate action is to advocate for federal legislation supporting mental health services and working towards securing funding for major capital projects. Your voice and support are crucial in these initiatives to benefit the residents of our community.\n",
      "\n",
      "  Thank you for your commitment to the City Councils work. Should you have any questions or need further information, please feel free to reach out.\n",
      "\n",
      "  Warm regards,\n",
      "\n",
      "  Vice Mayor Richardson\n",
      "\n",
      " Long Beach City Council\n",
      "\n",
      "  ---\n",
      "\n",
      " This email follows up on the meeting where the Vice Mayor requested the approval of the 2017 Federal Legislative Agenda and includes specific action items for Councilmember Gonzalez.\n",
      "\n"
     ]
    }
   ],
   "source": [
    "to = email_bones[0]\n",
    "cc = email_bones[2]\n",
    "sender = email_bones[4]\n",
    "subject = email_bones[6]\n",
    "message_text = str(email_bones[8:]).replace(\"''\", '\\n').replace(\"',\", '\\n').replace(\"\\n,\", '').replace('\\n', '\\n\\n').replace('\",', '\\n\\n').replace('\"', '').replace(\"'\", \"\").replace('[', '\\n').replace(']', '\\n')\n",
    "\n",
    "\n",
    "print(to)\n",
    "print(cc)\n",
    "print(sender)\n",
    "print(subject)\n",
    "print(message_text)\n"
   ]
  },
  {
   "cell_type": "code",
   "execution_count": null,
   "id": "0df7ce98",
   "metadata": {},
   "outputs": [],
   "source": [
    "import os.path\n",
    "from google.oauth2.credentials import Credentials\n",
    "from google_auth_oauthlib.flow import InstalledAppFlow\n",
    "from google.auth.transport.requests import Request\n",
    "from googleapiclient.discovery import build\n",
    "\n",
    "\n",
    "\n",
    "\n"
   ]
  },
  {
   "cell_type": "code",
   "execution_count": null,
   "id": "b561ed4a",
   "metadata": {},
   "outputs": [],
   "source": []
  },
  {
   "cell_type": "code",
   "execution_count": null,
   "id": "8903bec2",
   "metadata": {},
   "outputs": [],
   "source": []
  }
 ],
 "metadata": {
  "kernelspec": {
   "display_name": "dev",
   "language": "python",
   "name": "python3"
  },
  "language_info": {
   "codemirror_mode": {
    "name": "ipython",
    "version": 3
   },
   "file_extension": ".py",
   "mimetype": "text/x-python",
   "name": "python",
   "nbconvert_exporter": "python",
   "pygments_lexer": "ipython3",
   "version": "3.12.9"
  }
 },
 "nbformat": 4,
 "nbformat_minor": 5
}
