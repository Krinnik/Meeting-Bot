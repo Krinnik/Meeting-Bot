{
 "cells": [
  {
   "cell_type": "code",
   "execution_count": 1,
   "id": "95fae4c8",
   "metadata": {},
   "outputs": [
    {
     "name": "stderr",
     "output_type": "stream",
     "text": [
      "c:\\Users\\Nik\\anaconda3\\envs\\dev\\Lib\\site-packages\\tqdm\\auto.py:21: TqdmWarning: IProgress not found. Please update jupyter and ipywidgets. See https://ipywidgets.readthedocs.io/en/stable/user_install.html\n",
      "  from .autonotebook import tqdm as notebook_tqdm\n"
     ]
    }
   ],
   "source": [
    "import pandas as pd\n",
    "from datasets import load_dataset\n",
    "\n",
    "ds = load_dataset(\"huuuyeah/meetingbank\")\n"
   ]
  },
  {
   "cell_type": "code",
   "execution_count": 2,
   "id": "782616f8",
   "metadata": {},
   "outputs": [
    {
     "data": {
      "text/plain": [
       "DatasetDict({\n",
       "    train: Dataset({\n",
       "        features: ['summary', 'uid', 'id', 'transcript'],\n",
       "        num_rows: 5169\n",
       "    })\n",
       "    validation: Dataset({\n",
       "        features: ['summary', 'uid', 'id', 'transcript'],\n",
       "        num_rows: 861\n",
       "    })\n",
       "    test: Dataset({\n",
       "        features: ['summary', 'uid', 'id', 'transcript'],\n",
       "        num_rows: 862\n",
       "    })\n",
       "})"
      ]
     },
     "execution_count": 2,
     "metadata": {},
     "output_type": "execute_result"
    }
   ],
   "source": [
    "train_data = ds['train']\n",
    "test_data = ds['test']\n",
    "val_data = ds['validation']\n",
    "\n",
    "ds"
   ]
  },
  {
   "cell_type": "code",
   "execution_count": 3,
   "id": "5317cfcd",
   "metadata": {},
   "outputs": [],
   "source": [
    "train_df = pd.DataFrame(train_data)\n",
    "test_df = pd.DataFrame(test_data)\n",
    "val_df = pd.DataFrame(val_data)"
   ]
  },
  {
   "cell_type": "code",
   "execution_count": 4,
   "id": "4e2d7a68",
   "metadata": {},
   "outputs": [
    {
     "data": {
      "text/html": [
       "<div>\n",
       "<style scoped>\n",
       "    .dataframe tbody tr th:only-of-type {\n",
       "        vertical-align: middle;\n",
       "    }\n",
       "\n",
       "    .dataframe tbody tr th {\n",
       "        vertical-align: top;\n",
       "    }\n",
       "\n",
       "    .dataframe thead th {\n",
       "        text-align: right;\n",
       "    }\n",
       "</style>\n",
       "<table border=\"1\" class=\"dataframe\">\n",
       "  <thead>\n",
       "    <tr style=\"text-align: right;\">\n",
       "      <th></th>\n",
       "      <th>summary</th>\n",
       "      <th>uid</th>\n",
       "      <th>id</th>\n",
       "      <th>transcript</th>\n",
       "    </tr>\n",
       "  </thead>\n",
       "  <tbody>\n",
       "    <tr>\n",
       "      <th>0</th>\n",
       "      <td>AS AMENDED a bill for an ordinance amending th...</td>\n",
       "      <td>DenverCityCouncil_05012017_17-0161</td>\n",
       "      <td>0</td>\n",
       "      <td>Please refrain from profane or obscene speech....</td>\n",
       "    </tr>\n",
       "    <tr>\n",
       "      <th>1</th>\n",
       "      <td>AS AMENDED a bill for an ordinance amending th...</td>\n",
       "      <td>DenverCityCouncil_04102017_17-0161</td>\n",
       "      <td>1</td>\n",
       "      <td>An assessment has called out council bill 161 ...</td>\n",
       "    </tr>\n",
       "    <tr>\n",
       "      <th>2</th>\n",
       "      <td>AS AMENDED a bill for an ordinance amending th...</td>\n",
       "      <td>DenverCityCouncil_02272017_17-0161</td>\n",
       "      <td>2</td>\n",
       "      <td>I Please close the voting. Announce the result...</td>\n",
       "    </tr>\n",
       "    <tr>\n",
       "      <th>3</th>\n",
       "      <td>Recommendation to respectfully request City Co...</td>\n",
       "      <td>LongBeachCC_03072017_17-0161</td>\n",
       "      <td>3</td>\n",
       "      <td>Motion passes. Hey, thank you very much. Now w...</td>\n",
       "    </tr>\n",
       "    <tr>\n",
       "      <th>4</th>\n",
       "      <td>AS AMENDED a bill for an ordinance amending th...</td>\n",
       "      <td>DenverCityCouncil_03202017_17-0161</td>\n",
       "      <td>4</td>\n",
       "      <td>All right. Pursuant to Council Bill 3.7 consid...</td>\n",
       "    </tr>\n",
       "  </tbody>\n",
       "</table>\n",
       "</div>"
      ],
      "text/plain": [
       "                                             summary  \\\n",
       "0  AS AMENDED a bill for an ordinance amending th...   \n",
       "1  AS AMENDED a bill for an ordinance amending th...   \n",
       "2  AS AMENDED a bill for an ordinance amending th...   \n",
       "3  Recommendation to respectfully request City Co...   \n",
       "4  AS AMENDED a bill for an ordinance amending th...   \n",
       "\n",
       "                                  uid  id  \\\n",
       "0  DenverCityCouncil_05012017_17-0161   0   \n",
       "1  DenverCityCouncil_04102017_17-0161   1   \n",
       "2  DenverCityCouncil_02272017_17-0161   2   \n",
       "3        LongBeachCC_03072017_17-0161   3   \n",
       "4  DenverCityCouncil_03202017_17-0161   4   \n",
       "\n",
       "                                          transcript  \n",
       "0  Please refrain from profane or obscene speech....  \n",
       "1  An assessment has called out council bill 161 ...  \n",
       "2  I Please close the voting. Announce the result...  \n",
       "3  Motion passes. Hey, thank you very much. Now w...  \n",
       "4  All right. Pursuant to Council Bill 3.7 consid...  "
      ]
     },
     "execution_count": 4,
     "metadata": {},
     "output_type": "execute_result"
    }
   ],
   "source": [
    "train_df.head()"
   ]
  },
  {
   "cell_type": "code",
   "execution_count": 5,
   "id": "c3ac0e62",
   "metadata": {},
   "outputs": [],
   "source": [
    "from langchain_openai import ChatOpenAI\n",
    "from dotenv import load_dotenv\n",
    "import os"
   ]
  },
  {
   "cell_type": "code",
   "execution_count": 6,
   "id": "f834fa3c",
   "metadata": {},
   "outputs": [],
   "source": [
    "# Load environment variables.\n",
    "load_dotenv()\n",
    "\n",
    "# Set the model name for our LLMs.\n",
    "OPENAI_MODEL = \"gpt-3.5-turbo\"\n",
    "# Store the API key in a variable.\n",
    "OPENAI_API_KEY = os.getenv(\"OPENAI_API_KEY\")"
   ]
  },
  {
   "cell_type": "code",
   "execution_count": 7,
   "id": "61c7a0d3",
   "metadata": {},
   "outputs": [],
   "source": [
    "from langchain.agents import initialize_agent, load_tools\n",
    "from langchain.chains.llm import LLMChain\n",
    "from langchain_core.prompts import ChatPromptTemplate\n",
    "from langchain.docstore.document import Document\n",
    "from langchain.chains.summarize import load_summarize_chain"
   ]
  },
  {
   "cell_type": "code",
   "execution_count": 9,
   "id": "eef2d66f",
   "metadata": {},
   "outputs": [
    {
     "data": {
      "text/html": [
       "<div>\n",
       "<style scoped>\n",
       "    .dataframe tbody tr th:only-of-type {\n",
       "        vertical-align: middle;\n",
       "    }\n",
       "\n",
       "    .dataframe tbody tr th {\n",
       "        vertical-align: top;\n",
       "    }\n",
       "\n",
       "    .dataframe thead th {\n",
       "        text-align: right;\n",
       "    }\n",
       "</style>\n",
       "<table border=\"1\" class=\"dataframe\">\n",
       "  <thead>\n",
       "    <tr style=\"text-align: right;\">\n",
       "      <th></th>\n",
       "      <th>index</th>\n",
       "      <th>summary</th>\n",
       "      <th>uid</th>\n",
       "      <th>id</th>\n",
       "      <th>transcript</th>\n",
       "    </tr>\n",
       "  </thead>\n",
       "  <tbody>\n",
       "    <tr>\n",
       "      <th>0</th>\n",
       "      <td>1</td>\n",
       "      <td>AS AMENDED a bill for an ordinance amending th...</td>\n",
       "      <td>DenverCityCouncil_04102017_17-0161</td>\n",
       "      <td>1</td>\n",
       "      <td>An assessment has called out council bill 161 ...</td>\n",
       "    </tr>\n",
       "    <tr>\n",
       "      <th>1</th>\n",
       "      <td>2</td>\n",
       "      <td>AS AMENDED a bill for an ordinance amending th...</td>\n",
       "      <td>DenverCityCouncil_02272017_17-0161</td>\n",
       "      <td>2</td>\n",
       "      <td>I Please close the voting. Announce the result...</td>\n",
       "    </tr>\n",
       "    <tr>\n",
       "      <th>2</th>\n",
       "      <td>3</td>\n",
       "      <td>Recommendation to respectfully request City Co...</td>\n",
       "      <td>LongBeachCC_03072017_17-0161</td>\n",
       "      <td>3</td>\n",
       "      <td>Motion passes. Hey, thank you very much. Now w...</td>\n",
       "    </tr>\n",
       "    <tr>\n",
       "      <th>3</th>\n",
       "      <td>4</td>\n",
       "      <td>AS AMENDED a bill for an ordinance amending th...</td>\n",
       "      <td>DenverCityCouncil_03202017_17-0161</td>\n",
       "      <td>4</td>\n",
       "      <td>All right. Pursuant to Council Bill 3.7 consid...</td>\n",
       "    </tr>\n",
       "    <tr>\n",
       "      <th>4</th>\n",
       "      <td>5</td>\n",
       "      <td>AS AMENDED a bill for an ordinance amending th...</td>\n",
       "      <td>DenverCityCouncil_02212017_17-0161</td>\n",
       "      <td>5</td>\n",
       "      <td>11 Eyes, Resolution 109 has been adopted as am...</td>\n",
       "    </tr>\n",
       "    <tr>\n",
       "      <th>...</th>\n",
       "      <td>...</td>\n",
       "      <td>...</td>\n",
       "      <td>...</td>\n",
       "      <td>...</td>\n",
       "      <td>...</td>\n",
       "    </tr>\n",
       "    <tr>\n",
       "      <th>4882</th>\n",
       "      <td>5164</td>\n",
       "      <td>AN ORDINANCE imposing a tax on engaging in the...</td>\n",
       "      <td>SeattleCityCouncil_06052017_CB 118965</td>\n",
       "      <td>5164</td>\n",
       "      <td>Thank you. The bill passed and chair of the Se...</td>\n",
       "    </tr>\n",
       "    <tr>\n",
       "      <th>4883</th>\n",
       "      <td>5165</td>\n",
       "      <td>Proclamation Declaring April 8 through April 1...</td>\n",
       "      <td>AlamedaCC_04022019_2019-6703</td>\n",
       "      <td>5165</td>\n",
       "      <td>Okay. Next is a proclamation declaring April e...</td>\n",
       "    </tr>\n",
       "    <tr>\n",
       "      <th>4884</th>\n",
       "      <td>5166</td>\n",
       "      <td>Approves an agreement with Kaiser Foundation H...</td>\n",
       "      <td>DenverCityCouncil_01052015_14-1062</td>\n",
       "      <td>5166</td>\n",
       "      <td>I just pulled this one out. This one actually ...</td>\n",
       "    </tr>\n",
       "    <tr>\n",
       "      <th>4885</th>\n",
       "      <td>5167</td>\n",
       "      <td>A bill for an Ordinance authorizing and approv...</td>\n",
       "      <td>DenverCityCouncil_06082015_15-0302</td>\n",
       "      <td>5167</td>\n",
       "      <td>The estimated taxable value following redevelo...</td>\n",
       "    </tr>\n",
       "    <tr>\n",
       "      <th>4886</th>\n",
       "      <td>5168</td>\n",
       "      <td>A bill for an ordinance designating certain pr...</td>\n",
       "      <td>DenverCityCouncil_11172014_14-0930</td>\n",
       "      <td>5168</td>\n",
       "      <td>Brooks Brown, I. Mr. President. Hi, Mr. Secret...</td>\n",
       "    </tr>\n",
       "  </tbody>\n",
       "</table>\n",
       "<p>4887 rows × 5 columns</p>\n",
       "</div>"
      ],
      "text/plain": [
       "      index                                            summary  \\\n",
       "0         1  AS AMENDED a bill for an ordinance amending th...   \n",
       "1         2  AS AMENDED a bill for an ordinance amending th...   \n",
       "2         3  Recommendation to respectfully request City Co...   \n",
       "3         4  AS AMENDED a bill for an ordinance amending th...   \n",
       "4         5  AS AMENDED a bill for an ordinance amending th...   \n",
       "...     ...                                                ...   \n",
       "4882   5164  AN ORDINANCE imposing a tax on engaging in the...   \n",
       "4883   5165  Proclamation Declaring April 8 through April 1...   \n",
       "4884   5166  Approves an agreement with Kaiser Foundation H...   \n",
       "4885   5167  A bill for an Ordinance authorizing and approv...   \n",
       "4886   5168  A bill for an ordinance designating certain pr...   \n",
       "\n",
       "                                        uid    id  \\\n",
       "0        DenverCityCouncil_04102017_17-0161     1   \n",
       "1        DenverCityCouncil_02272017_17-0161     2   \n",
       "2              LongBeachCC_03072017_17-0161     3   \n",
       "3        DenverCityCouncil_03202017_17-0161     4   \n",
       "4        DenverCityCouncil_02212017_17-0161     5   \n",
       "...                                     ...   ...   \n",
       "4882  SeattleCityCouncil_06052017_CB 118965  5164   \n",
       "4883           AlamedaCC_04022019_2019-6703  5165   \n",
       "4884     DenverCityCouncil_01052015_14-1062  5166   \n",
       "4885     DenverCityCouncil_06082015_15-0302  5167   \n",
       "4886     DenverCityCouncil_11172014_14-0930  5168   \n",
       "\n",
       "                                             transcript  \n",
       "0     An assessment has called out council bill 161 ...  \n",
       "1     I Please close the voting. Announce the result...  \n",
       "2     Motion passes. Hey, thank you very much. Now w...  \n",
       "3     All right. Pursuant to Council Bill 3.7 consid...  \n",
       "4     11 Eyes, Resolution 109 has been adopted as am...  \n",
       "...                                                 ...  \n",
       "4882  Thank you. The bill passed and chair of the Se...  \n",
       "4883  Okay. Next is a proclamation declaring April e...  \n",
       "4884  I just pulled this one out. This one actually ...  \n",
       "4885  The estimated taxable value following redevelo...  \n",
       "4886  Brooks Brown, I. Mr. President. Hi, Mr. Secret...  \n",
       "\n",
       "[4887 rows x 5 columns]"
      ]
     },
     "execution_count": 9,
     "metadata": {},
     "output_type": "execute_result"
    }
   ],
   "source": [
    "# dropping entries with too many tokens for the model\n",
    "train_df_sorted = train_df[train_df['transcript'].str.len() <= 16385 * 4].reset_index()\n",
    "train_df_sorted"
   ]
  },
  {
   "cell_type": "code",
   "execution_count": 32,
   "id": "888f0061",
   "metadata": {},
   "outputs": [
    {
     "data": {
      "text/plain": [
       "\"Motion passes. Hey, thank you very much. Now we're moving on to item 22. Communication from Vice Mayor Richardson recommendation to request City Council approval of the 2017 federal legislative agenda as recommended by the Federal Legislation Committee. There's a motion and a second Vice Mayor. So just a few updates here we have. So we met in November on November 15th to review staff's recommended recommended changes for the 2017 federal legislative agenda. The committee made some fairly substantive changes to the agenda last year when we were reorganized and consolidated some of the statements that may have been repetitive in years past. And because we made so many, so many changes in the last update, and as the new presidential administration gets up and running, the first large committee will be focused on protecting existing revenues that the city current receive currently receives from the federal government, such as the Housing Choice Voucher Program, commonly known as Section eight, CDBG, other HUD programs. We're also going to take a look at workforce programs and supporting those as well. And our existing legislative agenda already empowers us to do that. The committee heard that, you know, the committee may have heard that there's one particular area of the of the legislative agenda, legislative agenda that could use some additional language. That's the area of violence prevention and services to stem the homeless crisis in L.A. County. And because of all of our work, our mayor, city council, city staff have done around violence prevention staff recommended that we add language in the public safety section to support federal legislation that would assist with the implementation of violence prevention programs and in the area of homeless prevention. Staff recommended that the City Council support the city, support federal assistance toward establishing substance use treatment facilities in the region. Language to support mental health services is already existing there. Our committee voted to receive a file. All of staff's recommended and recommended changes and for those to the City Council for Adoption tonight. Since our meeting in November, a number of executive orders signed by the new president make it so that we need to update an existing statement in our in our agenda supporting the expansion of dockets. Read one that reads supporting federal legislation that maintains existing allowances for undocumented immigrants to who qualify for the DOCA program to remain in the United States, as well as being as well as any legislation that protects safety and well-being of all Californians by ensuring state and local race resources are not used to support deportations, collect information about individuals or religious beliefs or affiliations that ultimately hurt California's economy. Specific to the DOCA program, we're talking about immigrants who enter the U.S. before the 16th birthday and before June 27 are currently in high school or high school graduate honorably discharged in the military under the age of 31 as of June 15, 2012, and have not been convicted of a felony, significant misdemeanor or other or three other misdemeanors otherwise pose a threat to national security. So these recommended changes come because there's been, you know, since these executive orders, a number of bills that have come out. And we wanted to make sure that our language and our letter agenda is wide and comprehensive enough to support different bills, whether it's, you know, Feinstein's bill or other other people's bills that go forward, it still maintains the intent to support the DOCA language. And so that is sort of a highlight on what we're doing tonight on the failed agenda. Thanks. Thank you, Councilmember Yuri. Councilmember Gonzales. I'll defer Gonzales first. Councilman Gonzales. Q I don't know what's going on, Mayor. I'm sorry. No. It's it's Election Day. I know. That's okay. I just want to say thank you to Diana and to Vice Mayor Richardson. And now we have Councilmember Saranga that will be joining us at our next Fed. Federal legislation relation trip. And so I think vice mayor reiterated many of the new actions that we'll be taking when we go to D.C. and also here on the dais when we're discussing Long Beach initiatives. But the things that kind of pop out in my mind, the items, of course, are immigration issues related to DOCA and the new executive order, specifically with the ban on predominantly Muslim countries environmental protections, which I know we'll have to really look a little bit more into, and then securing our major capital projects like many of the initiatives that we have citywide. I want to make sure that we're securing those and that funding is going through us as we see fit. So thank you very much for your work and I look forward to working with you all again. Thank you. Councilmember Ringo. Thank you, Mayor. It's going to be my first year on this committee and I'm looking forward to it. It's going to be quite a challenging year. Obviously, we've had a change in in our presidency and a different focus. And so I'm looking forward to advocating for the city on behalf of a Long Beach. Thank you. Councilmember Pearce. Yeah, I just want to say, you know, I took the time to read through everything on the agenda and I just it made me really proud to be a part of this council and to look at everything from immigration to gun control, violence prevention, affordable housing. A lot of the things that we aspire to do that sometimes are challenging and tough. And I know that we can't do it all, but I just really thank you for making sure that this is comprehensive and that we, despite what's happening at the federal level, are continuing to advocate and protect those that live in our communities here. So thank you. Thank you. Any public comment on this saying please cast your votes. Councilman, your anger. Motion passes.\""
      ]
     },
     "execution_count": 32,
     "metadata": {},
     "output_type": "execute_result"
    }
   ],
   "source": [
    "train_df_sorted['transcript'][2]"
   ]
  },
  {
   "cell_type": "code",
   "execution_count": 56,
   "id": "6529b95e",
   "metadata": {},
   "outputs": [
    {
     "name": "stdout",
     "output_type": "stream",
     "text": [
      "\"Motion passes. Hey, thank you very much. Now we're moving on to item 22. Communication from Vice Mayor Richardson Recommendation to request City Council approval of the 2017 Federal Legislative Agenda as recommended by the Federal Legislation Committee. There's a motion and a second Vice Mayor. So just a few updates here we have. So we met in November on November 15th to review staff's recommended-recommended changes for the 2017 Federal Legislative Agenda. The committee made some fairly substantive changes to the agenda last year when we were reorganized and consolidated some of the statements that may have been repetitive in years past. And because we made so many, so many changes in the last update, and as the new Presidential Administration gets up and running, the first large committee will be focused on protecting existing revenues that the City currently receives from the Federal Government, such as the Housing Choice Voucher Program, commonly known as Section 8, CDBG, other HUD programs. We're also going to take a look at workforce programs and supporting those as well. And our existing legislative agenda already empowers us to do that. The committee heard that, you know, the committee may have heard that there's one particular area of the legislative agenda that could use some additional language. That's the area of violence prevention and services to stem the homeless crisis in L.A. County. And because of all of our work, our Mayor, City Council, City staff have done around violence prevention. Staff recommended that we add language in the Public Safety section to support federal legislation that would assist with the implementation of violence prevention programs and in the area of homeless prevention. Staff recommended that the City Council support the City, support federal assistance toward establishing substance use treatment facilities in the region. Language to support mental health services is already existing there. Our committee voted to receive a file. All of staff's recommended and recommended changes and for those to the City Council for adoption tonight. Since our meeting in November, a number of executive orders signed by the new President make it so that we need to update an existing statement in our agenda supporting the expansion of dockets. Read one that reads Supporting federal legislation that maintains existing allowances for undocumented immigrants to who qualify for the DOCA program to remain in the United States, as well as being as well as any legislation that protects safety and well-being of all Californians by ensuring state and local race resources are not used to support deportations. Collect information about individuals or religious beliefs or affiliations that ultimately hurt California's economy. Specific to the DOCA program, we're talking about immigrants who enter the U.S. before the 16th birthday and before June 27 are currently in high school or high school graduate honorably discharged in the military under the age of 31 as of June 15, 2012, and have not been convicted of a felony, significant misdemeanor, or other or three other misdemeanors otherwise pose a threat to national security. So these recommended changes come because there's been, you know, since these executive orders, a number of bills that have come out. And we wanted to make sure that our language and our letter agenda is wide and comprehensive enough to support different bills, whether it's, you know, Feinstein's bill or other other people's bills that go forward, it still maintains the intent to support the DOCA language. And so that is sort of a highlight on what we're doing tonight Thanks. Thank you, Councilmember Urie. Councilmember Gonzalez. I'll defer Gonzalez first. Councilman Gonzalez. Hugh, I don't know what's going on, Mayor. I'm sorry. No. It's it's election day. I know. That's okay. I just want to say thank you to Diana and to Vice Mayor Richardson. And to Councilmember Saranga that will be joining us at our next federal-federal legislation relation trip. And so I think Vice Mayor reiterated many of the new actions that we'll be taking when we go to D.C. And also here on the dais when we're discussing Long Beach initiatives. But the things that kind of pop out in my mind, the items, of course, are the federal protections, which I know we'll have to really look a little bit more into, and then securing our major capital projects like many of the initiatives that we have citywide. I want to make sure that we're securing those and that funding is going through us as we see fit. So thank you very much for your work and I look forward to working with you all again. Thank you. Councilmember Ringo. Thank you, Mayor. I'm looking forward to it. It's going to be quite a challenging year. Obviously, we've had a change-in in our presidency and a different focus. And so I'm looking forward to advocating for the city on behalf of a Long Beach. Thank you. Councilmember Pierce. Yeah, I just want to say, you know, I took the time to read through everything on the agenda and I just it made me really proud to be a part of this council and to look at everything from immigration to gun control, violence prevention, affordable housing. A lot of the things that we aspire to do that sometimes are challenging and tough. And I know that we can't do it all, but I just really thank you for making sure that this is comprehensive and that we, despite what's happening at the federal level, are continuing to advocate and protect those that live in our communities here. So thank you. Thank you. Any public comment on this saying your votes. Councilman, your anger. Motion passes.\n",
      "\"\n"
     ]
    }
   ],
   "source": [
    "#audio transcription bot\n",
    "from openai import OpenAI\n",
    "\n",
    "client = OpenAI()\n",
    "audio_file = open(\"luvvoice.com-20250427-sbtVaC.mp3\", 'rb')\n",
    "\n",
    "transcribed_audio = client.audio.transcriptions.create(\n",
    "    file=audio_file,\n",
    "    model='whisper-1',\n",
    "    response_format='text'\n",
    ")\n",
    "transcribed_audio = '\"' + transcribed_audio + '\"'\n",
    "print(transcribed_audio)"
   ]
  },
  {
   "cell_type": "markdown",
   "id": "eab6c59f",
   "metadata": {},
   "source": [
    "# the following models will take in either the transcribed audio, or a transcribed text document!"
   ]
  },
  {
   "cell_type": "code",
   "execution_count": 57,
   "id": "eb3ee435",
   "metadata": {},
   "outputs": [
    {
     "name": "stdout",
     "output_type": "stream",
     "text": [
      "The text is a transcript of a meeting where Vice Mayor Richardson recommended the approval of the 2017 Federal Legislative Agenda as recommended by the Federal Legislation Committee. The meeting took place on November 15th to review the recommended changes for the agenda. The committee made substantial changes to the agenda from the previous year to consolidate and eliminate repetitive statements. The focus was on protecting existing revenues received from the Federal Government, such as the Housing Choice Voucher Program and other HUD programs, as well as supporting workforce programs and mental health services.\n",
      "\n",
      "The committee also discussed adding language to support federal legislation that would assist in implementing violence prevention programs and homeless prevention. They recommended that the City Council support federal assistance towards establishing substance use treatment facilities in the region. The existing legislative agenda already empowers them to do so.\n",
      "\n",
      "The committee received a file and voted to send all recommended changes to the City Council for adoption. Since the meeting in November, several executive orders signed by the new President necessitate updating an existing statement in their agenda to support the expansion of dockets.\n",
      "\n",
      "The text also mentions the importance of advocating for the city's interests in Washington D.C. and Long Beach initiatives, despite challenges at the federal level. The speakers expressed gratitude for the work done and looked forward to continuing to advocate and protect the residents of their communities.\n"
     ]
    }
   ],
   "source": [
    "#summary bot\n",
    "\n",
    "llm = ChatOpenAI(openai_api_key=OPENAI_API_KEY, model_name=OPENAI_MODEL, temperature=0)\n",
    "\n",
    "\n",
    "prompt = ChatPromptTemplate.from_messages(\n",
    "    [(\"system\", \"Write a detailed summary of the following:\\\\n\\\\n{text}\")]\n",
    ")\n",
    "\n",
    "# Create Document objects from the filtered transcripts\n",
    "docs = [Document(page_content=text) for text in transcribed_audio]\n",
    "\n",
    "# Instantiate chain\n",
    "chain = load_summarize_chain(llm, chain_type=\"stuff\", prompt=prompt)\n",
    "\n",
    "# Invoke chain\n",
    "try:\n",
    "    result = chain.invoke({\"input_documents\": docs})\n",
    "    print(result['output_text'])\n",
    "except Exception as e:\n",
    "    print(f\"An error occurred: {e}\")"
   ]
  },
  {
   "cell_type": "code",
   "execution_count": 94,
   "id": "093dc255",
   "metadata": {},
   "outputs": [
    {
     "name": "stdout",
     "output_type": "stream",
     "text": [
      "- Request City Council approval of the 2017 Federal Legislative Agenda\n",
      "- Support federal legislation for violence prevention programs\n",
      "- Support federal assistance towards establishing substance use treatment facilities\n",
      "- Support legislation for mental health services\n",
      "- Support federal legislation for DOCA program\n",
      "- Advocate for city's major capital projects\n",
      "- Continue advocating for gun control, violence prevention, and affordable housing\n",
      "- Public comment on the agenda\n",
      "- Motion Passes\n"
     ]
    }
   ],
   "source": [
    "# Call to action bot\n",
    "prompt2 = \"\"\"You are an intelligent assistant tasked with extracting all unique calls to action from the following text. Return each call to action seperately with a newline character. For example:\n",
    "\n",
    "-Call to Action 1\n",
    "-Call to Action 2\n",
    "-Call to Action 3\n",
    "...\n",
    "\n",
    "Here is the text:\n",
    "\"\"\"\n",
    "\n",
    "# Instantiate chain\n",
    "chain3 = client.chat.completions.create(\n",
    "    model=OPENAI_MODEL,\n",
    "    messages=[{'role': 'system', 'content': prompt2},\n",
    "              {'role': 'user', 'content': transcribed_audio}]\n",
    ")\n",
    "\n",
    "calls = chain3.choices[0].message.content\n",
    "print(calls)"
   ]
  },
  {
   "cell_type": "code",
   "execution_count": null,
   "id": "e54b4cfb",
   "metadata": {},
   "outputs": [
    {
     "name": "stdout",
     "output_type": "stream",
     "text": [
      "- Advocate for the City Council to approve the 2017 Federal Legislative Agenda\n",
      "- Support existing revenue sources from the Federal Government\n",
      "- Review and implement recommended changes for the 2017 Federal Legislative Agenda\n",
      "- Focus on protecting existing revenues and supporting workforce programs\n",
      "- Add language to support mental health services and violence prevention\n",
      "- Support federal legislation for undocumented immigrants and public safety\n",
      "- Collect information on individuals or religious affiliations that may harm California's economy\n",
      "- Advocate for comprehensive and inclusive legislative agenda\n",
      "- Thank Mayor, Vice Mayor, and Council members for their work\n",
      "- Ensure funding for major capital projects\n",
      "- Thank everyone for their efforts and advocacy\n",
      "- Encourage public comments on the issue\n",
      "- Acknowledge Councilman's anger\n",
      "- Motion passes.\n"
     ]
    }
   ],
   "source": [
    "'''# call to action bot\n",
    "\n",
    "llm2 = ChatOpenAI(openai_api_key=OPENAI_API_KEY, model_name=OPENAI_MODEL, temperature=0.05)\n",
    "\n",
    "\n",
    "prompt2 = ChatPromptTemplate.from_messages(\n",
    "    [(\"system\", \"Return calls to action in bullet point form, of the following:\\\\n\\\\n{text}\")]\n",
    ")\n",
    "\n",
    "# Create Document objects from the filtered transcripts\n",
    "docs = [Document(page_content=text) for text in transcribed_audio]\n",
    "\n",
    "# Instantiate chain\n",
    "chain2 = load_summarize_chain(llm, chain_type=\"stuff\", prompt=prompt2)\n",
    "\n",
    "# Invoke chain\n",
    "try:\n",
    "    result2 = chain2.invoke({\"input_documents\": docs})\n",
    "    print(result2['output_text'])\n",
    "except Exception as e:\n",
    "    print(f\"An error occurred: {e}\")'''"
   ]
  },
  {
   "cell_type": "code",
   "execution_count": 95,
   "id": "40786b72",
   "metadata": {},
   "outputs": [
    {
     "name": "stdout",
     "output_type": "stream",
     "text": [
      "Summary:\n",
      "\n",
      "The text is a transcript of a meeting where Vice Mayor Richardson recommended the approval of the 2017 Federal Legislative Agenda as recommended by the Federal Legislation Committee. The meeting took place on November 15th to review the recommended changes for the agenda. The committee made substantial changes to the agenda from the previous year to consolidate and eliminate repetitive statements. The focus was on protecting existing revenues received from the Federal Government, such as the Housing Choice Voucher Program and other HUD programs, as well as supporting workforce programs and mental health services.\n",
      "\n",
      "The committee also discussed adding language to support federal legislation that would assist in implementing violence prevention programs and homeless prevention. They recommended that the City Council support federal assistance towards establishing substance use treatment facilities in the region. The existing legislative agenda already empowers them to do so.\n",
      "\n",
      "The committee received a file and voted to send all recommended changes to the City Council for adoption. Since the meeting in November, several executive orders signed by the new President necessitate updating an existing statement in their agenda to support the expansion of dockets.\n",
      "\n",
      "The text also mentions the importance of advocating for the city's interests in Washington D.C. and Long Beach initiatives, despite challenges at the federal level. The speakers expressed gratitude for the work done and looked forward to continuing to advocate and protect the residents of their communities.\n",
      "\n",
      "Calls to Action:\n",
      "\n",
      "- Request City Council approval of the 2017 Federal Legislative Agenda\n",
      "\n",
      "- Support federal legislation for violence prevention programs\n",
      "\n",
      "- Support federal assistance towards establishing substance use treatment facilities\n",
      "\n",
      "- Support legislation for mental health services\n",
      "\n",
      "- Support federal legislation for DOCA program\n",
      "\n",
      "- Advocate for city's major capital projects\n",
      "\n",
      "- Continue advocating for gun control, violence prevention, and affordable housing\n",
      "\n",
      "- Public comment on the agenda\n",
      "\n",
      "- Motion Passes\n"
     ]
    }
   ],
   "source": [
    "meeting_results = {'summary': result['output_text'], 'action calls': calls}\n",
    "\n",
    "meeting_results['summary'] = 'Summary:\\n\\n' + meeting_results['summary'] + '\\n'\n",
    "meeting_results['action calls'] = ('Calls to Action:\\n' + meeting_results['action calls']).replace('\\n', '\\n\\n')\n",
    "\n",
    "print(meeting_results['summary'])\n",
    "print(meeting_results['action calls'])"
   ]
  },
  {
   "cell_type": "code",
   "execution_count": 96,
   "id": "6e6d690a",
   "metadata": {},
   "outputs": [
    {
     "name": "stdout",
     "output_type": "stream",
     "text": [
      "Summary:\n",
      "\n",
      "The meeting was held to review and recommend changes to the 2017 Federal Legislative Agenda as proposed by the Federal Legislation Committee. The focus was on protecting existing revenues from the Federal Government, supporting workforce programs, mental health services, violence prevention programs, homeless prevention, and substance use treatment facilities. The committee voted to send all recommended changes to the City Council for adoption, including updates necessitated by recent executive orders. The importance of advocating for the city's interests in Washington D.C. and Long Beach initiatives was emphasized, with gratitude expressed for the work done and a commitment to continue advocating for the residents of their communities.\n",
      "\n",
      "Calls to Action\n",
      "\n",
      "- Request City Council approval of the 2017 Federal Legislative Agenda\n",
      "\n",
      "- Support federal legislation for violence prevention programs\n",
      "\n",
      "- Support federal assistance towards establishing substance use treatment facilities\n",
      "\n",
      "- Support legislation for mental health services\n",
      "\n",
      "- Support federal legislation for DOCA program\n",
      "\n",
      "- Advocate for city's major capital projects\n",
      "\n",
      "- Continue advocating for gun control, violence prevention, and affordable housing\n",
      "\n",
      "- Public comment on the agenda\n"
     ]
    }
   ],
   "source": [
    "from langchain.embeddings import SentenceTransformerEmbeddings\n",
    "from langchain.vectorstores import FAISS\n",
    "from langchain.chains import RetrievalQA\n",
    "\n",
    "\n",
    "results = [meeting_results['summary'], meeting_results['action calls']]\n",
    "\n",
    "embeddings = SentenceTransformerEmbeddings(model_name='all-mpnet-base-v2')\n",
    "\n",
    "docsearch = FAISS.from_texts(\n",
    "    texts=results,\n",
    "    embedding=embeddings\n",
    ")\n",
    "\n",
    "llm3 = ChatOpenAI(openai_api_key=OPENAI_API_KEY, model=OPENAI_MODEL, temperature=0)\n",
    "\n",
    "qa = RetrievalQA.from_chain_type(\n",
    "    llm=llm3,\n",
    "    chain_type='stuff',\n",
    "    retriever=docsearch.as_retriever(search_kwargs={'k':1}),\n",
    "    return_source_documents=False\n",
    ")\n",
    "\n",
    "\n",
    "query = 'What is the summary for this meeting?'\n",
    "\n",
    "response = qa.invoke(query)\n",
    "print('Summary:\\n')\n",
    "print(response['result'] + '\\n')\n",
    "\n",
    "query_cta = 'What calls to action were mentioned?'\n",
    "\n",
    "response_cta = qa.invoke(query_cta + ' Return output in bullet points')\n",
    "print('Calls to Action\\n')\n",
    "print(response_cta['result'].replace('\\n', '\\n\\n'))"
   ]
  },
  {
   "cell_type": "code",
   "execution_count": 99,
   "id": "f410422e",
   "metadata": {},
   "outputs": [
    {
     "name": "stdout",
     "output_type": "stream",
     "text": [
      "Vice Mayor Richardson\n",
      "Councilmember Urie\n",
      "Councilmember Gonzalez\n",
      "Councilmember Saranga\n",
      "Councilmember Ringo\n",
      "Councilmember Pierce\n"
     ]
    }
   ],
   "source": [
    "# NER bot\n",
    "prompt3 = \"\"\"You are a smart and intelligent Named Entity Recognition (NER) system. You will extract the unique first and last names from the following text and separate each name with a newline character.\n",
    "\n",
    "Name 1\n",
    "Name 2\n",
    "Name 3\n",
    "...\n",
    "\n",
    "Here is the text:\n",
    "\"\"\"\n",
    "\n",
    "# Instantiate chain\n",
    "chain3 = client.chat.completions.create(\n",
    "    model=OPENAI_MODEL,\n",
    "    messages=[{'role': 'system', 'content': prompt3},\n",
    "              {'role': 'user', 'content': transcribed_audio}]\n",
    ")\n",
    "\n",
    "names = chain3.choices[0].message.content\n",
    "print(names)"
   ]
  },
  {
   "cell_type": "code",
   "execution_count": 100,
   "id": "947c3fa1",
   "metadata": {},
   "outputs": [
    {
     "data": {
      "text/plain": [
       "['Vice Mayor Richardson',\n",
       " 'Councilmember Urie',\n",
       " 'Councilmember Gonzalez',\n",
       " 'Councilmember Saranga',\n",
       " 'Councilmember Ringo',\n",
       " 'Councilmember Pierce']"
      ]
     },
     "execution_count": 100,
     "metadata": {},
     "output_type": "execute_result"
    }
   ],
   "source": [
    "names_list = names.split('\\n')\n",
    "names_list"
   ]
  },
  {
   "cell_type": "code",
   "execution_count": 101,
   "id": "c1e9ccb3",
   "metadata": {},
   "outputs": [],
   "source": [
    "# dummy emails\n",
    "members_emails = ['vice.richardson@example.org',\n",
    "'c.urie@gov-office.net',\n",
    "'gonzalez.council@city-hall.gov',\n",
    "'s.saranga@district.us',\n",
    "'council.ringo@local-authority.com',\n",
    "'p.pierce@towncouncil.info']"
   ]
  },
  {
   "cell_type": "code",
   "execution_count": 136,
   "id": "35899921",
   "metadata": {},
   "outputs": [
    {
     "data": {
      "text/html": [
       "<div>\n",
       "<style scoped>\n",
       "    .dataframe tbody tr th:only-of-type {\n",
       "        vertical-align: middle;\n",
       "    }\n",
       "\n",
       "    .dataframe tbody tr th {\n",
       "        vertical-align: top;\n",
       "    }\n",
       "\n",
       "    .dataframe thead th {\n",
       "        text-align: right;\n",
       "    }\n",
       "</style>\n",
       "<table border=\"1\" class=\"dataframe\">\n",
       "  <thead>\n",
       "    <tr style=\"text-align: right;\">\n",
       "      <th></th>\n",
       "      <th>member</th>\n",
       "      <th>email</th>\n",
       "    </tr>\n",
       "  </thead>\n",
       "  <tbody>\n",
       "    <tr>\n",
       "      <th>0</th>\n",
       "      <td>Vice Mayor Richardson</td>\n",
       "      <td>vice.richardson@example.org</td>\n",
       "    </tr>\n",
       "    <tr>\n",
       "      <th>1</th>\n",
       "      <td>Councilmember Urie</td>\n",
       "      <td>c.urie@gov-office.net</td>\n",
       "    </tr>\n",
       "    <tr>\n",
       "      <th>2</th>\n",
       "      <td>Councilmember Gonzalez</td>\n",
       "      <td>gonzalez.council@city-hall.gov</td>\n",
       "    </tr>\n",
       "    <tr>\n",
       "      <th>3</th>\n",
       "      <td>Councilmember Saranga</td>\n",
       "      <td>s.saranga@district.us</td>\n",
       "    </tr>\n",
       "    <tr>\n",
       "      <th>4</th>\n",
       "      <td>Councilmember Ringo</td>\n",
       "      <td>council.ringo@local-authority.com</td>\n",
       "    </tr>\n",
       "    <tr>\n",
       "      <th>5</th>\n",
       "      <td>Councilmember Pierce</td>\n",
       "      <td>p.pierce@towncouncil.info</td>\n",
       "    </tr>\n",
       "  </tbody>\n",
       "</table>\n",
       "</div>"
      ],
      "text/plain": [
       "                   member                              email\n",
       "0   Vice Mayor Richardson        vice.richardson@example.org\n",
       "1      Councilmember Urie              c.urie@gov-office.net\n",
       "2  Councilmember Gonzalez     gonzalez.council@city-hall.gov\n",
       "3   Councilmember Saranga              s.saranga@district.us\n",
       "4     Councilmember Ringo  council.ringo@local-authority.com\n",
       "5    Councilmember Pierce          p.pierce@towncouncil.info"
      ]
     },
     "execution_count": 136,
     "metadata": {},
     "output_type": "execute_result"
    }
   ],
   "source": [
    "members_info = pd.DataFrame({'member': names_list, 'email': members_emails})\n",
    "members_info"
   ]
  },
  {
   "cell_type": "code",
   "execution_count": 105,
   "id": "5015d36e",
   "metadata": {},
   "outputs": [
    {
     "name": "stdout",
     "output_type": "stream",
     "text": [
      "Vice Mayor Richardson: request City Council approval of the 2017 Federal Legislative Agenda\n",
      "Councilmember Urie: add language in the Public Safety section to support federal legislation\n",
      "Mayor: update an existing statement in our agenda supporting the expansion of dockets\n",
      "Councilman Gonzalez: federal protections\n",
      "Councilmember Saranga: federal-federal legislation relation trip\n",
      "Councilmember Ringo: advocating for the city on behalf of Long Beach\n",
      "Councilmember Pierce: comprehensive advocacy for immigration, gun control, violence prevention, affordable housing\n"
     ]
    }
   ],
   "source": [
    "members = members_info['members']\n",
    "\n",
    "# NER bot 2\n",
    "prompt4 = \"\"\"You are a smart and intelligent Named Entity Recognition (NER) system. You will identify Unique calls to action and the names of the people the calls to action are directed towards. For example\n",
    "\n",
    "Name 1: Call to Action\n",
    "Name 2: Call to Action\n",
    "Name 3: Call to Action\n",
    "...\n",
    "\n",
    "Here is the text:\n",
    "\"\"\"\n",
    "\n",
    "# Instantiate chain\n",
    "chain3 = client.chat.completions.create(\n",
    "    model=OPENAI_MODEL,\n",
    "    messages=[{'role': 'system', 'content': prompt4},\n",
    "              {'role': 'user', 'content': transcribed_audio}]\n",
    ")\n",
    "\n",
    "names_calls = chain3.choices[0].message.content\n",
    "print(names_calls)"
   ]
  },
  {
   "cell_type": "code",
   "execution_count": 113,
   "id": "93f3c1e1",
   "metadata": {},
   "outputs": [
    {
     "data": {
      "text/plain": [
       "['Vice Mayor Richardson',\n",
       " 'request City Council approval of the 2017 Federal Legislative Agenda',\n",
       " 'Councilmember Urie',\n",
       " 'add language in the Public Safety section to support federal legislation',\n",
       " 'Mayor',\n",
       " 'update an existing statement in our agenda supporting the expansion of dockets',\n",
       " 'Councilman Gonzalez',\n",
       " 'federal protections',\n",
       " 'Councilmember Saranga',\n",
       " 'federal-federal legislation relation trip',\n",
       " 'Councilmember Ringo',\n",
       " 'advocating for the city on behalf of Long Beach',\n",
       " 'Councilmember Pierce',\n",
       " 'comprehensive advocacy for immigration, gun control, violence prevention, affordable housing']"
      ]
     },
     "execution_count": 113,
     "metadata": {},
     "output_type": "execute_result"
    }
   ],
   "source": [
    "import re\n",
    "\n",
    "delimiters = [r\": \", \"\\n\"]\n",
    "pattern = \"|\".join(map(re.escape, delimiters))\n",
    "\n",
    "names_calls_list = re.split(pattern, names_calls)\n",
    "names_calls_list"
   ]
  },
  {
   "cell_type": "code",
   "execution_count": 135,
   "id": "a92ecfc9",
   "metadata": {},
   "outputs": [
    {
     "data": {
      "text/html": [
       "<div>\n",
       "<style scoped>\n",
       "    .dataframe tbody tr th:only-of-type {\n",
       "        vertical-align: middle;\n",
       "    }\n",
       "\n",
       "    .dataframe tbody tr th {\n",
       "        vertical-align: top;\n",
       "    }\n",
       "\n",
       "    .dataframe thead th {\n",
       "        text-align: right;\n",
       "    }\n",
       "</style>\n",
       "<table border=\"1\" class=\"dataframe\">\n",
       "  <thead>\n",
       "    <tr style=\"text-align: right;\">\n",
       "      <th></th>\n",
       "      <th>member</th>\n",
       "      <th>action</th>\n",
       "    </tr>\n",
       "  </thead>\n",
       "  <tbody>\n",
       "    <tr>\n",
       "      <th>0</th>\n",
       "      <td>Vice Mayor Richardson</td>\n",
       "      <td>request City Council approval of the 2017 Fede...</td>\n",
       "    </tr>\n",
       "    <tr>\n",
       "      <th>1</th>\n",
       "      <td>Councilmember Urie</td>\n",
       "      <td>add language in the Public Safety section to s...</td>\n",
       "    </tr>\n",
       "    <tr>\n",
       "      <th>2</th>\n",
       "      <td>Mayor</td>\n",
       "      <td>update an existing statement in our agenda sup...</td>\n",
       "    </tr>\n",
       "    <tr>\n",
       "      <th>3</th>\n",
       "      <td>Councilman Gonzalez</td>\n",
       "      <td>federal protections</td>\n",
       "    </tr>\n",
       "    <tr>\n",
       "      <th>4</th>\n",
       "      <td>Councilmember Saranga</td>\n",
       "      <td>federal-federal legislation relation trip</td>\n",
       "    </tr>\n",
       "    <tr>\n",
       "      <th>5</th>\n",
       "      <td>Councilmember Ringo</td>\n",
       "      <td>advocating for the city on behalf of Long Beach</td>\n",
       "    </tr>\n",
       "    <tr>\n",
       "      <th>6</th>\n",
       "      <td>Councilmember Pierce</td>\n",
       "      <td>comprehensive advocacy for immigration, gun co...</td>\n",
       "    </tr>\n",
       "  </tbody>\n",
       "</table>\n",
       "</div>"
      ],
      "text/plain": [
       "                  member                                             action\n",
       "0  Vice Mayor Richardson  request City Council approval of the 2017 Fede...\n",
       "1     Councilmember Urie  add language in the Public Safety section to s...\n",
       "2                  Mayor  update an existing statement in our agenda sup...\n",
       "3    Councilman Gonzalez                                federal protections\n",
       "4  Councilmember Saranga          federal-federal legislation relation trip\n",
       "5    Councilmember Ringo    advocating for the city on behalf of Long Beach\n",
       "6   Councilmember Pierce  comprehensive advocacy for immigration, gun co..."
      ]
     },
     "execution_count": 135,
     "metadata": {},
     "output_type": "execute_result"
    }
   ],
   "source": [
    "meeting_actions = {}\n",
    "i = 0\n",
    "while i < len(names_calls_list) - 1:\n",
    "    name = names_calls_list[i].strip()\n",
    "    action = names_calls_list[i + 1].strip()\n",
    "    meeting_actions[name] = action\n",
    "    i += 2\n",
    "\n",
    "meeting_actions = pd.DataFrame.from_dict([meeting_actions]).T\n",
    "meeting_actions = meeting_actions.reset_index()\n",
    "meeting_actions = meeting_actions.rename(columns={'index': 'member', 0: 'action'})\n",
    "meeting_actions"
   ]
  },
  {
   "cell_type": "code",
   "execution_count": null,
   "id": "b13c0ebe",
   "metadata": {},
   "outputs": [],
   "source": []
  }
 ],
 "metadata": {
  "kernelspec": {
   "display_name": "dev",
   "language": "python",
   "name": "python3"
  },
  "language_info": {
   "codemirror_mode": {
    "name": "ipython",
    "version": 3
   },
   "file_extension": ".py",
   "mimetype": "text/x-python",
   "name": "python",
   "nbconvert_exporter": "python",
   "pygments_lexer": "ipython3",
   "version": "3.12.9"
  }
 },
 "nbformat": 4,
 "nbformat_minor": 5
}
